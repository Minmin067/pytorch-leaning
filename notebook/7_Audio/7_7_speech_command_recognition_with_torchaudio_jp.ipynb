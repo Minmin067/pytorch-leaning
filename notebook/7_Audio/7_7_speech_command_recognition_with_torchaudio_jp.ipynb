{
  "nbformat": 4,
  "nbformat_minor": 0,
  "metadata": {
    "kernelspec": {
      "display_name": "Python 3",
      "language": "python",
      "name": "python3"
    },
    "language_info": {
      "codemirror_mode": {
        "name": "ipython",
        "version": 3
      },
      "file_extension": ".py",
      "mimetype": "text/x-python",
      "name": "python",
      "nbconvert_exporter": "python",
      "pygments_lexer": "ipython3",
      "version": "3.6.12"
    },
    "colab": {
      "name": "7_7_speech_command_recognition_with_torchaudio_jp.ipynb",
      "provenance": [],
      "toc_visible": true
    },
    "accelerator": "GPU"
  },
  "cells": [
    {
      "cell_type": "markdown",
      "metadata": {
        "id": "FCTYVZciF6UA"
      },
      "source": [
        "「tourchaudioを用いた音声コマンド認識ニューラルネットワークの構築」\n",
        "======\n",
        "【原題】SPEECH COMMAND RECOGNITION WITH TORCHAUDIO\n",
        "\n",
        "【元URL】https://pytorch.org/tutorials/intermediate/speech_command_recognition_with_torchaudio.html#importing-the-dataset\n",
        "\n",
        "【翻訳】電通国際情報サービスISID AIトランスフォーメーションセンター　大串 和正\n",
        "\n",
        "【日付】2021年4月17日\n",
        "\n",
        "【チュトーリアル概要】<br>\n",
        "``torchaudio``を使い、ニューラルネットワークを構築、訓練し音声コマンドを認識します。\n",
        "\n",
        "---\n"
      ]
    },
    {
      "cell_type": "markdown",
      "metadata": {
        "id": "yuUzVGbG7e42"
      },
      "source": [
        "\n",
        "\n",
        "本チュートリアルでは音声データセットを正しく構成する方法とそのデータセットを用いて音声分類ネットワークを訓練・テストする方法を紹介します。\n",
        "\n"
      ]
    },
    {
      "cell_type": "markdown",
      "metadata": {
        "id": "pEWnZCw8mt3I"
      },
      "source": [
        "ColabではGPUを使うオプションがあります。\n",
        "\n",
        "メニュータブの\"ランタイム\"の中の\"ランタイムのタイプを変更\"を選択してください。\n",
        "\n",
        "ポップアップが表示されるので、GPUを選択することができます。\n",
        "\n",
        "変更後ランタイムは自動で再起動されます(実行済みセルの情報は消去されます)。\n",
        "\n",
        "<br>\n",
        "\n",
        "（日本語訳注：この日本語チュートリアルではGPUを使用したGoogle Colabでの実行を想定し、既にランタイムのタイプをGPUにしています）\n"
      ]
    },
    {
      "cell_type": "markdown",
      "metadata": {
        "id": "oUCB7VORmx8x"
      },
      "source": [
        "最初に、共通で使用する[torchaudio](https://github.com/pytorch/audio)などのパッケージをインポートします。\n",
        "\n",
        "パッケージのインストール方法は次のセルのコメントを参照してください。\n",
        "\n"
      ]
    },
    {
      "cell_type": "code",
      "metadata": {
        "id": "Aa5zw5CH7e4w"
      },
      "source": [
        "%matplotlib inline"
      ],
      "execution_count": null,
      "outputs": []
    },
    {
      "cell_type": "code",
      "metadata": {
        "id": "U3HYud4d7e43"
      },
      "source": [
        "# Google Colabで実行するには以下の行をアンコメントしてください\n",
        "\n",
        "# CPU:\n",
        "# !pip install torch==1.7.0+cpu torchvision==0.8.1+cpu torchaudio==0.7.0 -f https://download.pytorch.org/whl/torch_stable.html\n",
        "\n",
        "# GPU:\n",
        "!pip install torch torchvision torchaudio\n",
        "\n",
        "# 本チュートリアルの最後にあるデモ実行に必要:\n",
        "!pip install pydub\n",
        "\n",
        "import torch\n",
        "import torch.nn as nn\n",
        "import torch.nn.functional as F\n",
        "import torch.optim as optim\n",
        "import torchaudio\n",
        "\n",
        "import matplotlib.pyplot as plt\n",
        "import IPython.display as ipd\n",
        "from tqdm.notebook import tqdm"
      ],
      "execution_count": null,
      "outputs": []
    },
    {
      "cell_type": "markdown",
      "metadata": {
        "id": "-6skfyjS7e43"
      },
      "source": [
        "CUDA GPUが利用可能か確認し、デバイスの設定をします。\n",
        "\n",
        "GPU上でネットワークを実行することで訓練/テストの実行時間が大幅に短縮されます。\n"
      ]
    },
    {
      "cell_type": "code",
      "metadata": {
        "id": "xDdKHDAf7e43"
      },
      "source": [
        "device = torch.device(\"cuda\" if torch.cuda.is_available() else \"cpu\")\n",
        "print(device)\n",
        "\n",
        "# 日本語訳注：cudaと出力されればOKです"
      ],
      "execution_count": null,
      "outputs": []
    },
    {
      "cell_type": "markdown",
      "metadata": {
        "id": "sxQYoeHb7e44"
      },
      "source": [
        "データセットのインポート\n",
        "---------------------\n",
        "\n",
        "torchaudioを使ってデータセットをダウンロードし、使えるように準備します。\n",
        "\n",
        "本チュートリアルでは、[``SpeechCommands``](https://arxiv.org/abs/1804.03209)を使用します。\n",
        "\n",
        "このデータセットは様々な人物によって発話された35個の命令から構成されています。\n",
        "\n",
        "``SPEECHCOMMANDS``はこのデータセットの``torch.utils.data.Dataset``版となります。\n",
        "\n",
        "各データの音声の長さはおよそ1秒 (従って約16000フレーム) です。\n",
        "\n",
        "\n"
      ]
    },
    {
      "cell_type": "markdown",
      "metadata": {
        "id": "Y5NyEpWQn0Dj"
      },
      "source": [
        "実際のデータ読み込みと整形は、データポイントへアクセスした時点から始まり、torchaudioは音声データファイルをテンソルへ変換処理します。\n",
        "\n",
        "\n",
        "代わりに音声ファイルを直接読み込む場合は、``torchaudio.load()``を使います。\n",
        "\n",
        "この関数は新しく作成されたテンソルと音声データのサンプリング周波数 (SpeechCommandsの場合は16kHz) のタプルを返します。\n",
        "\n",
        "今回はデータセットを標準的な訓練、検証、テストのサブセットに分割するサブクラスを実装します。\n"
      ]
    },
    {
      "cell_type": "code",
      "metadata": {
        "id": "TkUzj7Pk7e44"
      },
      "source": [
        "from torchaudio.datasets import SPEECHCOMMANDS\n",
        "import os\n",
        "\n",
        "\n",
        "class SubsetSC(SPEECHCOMMANDS):\n",
        "    def __init__(self, subset: str = None):\n",
        "        super().__init__(\"./\", download=True)\n",
        "\n",
        "        def load_list(filename):\n",
        "            filepath = os.path.join(self._path, filename)\n",
        "            with open(filepath) as fileobj:\n",
        "                return [os.path.join(self._path, line.strip()) for line in fileobj]\n",
        "\n",
        "        if subset == \"validation\":\n",
        "            self._walker = load_list(\"validation_list.txt\")\n",
        "        elif subset == \"testing\":\n",
        "            self._walker = load_list(\"testing_list.txt\")\n",
        "        elif subset == \"training\":\n",
        "            excludes = load_list(\"validation_list.txt\") + load_list(\"testing_list.txt\")\n",
        "            excludes = set(excludes)\n",
        "            self._walker = [w for w in self._walker if w not in excludes]\n",
        "\n",
        "\n",
        "# 訓練セットとテストセットを作成。本チュートリアルでは検証セットは使用しません。。\n",
        "train_set = SubsetSC(\"training\")\n",
        "test_set = SubsetSC(\"testing\")\n",
        "\n",
        "waveform, sample_rate, label, speaker_id, utterance_number = train_set[0]"
      ],
      "execution_count": null,
      "outputs": []
    },
    {
      "cell_type": "markdown",
      "metadata": {
        "id": "ASve0uxw7e45"
      },
      "source": [
        "SPEECHCOMMANDSデータセットの各データは、波形データ(音声信号)、サンプリングレート、命令(ラベル)、話者のID、発話数からなるタプルになっています。\n",
        "\n"
      ]
    },
    {
      "cell_type": "code",
      "metadata": {
        "id": "mgoXDjPk7e45"
      },
      "source": [
        "print(\"Shape of waveform: {}\".format(waveform.size()))\n",
        "print(\"Sample rate of waveform: {}\".format(sample_rate))\n",
        "\n",
        "plt.plot(waveform.t().numpy());"
      ],
      "execution_count": null,
      "outputs": []
    },
    {
      "cell_type": "markdown",
      "metadata": {
        "id": "UYdTAyo47e45"
      },
      "source": [
        "データセットに含まれるラベルの一覧を確認します。\n",
        "\n"
      ]
    },
    {
      "cell_type": "code",
      "metadata": {
        "id": "kr4715ZO7e46"
      },
      "source": [
        "labels = sorted(list(set(datapoint[2] for datapoint in train_set)))\n",
        "labels"
      ],
      "execution_count": null,
      "outputs": []
    },
    {
      "cell_type": "markdown",
      "metadata": {
        "id": "brfgRIOw7e46"
      },
      "source": [
        "この35個の音声データラベルはユーザーに発話されたコマンドです。\n",
        "\n",
        "最初の数ファイルではコマンドのなかでも「marvin」と発話されています。\n",
        "\n",
        "<br>\n",
        "\n",
        "（日本語訳注1：marvinはおそらく、お腹がすいたという意味でしょうか。。。）\n",
        "\n",
        "（日本語訳注2：2021年4月13日現在、最初の数ファイルの内容は「marvin」ではなく「backward」となっています）\n"
      ]
    },
    {
      "cell_type": "code",
      "metadata": {
        "id": "XjHyjBm-7e46"
      },
      "source": [
        "waveform_first, *_ = train_set[0]\n",
        "ipd.Audio(waveform_first.numpy(), rate=sample_rate)\n",
        "\n",
        "waveform_second, *_ = train_set[1]\n",
        "ipd.Audio(waveform_second.numpy(), rate=sample_rate)"
      ],
      "execution_count": null,
      "outputs": []
    },
    {
      "cell_type": "markdown",
      "metadata": {
        "id": "xYChRvGe7e46"
      },
      "source": [
        "最後のファイルでは「visual」と発話されています。\n",
        "\n",
        "（日本語訳注：2021年4月13日現在、「zero」となっています）\n",
        "\n"
      ]
    },
    {
      "cell_type": "code",
      "metadata": {
        "id": "PIcSChK27e47"
      },
      "source": [
        "waveform_last, *_ = train_set[-1]\n",
        "ipd.Audio(waveform_last.numpy(), rate=sample_rate)"
      ],
      "execution_count": null,
      "outputs": []
    },
    {
      "cell_type": "markdown",
      "metadata": {
        "id": "alXeOfRD7e47"
      },
      "source": [
        "データの整形\n",
        "-------------------\n",
        "\n",
        "データへ変換を適用します。\n",
        "\n",
        "波形データをダウンサンプルすることにより、分類性能を大きく下げること無く処理を高速化できます。\n",
        "\n",
        "今回はその他の変換を適用する必要はありません。\n",
        "\n",
        "<br>\n",
        "\n",
        "データセットによっては、チャンネルの次元に沿って平均値を計算する、あるいは単純に一つのチャンネルの値だけを使うなどの方法でチャンネル数の削減(例えばステレオからモノラルへの変換)が適用されます。\n",
        "\n",
        "SpeechCommandsの音声データは1チャンネルだけなので、この操作は今は必要ありません。\n"
      ]
    },
    {
      "cell_type": "code",
      "metadata": {
        "id": "c8Hj53FG7e47"
      },
      "source": [
        "new_sample_rate = 8000\n",
        "transform = torchaudio.transforms.Resample(orig_freq=sample_rate, new_freq=new_sample_rate)\n",
        "transformed = transform(waveform)\n",
        "\n",
        "ipd.Audio(transformed.numpy(), rate=new_sample_rate)"
      ],
      "execution_count": null,
      "outputs": []
    },
    {
      "cell_type": "markdown",
      "metadata": {
        "id": "KhetIvbu7e48"
      },
      "source": [
        "ラベルのリストのインデックスを使って各単語をエンコードします。\n",
        "\n",
        "<br>\n",
        "(日本語訳注)\n",
        "\n",
        "すなわち、インデックスの数字からラベル名を求めるリストを用意します。\n",
        "\n"
      ]
    },
    {
      "cell_type": "code",
      "metadata": {
        "id": "VtmGJHHW7e48"
      },
      "source": [
        "def label_to_index(word):\n",
        "    # labelsにおける単語のインデックスを返す\n",
        "    return torch.tensor(labels.index(word))\n",
        "\n",
        "\n",
        "def index_to_label(index):\n",
        "    # labelsのインデックスに対応した単語を返す\n",
        "    # label_to_indexの逆の作用\n",
        "    return labels[index]\n",
        "\n",
        "\n",
        "word_start = \"yes\"\n",
        "index = label_to_index(word_start)\n",
        "word_recovered = index_to_label(index)\n",
        "\n",
        "print(word_start, \"-->\", index, \"-->\", word_recovered)"
      ],
      "execution_count": null,
      "outputs": []
    },
    {
      "cell_type": "markdown",
      "metadata": {
        "id": "dxBv84Rc7e48"
      },
      "source": [
        "録音データとコマンド命令から構成されたリスト型の各データを、モデル訓練のために2つのバッチ化されたテンソル（録音データのテンソルのバッチと、コマンド命令のテンソルのバッチ）へ変換するために、collate関数を実装します。\n",
        "\n",
        "<br>\n",
        "\n",
        "このcollate関数はPyTorchのデータローダで使用され、バッチ単位でデータセットをイテレートできるようになります。\n",
        "\n",
        "\n",
        "collate関数の詳しい使い方は[ドキュメント](https://pytorch.org/docs/stable/data.html#working-with-collate-fn)を御覧ください。\n",
        "\n",
        "今回、collate関数ではリサンプリングと単語のエンコードも行わせます。\n"
      ]
    },
    {
      "cell_type": "code",
      "metadata": {
        "id": "TNUpiAcC7e48"
      },
      "source": [
        "def pad_sequence(batch):\n",
        "    # ゼロ埋めによりバッチに含まれる全てのテンソルを同じ長さにする\n",
        "    batch = [item.t() for item in batch]\n",
        "    batch = torch.nn.utils.rnn.pad_sequence(batch, batch_first=True, padding_value=0.)\n",
        "    return batch.permute(0, 2, 1)\n",
        "\n",
        "\n",
        "def collate_fn(batch):\n",
        "\n",
        "    # データタプルは次の形式をとる:\n",
        "    #  waveform, sample_rate, label, speaker_id, utterance_number\n",
        "\n",
        "    tensors, targets = [], []\n",
        "\n",
        "    # リストにまとめ、ラベルをインデックスでエンコードする\n",
        "    for waveform, _, label, *_ in batch:\n",
        "        tensors += [waveform]\n",
        "        targets += [label_to_index(label)]\n",
        "\n",
        "    # テンソルのリストをまとめてバッチ化されたテンソルにする\n",
        "    tensors = pad_sequence(tensors)\n",
        "    targets = torch.stack(targets)\n",
        "\n",
        "    return tensors, targets\n",
        "\n",
        "\n",
        "batch_size = 256\n",
        "\n",
        "if device == \"cuda\":\n",
        "    num_workers = 1\n",
        "    pin_memory = True\n",
        "else:\n",
        "    num_workers = 0\n",
        "    pin_memory = False\n",
        "\n",
        "train_loader = torch.utils.data.DataLoader(\n",
        "    train_set,\n",
        "    batch_size=batch_size,\n",
        "    shuffle=True,\n",
        "    collate_fn=collate_fn,\n",
        "    num_workers=num_workers,\n",
        "    pin_memory=pin_memory,\n",
        ")\n",
        "test_loader = torch.utils.data.DataLoader(\n",
        "    test_set,\n",
        "    batch_size=batch_size,\n",
        "    shuffle=False,\n",
        "    drop_last=False,\n",
        "    collate_fn=collate_fn,\n",
        "    num_workers=num_workers,\n",
        "    pin_memory=pin_memory,\n",
        ")"
      ],
      "execution_count": null,
      "outputs": []
    },
    {
      "cell_type": "markdown",
      "metadata": {
        "id": "SY-iGPI67e49"
      },
      "source": [
        "ネットワークの定義\n",
        "------------------\n",
        "\n",
        "本チュートリアルでは生の音声データの処理に畳み込みニューラルネットワークを使用します。\n",
        "\n",
        "通常ではより高度な変換が音声データに適用されるのですが、CNNはそのままの音声データを処理できます。\n",
        "\n",
        "\n",
        "[こちらの論文](https://arxiv.org/pdf/1610.00087.pdf)で説明されているM5ネットワークアーキテクチャに倣ったアーキテクチャを作成します。\n",
        "\n"
      ]
    },
    {
      "cell_type": "markdown",
      "metadata": {
        "id": "xqUAZTNDrT4c"
      },
      "source": [
        "生の音声データを処理するモデルで重要なことは第一層のフィルターの受容野の広さです。\n",
        "\n",
        "ここで構築するモデルの最初のフィルタの長さは80であるため、8kHzでサンプリングされた音声データを処理すると受容野は約10ms(4kHzであれば約20ms)となります。\n",
        "\n",
        "このサイズは一般的な音声処理アプリケーションで使われる受容野の広さである20msから40msに近い値となっています。\n"
      ]
    },
    {
      "cell_type": "code",
      "metadata": {
        "id": "HvY-IIug7e49"
      },
      "source": [
        "class M5(nn.Module):\n",
        "    def __init__(self, n_input=1, n_output=35, stride=16, n_channel=32):\n",
        "        super().__init__()\n",
        "        self.conv1 = nn.Conv1d(n_input, n_channel, kernel_size=80, stride=stride)\n",
        "        self.bn1 = nn.BatchNorm1d(n_channel)\n",
        "        self.pool1 = nn.MaxPool1d(4)\n",
        "        self.conv2 = nn.Conv1d(n_channel, n_channel, kernel_size=3)\n",
        "        self.bn2 = nn.BatchNorm1d(n_channel)\n",
        "        self.pool2 = nn.MaxPool1d(4)\n",
        "        self.conv3 = nn.Conv1d(n_channel, 2 * n_channel, kernel_size=3)\n",
        "        self.bn3 = nn.BatchNorm1d(2 * n_channel)\n",
        "        self.pool3 = nn.MaxPool1d(4)\n",
        "        self.conv4 = nn.Conv1d(2 * n_channel, 2 * n_channel, kernel_size=3)\n",
        "        self.bn4 = nn.BatchNorm1d(2 * n_channel)\n",
        "        self.pool4 = nn.MaxPool1d(4)\n",
        "        self.fc1 = nn.Linear(2 * n_channel, n_output)\n",
        "\n",
        "    def forward(self, x):\n",
        "        x = self.conv1(x)\n",
        "        x = F.relu(self.bn1(x))\n",
        "        x = self.pool1(x)\n",
        "        x = self.conv2(x)\n",
        "        x = F.relu(self.bn2(x))\n",
        "        x = self.pool2(x)\n",
        "        x = self.conv3(x)\n",
        "        x = F.relu(self.bn3(x))\n",
        "        x = self.pool3(x)\n",
        "        x = self.conv4(x)\n",
        "        x = F.relu(self.bn4(x))\n",
        "        x = self.pool4(x)\n",
        "        x = F.avg_pool1d(x, x.shape[-1])\n",
        "        x = x.permute(0, 2, 1)\n",
        "        x = self.fc1(x)\n",
        "        return F.log_softmax(x, dim=2)\n",
        "\n",
        "\n",
        "model = M5(n_input=transformed.shape[0], n_output=len(labels))\n",
        "model.to(device)\n",
        "print(model)\n",
        "\n",
        "\n",
        "def count_parameters(model):\n",
        "    return sum(p.numel() for p in model.parameters() if p.requires_grad)\n",
        "\n",
        "\n",
        "n = count_parameters(model)\n",
        "print(\"Number of parameters: %s\" % n)"
      ],
      "execution_count": null,
      "outputs": []
    },
    {
      "cell_type": "markdown",
      "metadata": {
        "id": "ng5Wv13a7e49"
      },
      "source": [
        "論文で使われている最適化と同様に、重み減衰を0.0001にしたAdamオプティマイザを使用します。\n",
        "\n",
        "最初に、学習率を0.01にして訓練を行いますが、``scheduler``を使って20エポック経過後0.001に減衰させることにします。"
      ]
    },
    {
      "cell_type": "code",
      "metadata": {
        "id": "fuj5G4Dn7e4-"
      },
      "source": [
        "optimizer = optim.Adam(model.parameters(), lr=0.01, weight_decay=0.0001)\n",
        "scheduler = optim.lr_scheduler.StepLR(optimizer, step_size=20, gamma=0.1)  # 20エポック毎に学習率を1/10に減衰する"
      ],
      "execution_count": null,
      "outputs": []
    },
    {
      "cell_type": "markdown",
      "metadata": {
        "id": "6D73X3-47e4-"
      },
      "source": [
        "ネットワークの訓練とテスト\n",
        "--------------------------------\n",
        "\n",
        "モデルを訓練データへ入力し、逆伝播と最適化を行う訓練関数を定義します。\n",
        "\n",
        "訓練では負の対数尤度を損失とします。\n",
        "\n",
        "各エポック完了後にネットワークのテストを行い、訓練中に精度がどのように変化するかを確認します。\n"
      ]
    },
    {
      "cell_type": "code",
      "metadata": {
        "id": "5QJkL_xA7e4-"
      },
      "source": [
        "def train(model, epoch, log_interval):\n",
        "    model.train()\n",
        "    for batch_idx, (data, target) in enumerate(train_loader):\n",
        "\n",
        "        data = data.to(device)\n",
        "        target = target.to(device)\n",
        "\n",
        "        # デバイス上のバッチデータに変換を適用し、モデルへ入力する\n",
        "        data = transform(data)\n",
        "        output = model(data)\n",
        "\n",
        "        # (batch x 1 x n_output)サイズのテンソルの負の対数尤度\n",
        "        loss = F.nll_loss(output.squeeze(), target)\n",
        "\n",
        "        optimizer.zero_grad()\n",
        "        loss.backward()\n",
        "        optimizer.step()\n",
        "\n",
        "        # 訓練の統計値をプリントする\n",
        "        if batch_idx % log_interval == 0:\n",
        "            print(f\"Train Epoch: {epoch} [{batch_idx * len(data)}/{len(train_loader.dataset)} ({100. * batch_idx / len(train_loader):.0f}%)]\\tLoss: {loss.item():.6f}\")\n",
        "\n",
        "        # プログレスバー更新\n",
        "        pbar.update(pbar_update)\n",
        "        # 損失を記録する\n",
        "        losses.append(loss.item())"
      ],
      "execution_count": null,
      "outputs": []
    },
    {
      "cell_type": "markdown",
      "metadata": {
        "id": "SJp4l9v87e4_"
      },
      "source": [
        "訓練関数を定義したのでネットワークの精度をテストする関数を定義します。\n",
        "\n",
        "モデルを``eval()``モードにし、テストデータセットを使って推論を実行します。\n",
        "\n",
        "``eval()``を実行することによってネットワークの重みは更新されなくなります。\n",
        "\n",
        "バッチノーマライゼーション層やドロップアウト層など特定の層は訓練時と推論時で異なる挙動をするので、正しい推論結果を得るためには``eval()``が必要です。\n"
      ]
    },
    {
      "cell_type": "code",
      "metadata": {
        "id": "9Hb6jscV7e4_"
      },
      "source": [
        "def number_of_correct(pred, target):\n",
        "    # 正解数を数える\n",
        "    return pred.squeeze().eq(target).sum().item()\n",
        "\n",
        "\n",
        "def get_likely_index(tensor):\n",
        "    # バッチの各要素について、最も確率の高いラベルインデックスを得る\n",
        "    return tensor.argmax(dim=-1)\n",
        "\n",
        "\n",
        "def test(model, epoch):\n",
        "    model.eval()\n",
        "    correct = 0\n",
        "    for data, target in test_loader:\n",
        "\n",
        "        data = data.to(device)\n",
        "        target = target.to(device)\n",
        "\n",
        "        # デバイス上のバッチデータに変換を適用し、モデルへ入力する\n",
        "        data = transform(data)\n",
        "        output = model(data)\n",
        "\n",
        "        pred = get_likely_index(output)\n",
        "        correct += number_of_correct(pred, target)\n",
        "\n",
        "        # プログレスバー更新\n",
        "        pbar.update(pbar_update)\n",
        "\n",
        "    print(f\"\\nTest Epoch: {epoch}\\tAccuracy: {correct}/{len(test_loader.dataset)} ({100. * correct / len(test_loader.dataset):.0f}%)\\n\")"
      ],
      "execution_count": null,
      "outputs": []
    },
    {
      "cell_type": "markdown",
      "metadata": {
        "id": "0K13AUYZ7e4_"
      },
      "source": [
        "最後にネットワークの訓練とテストを行います。\n",
        "\n",
        "ネットワークを20エポック訓練し、それから学習率を下げてさらに20エポック訓練します。\n",
        "\n",
        "各エポック完了後にネットワークをテストし、訓練中に精度がどう変化するかを確認します。\n"
      ]
    },
    {
      "cell_type": "code",
      "metadata": {
        "id": "YLLMfDvu7e4_"
      },
      "source": [
        "log_interval = 20\n",
        "n_epoch = 2\n",
        "\n",
        "pbar_update = 1 / (len(train_loader) + len(test_loader))\n",
        "losses = []\n",
        "\n",
        "# 変換もモデルとデバイスと同じデバイス上に存在する必要がある\n",
        "transform = transform.to(device)\n",
        "with tqdm(total=n_epoch) as pbar:\n",
        "    for epoch in range(1, n_epoch + 1):\n",
        "        train(model, epoch, log_interval)\n",
        "        test(model, epoch)\n",
        "        scheduler.step()\n",
        "\n",
        "# 訓練時の損失がイテレーション数に応じてどう変化するかをプロットする\n",
        "# plt.plot(losses);\n",
        "# plt.title(\"training loss\");"
      ],
      "execution_count": null,
      "outputs": []
    },
    {
      "cell_type": "markdown",
      "metadata": {
        "id": "i_ICwE577e5A"
      },
      "source": [
        "1エポック完了後（データセットに対して20エポック完了後）、テストセットに対するネットワークの精度は65%以上、2エポック完了後は85%以上になっているはずです。\n",
        "\n",
        "訓練セットの最後の単語を使い、モデルの推論結果を確認しましょう。\n",
        "\n",
        "<br>\n",
        "\n",
        "(日本語訳注：実行してみるとそこまでの精度にはならず・・・)\n"
      ]
    },
    {
      "cell_type": "code",
      "metadata": {
        "id": "hHGrqzEE7e5A"
      },
      "source": [
        "def predict(tensor):\n",
        "    # モデルを使って波形のラベルを推論する\n",
        "    tensor = tensor.to(device)\n",
        "    tensor = transform(tensor)\n",
        "    tensor = model(tensor.unsqueeze(0))\n",
        "    tensor = get_likely_index(tensor)\n",
        "    tensor = index_to_label(tensor.squeeze())\n",
        "    return tensor\n",
        "\n",
        "\n",
        "waveform, sample_rate, utterance, *_ = train_set[-1]\n",
        "ipd.Audio(waveform.numpy(), rate=sample_rate)\n",
        "\n"
      ],
      "execution_count": null,
      "outputs": []
    },
    {
      "cell_type": "code",
      "metadata": {
        "id": "d205nOr5yZab"
      },
      "source": [
        "print(f\"Expected: {utterance}. Predicted: {predict(waveform)}.\")"
      ],
      "execution_count": null,
      "outputs": []
    },
    {
      "cell_type": "markdown",
      "metadata": {
        "id": "549xyEKc7e5A"
      },
      "source": [
        "正しく分類できなかったものがあれば、その1つを確認してみましょう。\n",
        "\n"
      ]
    },
    {
      "cell_type": "code",
      "metadata": {
        "id": "rAnbyYNp7e5A"
      },
      "source": [
        "for i, (waveform, sample_rate, utterance, *_) in enumerate(test_set):\n",
        "    output = predict(waveform)\n",
        "    if output != utterance:\n",
        "        ipd.Audio(waveform.numpy(), rate=sample_rate)\n",
        "        print(f\"Data point #{i}. Expected: {utterance}. Predicted: {output}.\")\n",
        "        break\n",
        "else:\n",
        "    print(\"All examples in this dataset were correctly classified!\")\n",
        "    print(\"In this case, let's just look at the last data point\")\n",
        "    ipd.Audio(waveform.numpy(), rate=sample_rate)\n",
        "    print(f\"Data point #{i}. Expected: {utterance}. Predicted: {output}.\")"
      ],
      "execution_count": null,
      "outputs": []
    },
    {
      "cell_type": "code",
      "metadata": {
        "id": "2ztg3DR53Bnf"
      },
      "source": [
        "ipd.Audio(waveform.numpy(), rate=sample_rate)"
      ],
      "execution_count": null,
      "outputs": []
    },
    {
      "cell_type": "markdown",
      "metadata": {
        "id": "iM2xgXn27e5A"
      },
      "source": [
        "また、ぜひラベルにある単語の1つをご自身で録音し、このモデルにラベルを推論させてみてください。\n",
        "\n",
        "例えば、Colabをご使用であれば次のセルを実行して「Go」と発話します。\n",
        "\n",
        "1秒間音声が録音され、そのデータに対して分類が行われます。\n"
      ]
    },
    {
      "cell_type": "code",
      "metadata": {
        "id": "EbfTxFVq7e5B",
        "colab": {
          "base_uri": "https://localhost:8080/",
          "height": 129
        },
        "outputId": "09d38d86-115b-4620-f071-a8230ded150e"
      },
      "source": [
        "from google.colab import output as colab_output\n",
        "from base64 import b64decode\n",
        "from io import BytesIO\n",
        "from pydub import AudioSegment\n",
        "import IPython.display as ipd\n",
        "\n",
        "\n",
        "RECORD = \"\"\"\n",
        "const sleep  = time => new Promise(resolve => setTimeout(resolve, time))\n",
        "const b2text = blob => new Promise(resolve => {\n",
        "  const reader = new FileReader()\n",
        "  reader.onloadend = e => resolve(e.srcElement.result)\n",
        "  reader.readAsDataURL(blob)\n",
        "})\n",
        "var record = time => new Promise(async resolve => {\n",
        "  stream = await navigator.mediaDevices.getUserMedia({ audio: true })\n",
        "  recorder = new MediaRecorder(stream)\n",
        "  chunks = []\n",
        "  recorder.ondataavailable = e => chunks.push(e.data)\n",
        "  recorder.start()\n",
        "  await sleep(time)\n",
        "  recorder.onstop = async ()=>{\n",
        "    blob = new Blob(chunks)\n",
        "    text = await b2text(blob)\n",
        "    resolve(text)\n",
        "  }\n",
        "  recorder.stop()\n",
        "})\n",
        "\"\"\"\n",
        "\n",
        "\n",
        "def record(seconds=1):\n",
        "    display(ipd.Javascript(RECORD))\n",
        "    print(f\"Recording started for {seconds} seconds.\")\n",
        "    s = colab_output.eval_js(\"record(%d)\" % (seconds * 1000))\n",
        "    print(\"Recording ended.\")\n",
        "    b = b64decode(s.split(\",\")[1])\n",
        "\n",
        "    fileformat = \"wav\"\n",
        "    filename = f\"_audio.{fileformat}\"\n",
        "    AudioSegment.from_file(BytesIO(b)).export(filename, format=fileformat)\n",
        "    return torchaudio.load(filename)\n",
        "\n",
        "\n",
        "waveform, sample_rate = record()\n",
        "print(f\"Predicted: {predict(waveform)}.\")\n",
        "ipd.Audio(waveform.numpy(), rate=sample_rate)"
      ],
      "execution_count": 43,
      "outputs": [
        {
          "output_type": "display_data",
          "data": {
            "text/plain": [
              "<IPython.core.display.Javascript object>"
            ],
            "application/javascript": [
              "\n",
              "const sleep  = time => new Promise(resolve => setTimeout(resolve, time))\n",
              "const b2text = blob => new Promise(resolve => {\n",
              "  const reader = new FileReader()\n",
              "  reader.onloadend = e => resolve(e.srcElement.result)\n",
              "  reader.readAsDataURL(blob)\n",
              "})\n",
              "var record = time => new Promise(async resolve => {\n",
              "  stream = await navigator.mediaDevices.getUserMedia({ audio: true })\n",
              "  recorder = new MediaRecorder(stream)\n",
              "  chunks = []\n",
              "  recorder.ondataavailable = e => chunks.push(e.data)\n",
              "  recorder.start()\n",
              "  await sleep(time)\n",
              "  recorder.onstop = async ()=>{\n",
              "    blob = new Blob(chunks)\n",
              "    text = await b2text(blob)\n",
              "    resolve(text)\n",
              "  }\n",
              "  recorder.stop()\n",
              "})\n"
            ]
          },
          "metadata": {}
        },
        {
          "output_type": "stream",
          "name": "stdout",
          "text": [
            "Recording started for 1 seconds.\n",
            "Recording ended.\n",
            "Predicted: up.\n"
          ]
        },
        {
          "output_type": "execute_result",
          "data": {
            "text/plain": [
              "<IPython.lib.display.Audio object>"
            ],
            "text/html": [
              "\n",
              "                <audio  controls=\"controls\" >\n",
              "                    <source src=\"data:audio/wav;base64,UklGRiRoAQBXQVZFZm10IBAAAAABAAEAgLsAAAB3AQACABAAZGF0YQBoAQAAAAAAAAAAAAAAAAAAAAAAAAAAAAAAAAAAAAAAAAAAAAAAAAAAAAAAAAAAAAAAAAAAAAAAAAAAAAAAAAAAAAAAAAAAAAAAAAAAAAAAAAAAAAAAAAAAAAAAAAAAAAAAAAAAAAAAAAAAAAAAAAAAAAAAAAAAAAAAAAAAAAAAAAAAAAAAAAAAAAAAAAAAAAAAAAAAAAAAAAAAAAAAAAAAAAAAAAAAAAAAAAAAAAAAAAAAAAAAAAAAAAAAAAAAAAAAAAAAAAAAAAAAAAAAAAAAAAAAAAAAAAAAAAAAAAAAAAAAAAAAAAAAAAAAAAAAAAAAAAAAAAAAAAAAAAAAAAAAAAAAAAAAAAAAAAAAAAAAAAAAAAAAAAAAAAAAAAAAAAAAAAAAAAAAAAAAAAAAAAAAAAAAAAAAAAAAAAAAAAAAAAAAAAAAAAAAAAAAAAAAAAAAAAAAAAAAAAAAAAAAAAAAAAAAAAAAAAAAAAAAAAAAAAAAAAAAAAAAAAAAAAAAAAAAAAAAAAAAAAAAAAAAAAAAAAAAAAAAAAAAAAAAAAAAAAAAAAAAAAAAAAAAAAAAAAAAAAAAAAAAAAAAAAAAAAAAAAAAAAAAAAAAAAAAAAAAAAAAAAAAAAAAAAAAAAAAAAAAAAAAAAAAAAAAAAAAAAAAAAAAAAAAAAAAAAAAAAAAAAAAAAAAAAAAAAAAAAAAAAAAAAAAAAAAAAAAAAAAAAAAAAAAAAAAAAAAAAAAAAAAAAAAAAAAAAAAAAAAAAAAAAAAAAAAAAAAAAAAAAAAAAAAAAAAAAAAAAAAAAAAAAAAAAAAAAAAAAAAAAAAAAAAAAAAAAAAAAAAAAAAAAAAAAAAAAAAAAAAAAAAAAAAAAAAAAAAAAAAAAAAAAAAAAAAAAAAAAAAAAAAAAAAAAAAAAAAAAAAAAAAAAAAAAAAAAAAAAAAAAAAAAAAAAAAAAAAAAAAAAAAAAAAAAAAAAAAAAAAAAAAAAAAAAAAAAAAAAAAAAAAAAAAAAAAAAAAAAAAAAAAAAAAAAAAAAAAAAAAAAAAAAAAAAAAAAAAAAAAAAAAAAAAAAAAAAAAAAAAAAAAAAAAAAAAAAAAAAAAAAAAAAAAAAAAAAAAAAAAAAAAAAAAAAAAAAAAAAAAAAAAAAAAAAAAAAAAAAAAAAAAAAAAAAAAAAAAAAAAAAAAAAAAAAAAAAAAAAAAAAAAAAAAAAAAAAAAAAAAAAAAAAAAAAAAAAAAAAAAAAAAAAAAAAAAAAAAAAAAAAAAAAAAAAAAAAAAAAAAAAAAAAAAAAAAAAAAAAAAAAAAAAAAAAAAAAAAAAAAAAAAAAAAAAAAAAAAAAAAAAAAAAAAAAAAAAAAAAAAAAAAAAAAAAAAAAAAAAAAAAAAAAAAAAAAAAAAAAAAAAAAAAAAAAAAAAAAAAAAAAAAAAAAAAAAAAAAAAAAAAAAAAAAAAAAAAAAAAAAAAAAAAAAAAAAAAAAAAAAAAAAAAAAAAAAAAAAAAAAAAAAAAAAAAAAAAAAAAAAAAAAAAAAAAAAAAAAAAAAAAAAAAAAAAAAAAAAAAAAAAAAAAAAAAAAAAAAAAAAAAAAAAAAAAAAAAAAAAAAAAAAAAAAAAAAAAAAAAAAAAAAAAAAAAAAAAAAAAAAAAAAAAAAAAAAAAAAAAAAAAAAAAAAAAAAAAAAAAAAAAAAAAAAAAAAAAAAAAAAAAAAAAAAAAAAAAAAAAAAAAAAAAAAAAAAAAAAAAAAAAAAAAAAAAAAAAAAAAAAAAAAAAAAAAAAAAAAAAAAAAAAAAAAAAAAAAAAAAAAAAAAAAAAAAAAAAAAAAAAAAAAAAAAAAAAAAAAAAAAAAAAAAAAAAAAAAAAAAAAAAAAAAAAAAAAAAAAAAAAAAAAAAAAAAAAAAAAAAAAAAAAAAAAAAAAAAAAAAAAAAAAAAAAAAAAAAAAAAAAAAAAAAAAAAAAAAAAAAAAAAAAAAAAAAAAAAAAAAAAAAAAAAAAAAAAAAAAAAAAAAAAAAAAAAAAAAAAAAAAAAAAAAAAAAAAAAAAAAAAAAAAAAAAAAAAAAAAAAAAAAAAAAAAAAAAAAAAAAAAAAAAAAAAAAAAAAAAAAAAAAAAAAAAAAAAAAAAAAAAAAAAAAAAAAAAAAAAAAAAAAAAAAAAAAAAAAAAAAAAAAAAAAAAAAAAAAAAAAAAAAAAAAAAAAAAAAAAAAAAAAAAAAAAAAAAAAAAAAAAAAAAAAAAAAAAAAAAAAAAAAAAAAAAAAAAAAEAAgAAAAEAAAAAAAQABgAEAAQABAAEAPv/7f/u/+//7f/u/+3/7f/u/+z/7P/r/+n/6//s/+j/5v/q/+r/6P/q/+3/7//t/+7/8v/z//L/8P/w//H/7f/v//H/7v/w//P/9f/4//b/9f/y//L/9P/w/+7/7v/u/+3/6f/l/+X/6P/n/+f/6P/n/+n/7P/u//L/8v/y//T/9P/1//b/9v/1//f/+v/4//X/9f/2//f/+P/3//b/+P/5//f//P/+//z/AQADAAQABQABAAIABQACAAIAAQAAAAIAAAD8//7//v/7//7/AQABAAIABQAHAAgACAAJAAkADAAPAA4ADwARABIAEgARABEAEgAQAA8AEgATABMAFgAaABoAGQAVABMAFgAUABEAEwARAA8AEwAUABYAGQAZAB0AIgAjACYAJAAiACIAHwAbABwAGwAYABcAGQAZABkAGgAWABUAGAAVABIAFAATABUAFgARABMAFQATABQAFgAZABcAFgAaABYAEwATABEAEwAPAA0AEAAJAAUABgADAAEAAAABAAIAAgADAAQABgAHAAkADQAPABEAFAAUABgAGgAZABoAGQAVABQAGAAZABgAGgAZABcAGAAYABgAFwAWABkAFwAUABIAEAAQAA4ADAAMAAwADQAPAA0ACwANAAsABwAFAAQABAADAAIAAwACAAAAAAAAAAAA/f/9//7/+f/2//f/9f/0//P/7//w//H/8v/y//P/+v/8//r//P/+////AAAAAAAA/v/5//b/8v/w/+7/6//u/+7/6//r/+j/6v/s/+n/6f/s/+z/6//p/+3/8P/u/+7/8v/y//P/8f/x//T/9v/3//n/+P/2//f/+P/9/////f/+/wAAAwABAP//AAADAAMAAgAAAP//AgAFAAQAAwAAAAAAAQABAAAAAwAFAAYABwAMAAwABwAIAAwADAAJAAYACAAJAAgACgALAAsADQALAAsACQAGAAgACQAIAAcABgAEAAMAAwACAAIAAQD/////AAABAAEAAQABAAMABQAFAAUABQACAAEAAgAAAP/////+//3//v////7//P/7//r/9//3//b/9P/2//b/8P/t/+7/7P/p/+X/4//k/+P/3v/X/9j/2f/U/9H/z//I/8b/yP/E/8H/wv/C/7//wP/B/8L/w//D/8P/yP/L/8v/zP/P/9D/0f/R/9L/1v/S/9H/1//Z/9b/0v/R/9T/0v/S/9f/1//X/9r/2P/V/9T/0v/R/9P/1P/U/9r/3//h/+X/5//p/+v/7P/x//P/9P/6//7///8DAAYABAAGAAsAEAAOAA0AFAAUABEAEQAVABkAFgAVABYAFAAVABgAGwAcABwAIgAkACAAIwAiACEAIgAhAB8AHwAiACYAHwAbACIAJgAkACMAJQAkACIAIQAkACkAJwAmAC8ANAA3ADwAQgBHAEUAQgBGAEYAQQBBAEQAQwBAAD4APAA6ADoAOQA5ADkANQA0ADIAMAAyADEAMgAzADIAOAA5ADQANQA4ADkAOgA4ADYANgAyAC4AKwApACkAKAAiAB4AIQAfABoAGgAZABYAEwAOAA4ADwAKAAcABwAGAAQAAAD//wAA//8AAAAA/v/7//j/+//+//v/9//6//3/+f/6//z/+v/8//z//P/9//z/+P/3//v////+////AAABAP7//f8BAAMAAAAAAAEABQAIAAgACwANAAwACwAQABIACwALAA0ACQAIAAYABgAKAAcABwAGAAUABgACAAQABgADAAUABQADAAIAAwAFAAIA//////j/8f/z//X/8P/y//f/9P/3//f/8v/y//H/7v/s/+r/6f/k/+P/5//n/+b/4//f/97/2//b/9r/1v/W/9b/1//Y/9X/0//U/9b/1v/T/9b/2v/Z/9f/2P/a/9f/0//T/9H/z//S/9b/1//V/9b/2v/Y/9T/0//T/9T/0//V/9r/2v/Z/9n/3P/d/9f/2v/g/9v/3P/g/+D/4v/i/+f/6v/s/+//7v/w//X/8f/x//T/8//x//L/8//v/+v/7//v/+7/7//t/+7/7//v//H/8f/z//f/+v/+//7/AgAKAAsADgATABYAGgAfACMAIgAhACgAKgAlACMAIwAgABsAGAAbABsAGAAVABEAEQATABEADgAQABEAEgAXABkAGwAhACYAKgAvADIAMwAzADcAPAA4ADUAOQA3ADQANAAyADEANAAzADMANQAwACwAMAAvACsAKwAsAC0AKQAkACMAIQAhACIAHQAbABsAGAAVABEADQAJAAgADAAJAAQABAADAAIAAgADAAUAAwAAAAAAAAD9//v/+f/1//H/8f/z//P/8P/u/+3/6v/p/+n/5f/h/+T/5f/h/+D/4f/g/+L/5P/k/+P/4//h/9z/3f/a/9f/2v/Y/9b/2f/W/9f/2P/V/9T/0//U/9f/1v/X/9f/1v/X/9L/z//T/9T/0v/P/9D/0//V/9f/1P/P/9H/1//a/9b/0f/T/9P/1v/Z/9b/2P/b/9z/3P/Z/9z/4v/h/+D/4v/l/+b/4f/g/+X/4//h/+j/6//m/+n/7v/u/+//8P/y//H/8//3//f//f8DAAUADAAQAA8AEgAXABkAGQAgACQAIQAkACMAIQAmACgAKAAmACYAKgAjAB8AIQAbAB0AHwAbAB4AIAAfACEAIAAeABoAGAAbABgAFAAXABgAFwAWABQAEgAQABAADAAHAAYAAAD5//X/9v/1/+//7//0//L/8P/z//T/8v/0//L/7v/z//f/9v/0//T/+v/7//n//P/+/wAA/f/5//r/9//1//n//P/4//f/9v/y//H/8P/y//f/8//z//b/9v/6//r/+/////3/AAADAAEAAQADAAcACAAFAAEAAgAFAAMAAAABAAIAAAD///z//f/+//z//v/+////BAAGAAcADAARABQAGAAcACAAIAAiACYAJgAoACkAKgAtACoALAAuACwAKgAnACcAJQAgAB8AGwAZABgAEgAVABkAFgAZABwAGwAYABYAFwAUABEAEgAUABMAEAAQABEADgAMAAoACgAKAAgABQAAAP//AQD///3//v///wAAAAAAAAAA/f/6//n/+P/3//b/9//0//P/+P/5//f/9f/1//f/9//1//P/9P/4//j/9v/4//n/+P/5//v//v8AAAIABQAGAAgADAANABAAFQATABAAFQAZABoAGAAWABkAGQAXABgAFgAWABMADgAPAA0ACgAIAAUABwAGAAIAAgD///7/AQABAAAA///5//j/+f/4//X/8f/v//H/8//v/+z/7v/t/+3/7P/q/+z/7v/t/+3/8P/3//n/+/8AAAAAAwAHAAUABgAKAAgABwAGAAUAAwAAAAAAAAAAAAAA/f///wEA///9/wAAAQD///z//v/8//3/AQABAAMABgAGAAcABwALAA0ACwALAAsADQAQAAoABwAMAA0ABwAFAAgABgACAAMAAwAAAP7//P/8//z/9//z//b/9//3//T/8f/z//H/7v/z//L/8v/y//L/8//x/+//7v/s/+//7//s/+3/7//t/+3/7f/s/+v/7P/p/+n/6v/r/+7/6//s//P/9P/3//j/9v/4//f/9v/2//P/9v/2//T/+P/5//z//f/8//7/+v/5//7//f/5//j//P////v/+f/4//P/8P/w/+3/6f/n/+f/5v/l/+T/4P/f/+D/4v/k/+T/5P/m/+j/6v/u//D/6v/r//D/7//t/+r/6f/t/+r/6P/r/+v/7f/x//T/9v/4//3/AAD/////AAADAAQAAwALABAACwARABYAFAAVABcAGQAeACAAHwAfACAAIQAfAB4AIAAhACEAIwAoACgAKQAuAC0ALAAvAC4ALQAtADAAMQAuACkAJwAqACoAJQAlACUAJAAgABkAFAARABIAEgANAAoACwAKAAkABQAFAAUAAgAEAAYABwAHAAMABAAGAAMABgAHAAkADgANAAsACgAIAAwACAADAAUAAwABAAQAAwAAAP//AgAGAAEA/v8CAAAA//8AAP7/+f/2//n/+//5//z/AAD+//3///8BAAMABAAFAAcACwAMAA0ADQAOAA4ADQAOAA8ACwALAA0ACwAJAAUABAAGAAYABwADAAIABwAGAAIABAAFAAIAAgABAAAAAAD/////AgACAAAABAAFAAAAAgAEAAIAAwAJABEADgAJAA4AEAAPABIAEAANAA8AEAAQAA4ADAANAA4ADQAJAAcABgABAAAAAAAAAAAA//////7/AAABAAAAAQD///z/AAABAAMAAgD9//r///////r/+f/4//b/9v/z/+7/6//q/+v/6P/k/+H/3f/c/9r/2v/e/93/3P/c/9z/3v/d/9//4f/g/+H/4P/h/+T/3v/b/9//3v/g/+L/3f/e/9//3v/m/+b/4//n/+n/6v/q/+n/6//u//D/7//y//j/+P/4//v/+f/5//j/9f/2//n//P/3//b//P/8//v//P/9//3/AQAEAAAAAAAEAAQABAAEAAQABgAHAAwADAAHAAsADwANAAsACwALAA4AEAAOAA0AEQAWABcAFQASABEAFAAYABQADgAOABIAEQAOABAADwAOAA8AEAARAA4ADAAPABIAEwAVABcAFgAQABAAEgAOAA4ADwANAAsACQAFAAMABgAFAAEAAAD//wAAAAD9//r//P8AAP///v8AAAEAAQD9//n//P/9//j/9//3//X/9P/0//H/7//s/+7/8//x//P/9f/z//T/8v/0//f/8v/x//P/7//t/+z/7P/p/+b/5//l/+L/5f/m/+T/5f/m/+n/7P/r/+v/7//x//H/7v/t//X/+f/3//j/9//2//b/8v/x//D/7v/p/+f/6v/p/+X/6f/u/+v/6v/t/+z/7f/u/+z/8P/2//r//P///wUABwAGAAkACwAMAA0ADQAQABAAEAAQAA4ADwAMAAwADgAKAAoADAAHAAUABwAIAAoACgAGAAcADAANAA0AEAASABIAEgATABYAFAATABMAEQASABQADwALAA0ADwAMAAgACAAJAAgABAADAAEA//8AAAAAAAD8//n/+f/0/+//8v/y/+7/7//x//H/7v/q/+7/8v/q/+r/8//y/+//7//u//D/7//y//T/8v/z/+7/6//t/+z/6//o/+j/7P/t/+7/7v/u//D/7v/r/+r/6//r/+7/9P/x//H/+P/2//n//P/5//z//P/8//z///8GAAUAAwAIAAYAAwAEAAcABgADAAcACAAIAAoABwAKAA0ACwAMAAsADQAQAA8ADwASABQAEwARABUAFQAVABYAEwAVABcAEgAWABoAGgAYABQAGAAdABsAGQAaABwAHgAfACAAIgApACsAKAAuADAALQAxADMANQA3ADQANgA6ADsAPQA9AD4AQABAAEAAQABAAEIAQQA8ADsAPgBAAEEAPwA+AEAAQQA+ADoAOgA8ADoAOAA2ADUANwA3ADcAMwAvAC4AKQAnACYAHgAZABcAFgATAA0ADgANAAYABgAEAP7//f8AAAMA/f/1//f/+v/3//X/8//x//D/7//v//D/7P/m/+X/4//h/+D/3v/d/9//4f/d/9r/4f/i/93/4f/f/9r/2//f/+L/4f/i/+j/5f/j/+f/4//f/93/3P/f/93/2//e/9z/3f/c/9r/3f/d/93/5f/m/+L/4//l/+L/4//o/+T/4v/l/+T/4v/h/+X/6v/o/+v/7P/m/+v/7v/r//D/8f/w//H/8P/1//f/8f/3//n/9f/5//v//v/+//r//P/+//z//P/9///////+//3//P/7//z/AAABAAAAAAAAAAAAAgACAAQAAwADAAgABwAGAAsACAAIAAcAAwAFAAUAAgABAP7/AAAAAPr/+f/7//v/+//2//P/8//x//T/+v/4//r/AgAAAP7/AQD/////BgACAP//AAACAAIA//8BAAUA///9/wAA/v/9//n/9//y/+3/8P/t/+z/8v/u/+v/8P/v/+v/7P/w/+7/7//0//X/+P/4//j//f8AAAMAAQABAAoACgAGAAgACAAIAAsACgAGAAkAEwAUABIAFgAWABYAFgAXABkAFgAUABgAGwAbABkAGAAZABwAGwAYABcAGQAdABsAGAAdAB8AIAAkACMAIQAkACkAKwAtADEANAA4ADgANAA5ADwAPQBEAEUARwBJAEcASABIAEYASQBLAEkARQBBAEEAQgBAAEEAQQA8ADkANgA0ADQAMAArACgAJQApACIAGQAiACQAHgAbABcAGAAWABQAFgATABQAFgAUABMADwARABQAEAAQAAwABwAIAAcAAQD///3/+P/1//P/8v/y/+//7P/q/+T/4P/c/9n/3f/a/9L/0v/S/9H/z//L/8r/xf/B/77/t/+0/7b/tf+z/7L/r/+u/6v/qP+o/6b/of+d/5r/mv+e/5r/mf+e/5z/nv+j/6D/oP+g/6P/pv+l/6n/q/+r/7L/tP+2/7z/u/+8/8D/w//H/8f/yf/M/8n/yP/M/8//zv/P/9H/zv/P/9D/zf/N/9H/0f/M/8r/zv/P/9H/1v/U/9T/2v/f/+L/4v/h/+b/7P/u//H/9P/2//v//P8BAAYAAwAMABIADAAPABAADQAOAA4AEQARAA8AGAAaABUAFgAXABYAEwARABIAEgAQABEAEAAPABMAFQARABMAFAARABAAEAATABIADwAUABgAFQAYABoAFgAUABIAEwATABAAEAAMAAgADQAOAAwADwAMAA8AFQAPABAAEgAPABQAFAARABUAFgAZABwAGgAdACAAIAAhAB0AHQAgABwAGgAWABYAHQAbABkAHAAaABsAGwAZAB8AHwAbABwAGwAbABcAFAAZABcAEgAWABgAFwAYABcAFwAZABsAGQAaABwAHwAfAB0AHgAgAB8AHwAdABsAGgAYABcAFgAWABkAGQAYABcAFgAVABMAEwATABEAEwAVABIADgASABQAEgARABEAEgAPAAsACwAJAAYABwAHAAYACAAIAAoACgAJAAoACgALAAwACgAKAAsACAAIAA8ADQAJAAwACQAFAAMAAAD///z/+f/8//n/8//2//n/9//3//T/8f/z//H/7//z//j/+v/6//f/+P/7//z//v///wAABgAGAAAAAQABAAAABAAAAP3/AAD//////P/2//r//P/4//f/9f/1//P/8P/v/+3/7P/v/+3/6v/p/+r/7P/t/+r/6f/t/+3/6v/r/+3/7f/p/+n/8f/z//P/9v/3//v/+//4//7/AAACAAcABgAGAAgACQANAA0ADQANAAwADgAMAAsADgAMAAkAEAAQAAkACwAOAAgABwAMAAsACgAKAAsACAAIAAUAAgAGAAQAAAAAAP3//f/6//j//f/7//r/AQADAAMAAQAAAAIAAAACAAYAAQAAAAMABQAFAAYABwADAAAAAAAAAPv/+P/3//X/8//w//L/9f/0//T/8//y//P/9P/z//L/7v/s/+r/6v/r/+r/7P/s/+z/7v/t/+//7//o/+j/5//h/+D/3v/b/93/3P/Y/9z/3//a/9f/2v/Y/9b/1//Z/9n/2//f/9//3//k/+X/5//q/+v/7f/p/+r/7v/q/+j/5//l/+f/5P/j/+b/5P/f/97/4P/k/+X/5f/l/+b/6v/r/+r/7f/v//D/9f/1//L/9v/7//n//P8AAAMABQAGAAsADQAQABcAGAAZACIAJgAqADAAMwA2ADgAOgA/AEAAPgBAAEMAPwA9ADwAOQA6ADgANQAwACoALwAvACcAJAAkACEAHAAaABsAGgAbAB0AHQAjACgAKQAoACYAKwAtACwALwAxADIANAA0ADcANgA1ADgAOQA2ADIAMQAtACcAKgAoACAAHAAaABkAFQASABIADwAPABIADAAKAA4ACwAIAAUABAAGAAQAAgACAAMABQADAAIAAwABAAAABAAJAAYAAAACAAcACAAGAAYACwAKAAYACQAMAAkABQAGAAcAAAAAAAEA+v/3//n/8f/u/+7/6f/q/+v/6P/s/+z/6//r/+f/5//r/+j/6f/t/+r/6//t/+z/6f/r/+7/7P/q/+//8//w/+z/8//2//H/8P/v//H/9P/z//T/8v/x//j/9v/1//r/9v/4//f/9P/7//v/+f///wAAAAACAAYACAAFAAYABgACAAAAAQAGAAgABAACAAMABAAGAAkACgAKAAsAEAAQAA4AFAASAA8AFAAPAAkACQAKAAoABgAEAAQAAQAAAP7/+P/4//r/9//z//L/9v/5//n/+f/6//3/AAD+//v/+v/4//b/8v/s/+z/6P/g/9//4f/f/9z/2f/Z/9b/1v/a/9r/2f/Y/9f/2v/a/9j/1//X/9r/3P/b/9v/2v/b/9n/1v/V/9b/0v/S/9X/1//Z/9v/2P/V/9b/1//a/97/4P/e/9z/4P/i/9v/2P/b/93/3//f/9z/3//m/+j/5P/i/+T/7P/t/+n/6f/r/+7/8P/u//P/+f/2//f//f///////////wAABAAEAAEABQALAA4ADgASABkAGwAbABwAHwAlACUAJwAtAC8AMgA0ADQANAAyADQANgA4ADsAOQA8AD8APQA7ADcANQAyAC4ALwAoACgAMAAvACoAJwAmACYAJAAmACgAKAApACgAKAAmACQAJAAfABwAGwAWABMAFgAZABUAEwAWABIADwAOAA0ADwAJAAgABwD//wEAAgD8//7/+//4//r/9f/x//D/7//u/+n/6f/p/+j/6//q/+X/4v/e/93/3v/f/9z/2P/g/+H/2v/f/+L/4P/g/9//4//n/+j/7P/s/+z/8P/u/+7/8//1//b/+f/5//r//v8AAP///////wAAAQD///7//f/5//r/+v/4//v//P/5//f/8//x//T/8P/u//H/7//t/+7/8f/1//b/9v/3//f/+f/7//z//f8AAAMABAADAAIABgAKAAgABwANABMAEwAUABoAGwAcACAAIQAiACQAJQAmACYAJwAnACYAJQAgAB0AHwAeAB8AJAAgAB0AIwAjACAAIQAeAB4AIAAdABwAGgAZABsAHAAeABsAGAAcABsAGAAaABwAHAAXABcAFwARABIAEgAMAAwACgAEAAIAAwADAAQAAAD8//r/+/////z/9v/3//X/8//z//D/7f/r/+j/6P/m/+X/5v/k/+P/5P/o/+n/5f/l/+X/4//i/+H/4//h/9//4//j/+H/4f/g/+L/4P/a/9v/3v/h/+L/4v/i/+L/4//m/+n/6f/q/+z/5//i/+L/3//f/+D/3v/l/+f/5f/o/+r/8P/0//L/8//2//T/8v/0//X/9P/z//T/9P/y//X/+//9//r/+f/5//j/9v/2//f/+P/5//n/+//+//7/AAD///z/AAAGAAgABwADAAUACAAGAAYACAADAAEABAACAAEAAwABAAMABQACAAMAAwABAAAAAQAEAAIAAAAAAAAABAAGAAEABAAJAAcABAAHAAYAAAD+/wAA/P/2//X/9f/1//T/8P/s/+v/6f/s/+3/5v/j/+X/6P/p/+X/5P/m/+X/5f/m/+b/6f/o/+X/5f/j/9//3//i/+T/4//j/+T/5P/n/+3/7f/u//L/9f/2//T/9f/4//v/+//3//j/+//7//z/+v/5//z//P/7//z//P/8//r/+v/6//v//v8AAAUACgANABAAEwAYAB0AHgAeACEAIwAjACEAJAAnACMAJwAvACsAKQArACsALQAsACoALgAuAC0AKgAlACgAKAAqAC4AKAAnACcAIwAoACoAJwAnACcAKAAnACcALAAsACwALwAtACoALAArAC0ALwAuAC4ALAAqACsALAAtACgAIQAlACgAIQAeABwAFwARAAoABQAEAAMABAADAAEAAQAAAAAAAQAFAAcABQAGAAoABwAHAAgAAwACAAUAAwADAAQAAwAAAP7//f/+////AAD+//3/AwAGAAMAAAD7//z//v/5//X/8//0//j/8v/s/+3/6//k/+D/4P/g/+L/5P/h/+H/5//o/+f/6v/s/+//8v/1//f/9f/0//j/9v/y//H/7v/t/+r/5v/o/+n/6f/q/+j/6P/p/+j/6f/s/+7/7f/u//H/7//z//v/9//2//v/+//9//n/8v/y/+//8P/y/+v/6P/r/+z/7f/s/+v/6//s/+z/6v/r//D/8v/z//T/9f/5//z/+//7//z///8CAAIAAAAAAP7//P/7//v//P/0//H/9v/z//P/9f/y//P/8//1//j/9v/8/wAA/P8AAAEA/v8AAAAAAgAAAPv//v////v/+//7//z//v/9//7/AAD+//3////7//v//f/9/////f/1//T/9v/1/+7/6P/o/+j/5//n/+f/6P/q/+n/5//p/+z/6v/n/+b/5v/p/+n/6f/u//H/7f/s//D/8v/1//r//P/9//7/AAABAAMABQAIAAoACwAOAA4ADgARABQAFgAWABQAFgAaABgAFgAZABkAFwAYABkAFAATABUAFAAWABgAFgAXAB0AHQAZABsAHgAhACIAIgAlACUAJgAtAC0AKgAwADIALwAyADEAKgArACsAKQAoACgALgAvACoAKgApACcAIwAcABwAHQAZABcAFQAQAA4ADgAPAA4ADgAOAA0ADwATABMADwAQABUAEwAUABQADwATABIACgANABAADwAQABAAEAAPAA0ACgANAA8ACAAIAAsABQAGAAcABgAJAAkACgAIAAQACAAHAAIABAABAP//AAD8//r//f/9//7//v/9/wAA/v/7//3//P/7//r/9v/1//X/8//w/+7/7v/w//H/8v/z//X/+f/6//b/9f/0/+//8v/1//T/8f/u/+//8v/x//D/7v/q/+3/7//u//D/9v/2//b/+f/7//v/+v/6//z//P8AAAIAAAAAAAAA///+//r/+v/4//b/+P/4//X/9f/3//j/9f/3//r/9//4//X/8f/3//r/9v/0//f/+f/4//f/9f/2//b/+P/2//T/9v/5//f/9f/x//P/9v/y//D/8P/w/+7/6v/m/+P/5f/n/+T/5//q/+f/6f/s/+3/7v/v//P/9f/y//T/8//t/+v/7P/r/+n/6P/r/+3/7P/q/+r/6P/l/+f/6//p/+f/6//s/+n/6P/q/+v/6v/p/+r/6f/l/+n/6//m/+j/7v/s/+z/7//v//D/8//0//L/9P/6//v/+v/7//z/+f/2//X/9f/4//r/+//6//v//v/9//v//P/4//X/+P/2//X/9f/2//f/9v/4//r/+f/5//z//v///wEABAADAAUACQAKAAsADAAOAA4ADAAQABEADwAPAAwACgAPAA8ADAAMAA8AEAALAAgACgAJAAoADQAQAA4ADgAWABcAFgAZABcAFgAVABUAGAAbAB8AIgAiACQAIgAkACkAJwApACsALAAsACcAKAAoACEAIQAlACUAJAAjACcAJgAdABsAIAAbABUAFwAXABQAEQALAAwACwADAAMAAwAAAP7/+f/2//P/8v/2//P/8f/y//D/7//w/+//8f/0//L/7v/x//L/7v/s/+z/7f/u/+//7//y//T/9P/2//b/8P/t/+3/7P/w/+//7f/x//L/8P/x//L/8//x//H/8v/w//L/8//w//L/9P/x//D/8v/w//H/9P/2//f/+P/3//r//P/4//f/+P/4//P/7v/0//T/7//z//X/8//x//D/9P/1//L/8//x//H/9P/x//P/+P/0//P/9f/0//T/9v/4//r//P/7//z/AAAAAP3/AAABAP3/AAAAAPz///8CAAMACAALABEAFAAUABYAGAAdACAAGQAcACcAJgAmAC4AMgAxADEANAA1ADMANAA2ADcANAAwADQANQAvACoAKQAoACQAIQAiAB8AGwAeABkAEgAXABUAEAASABAADQAPAA8ADwAMAA4AEgAQAA8AEAAQAA8ACQAFAAQAAAD+//7//f/5//n//f/3//L/+f/5//H/7v/p/+f/6v/p/+j/7f/t/+j/5v/l/+j/6P/k/+f/6P/i/9//4v/m/+f/5//p/+j/6f/t/+//8f/w//H/8//x//D/8P/x//X/8//r/+n/7v/w/+3/7//1//b/8//z//f/+f/4//j/+//9//3/+v/+/wAA//8CAAMAAgAFAAIAAQAEAAUAAwAAAP//AAAAAP7/+f/7//z/9//2//j//P/9//z////+////AAAAAAQABAABAAQAAQAEAAYAAAABAAIAAAD///r//P/3/+//8//1//P/9P/3//z//f/+//////8BAAEAAQADAAIABAAFAAQABQADAAcACwAHAAgACwAMAAgABwAKAAgACAAJAAcABwAFAAUABgAFAAcABgAFAAgABgAGAAYABQAKAAgAAwAGAAgABwAJAAgACgALAAkADQAPAA0ADgANAAoACgAJAAwADQANABEADgAMABEAFAAXABgAGQAcAB4AHQAeACQAJgAlACYAJgAjACMAJQAkACIAIwAhACEAIwAgACIAJwAlACEAIQAjACIAHgAgACIAHwAfAB8AHQAgACMAHwAcABsAHAAdABsAHQAeABkAGQAcABoAGQAYABoAHQAZABQAEQAQABEAEAAMAAkACAAEAP//+f/2//n/9f/x//T/9v/3//f/9P/z//D/8v/3//X/9P/0//b//v/+//v//v/6//n/+//4//L/8f/w/+//7v/p/+n/6//l/+D/4P/e/9v/1//S/9D/zv/M/8v/yv/I/8X/xf/F/8X/xP/E/8j/yP/L/8//zv/R/9T/0//V/9L/0v/X/9j/2f/X/9b/2//X/9b/1//R/9X/2//b/9z/3//k/+X/5P/n/+r/7P/v//D/8v/3//r/+P/4//v/+v/5//n/+//+//v/+v/7//z//v8AAAIAAwABAAEAAQABAAMABQAGAAYACQALAAwAEAAVABkAGAAWABkAGwAdACIAJQAnACoALAAqACoALgAtADEANQA0ADYAOAA3ADcAOQA4ADMANQA5ADMANQA5ADkAOQA5ADsAPgA+AEAAPgA8AD0AOQA3ADkAOAA1ADEALgAsACgAKAAoACYAJgAmACQAIgAhACEAHwAdABsAGAAZABkAGAAZABcAEgARABAADAALAA4ADgAKAAoACgAEAAYADAAJAAcABwAEAAMAAgABAAAAAQAFAP//+//9//v/+f/2//T/9v/0//D/7f/t/+//7v/t/+//7//t/+v/6v/p/+b/4v/i/+P/3//f/+T/4v/e/93/3v/d/9r/2v/c/9n/2P/a/93/4P/h/+L/4v/i/+T/4f/h/+X/6P/m/+L/5v/o/+X/5//n/+X/5P/k/+X/4f/i/+f/5P/j/+T/4//j/+L/5v/o/+X/6P/r/+v/7f/u//T/+f/6//z/+v/7//3//P/8//v//P/6//T/9P/0//H/8f/z//X/9P/1//b/9v/2//P/9P/4//b/9f/4//b/8//x//L/8f/t/+v/7P/r/+X/4v/i/+P/5v/m/+j/6v/l/+f/5//j/+b/5f/j/+T/4//j/+b/4//i/+T/4//j/+X/5f/j/+P/4//k/9//2//f/97/3P/c/9n/2//e/97/3v/d/9//5P/i/+D/4f/j/+X/5f/k/+f/7f/u/+7/8v/y/+//8v/2//j/9f/1//n//P////7/+v/3//n//P/4//j/+//4//n///8AAAMABAAEAAgACwALAAwADgANAAwADwAQAA8AEAAQABIAFgAcACAAIQAiACMAJwAoACUAJQAnACsALQArAC0AMQAyADIANgA7ADsAOwA5ADUANAA1ADQANAA3ADoAOwA+AD4AOwA8AD4APQA7ADoANwAyADEAMAAuAC4AKAAnACcAJgAoACMAHwAeABgAFwAUAA0ADwAJAAEAAwACAP///f/7//r/+f/4//r/9//y//P/8f/v//H/7f/o/+f/5v/i/97/3P/b/9j/1//W/9X/1v/V/9P/0v/O/8z/zv/O/9D/0f/O/87/0//T/87/y//I/8b/xf/E/8b/w//D/8n/yP/I/8j/xP/E/8L/wv/E/7//wv/H/8T/xf/F/8f/zP/N/87/z//Q/9P/0//V/9f/2f/c/9z/3f/d/9v/2//c/9v/2f/X/9n/2v/b/93/4f/j/+X/6P/o/+z/8P/w//H/9f/2//b/9v/5//z/+//8//3/+//9/wIABAAEAAUABwALAAsABwAJAA0ADwANAAsADQAQAA0ADAAQAA4ADAANAAoACwANAAwADgAOAA8ADwAOABIAEQANAA4ADgAOABEAEAAPABIAFQARAA8AGAAZABcAGwAbABoAHgAfAB0AGgAeAB4AGAAcACIAIQAcABwAIQAeABsAHgAbABsAGgAXABoAFwAaAB4AHgAkACIAIgAnACQAKQAtACsAKwApAC0AMAAwADEAMgA1ADIALgA1ADcAMwAxADQANgAzADQANQA0ADYAMQAvADEALwAvAC4ALQAwAC4AKwArACsAKAAkACIAJAAoACgAJgApACkAKQArACgAKgAtACkAKgAtACwAKQAnACkALAArACwALAApACgAKAAoACkALAAtAC8AMwA0ADQAMwAxADEAMQAsACkAKwAnACMAJAAiACAAIQAfABwAGQAZABoAFQAVABcAEAAOAAsABQADAAIAAgD///r//f/8//n/9v/1//f/8P/s/+v/5v/k/+D/3f/e/9v/2//Z/9f/2v/Y/9b/2v/a/9r/2v/X/9j/2v/X/9f/2P/W/9v/3v/b/9z/3f/a/9T/z//Q/8z/xf/G/8X/wf+//8D/w//D/8H/v/+7/7v/vP+9/7//v/+//8P/xP/E/8X/yv/P/9H/0//W/9X/1P/V/9L/0v/U/9X/1f/V/9j/2P/Y/9r/2P/Z/93/3v/g/+D/4P/j/+j/6v/p/+3/8f/u/+7/7//w//T/9//+/////v8EAAQABAALABAAEQAPABAAFwAaABsAHAAcAB4AHQAiACUAJAAmACkALwAvACsALgAxADMANgA2ADgAOwA6ADoAOQA4ADkAOwA8ADwAOAA1ADcANQAzADQAMwAyADAALwA0ADQAMAAyADMAMwA1ADEALgAyADMAMAAxADYANQAwAC0ALgAvACsAJQAkACMAIQAcABUAFwAWABAADgAIAAcABQD+//7//P/3//f/+f/6//j/9f/2//X/9P/y//H/9v/4//f/9f/2//b/9f/0//T/9P/z//H/8f/w//D/8v/v/+7/8P/y//D/7v/v//D/7v/s/+3/8P/u//D/9P/3//f/9P/1//r//P////7//P/+//z/+v/7//f/+f/5//f/+f/5//z//v/4//f//f/+//z//f////3//f8AAP///P/9/wIAAgD9////BAADAAIAAwAAAAEAAAD8//7//v/7//3/AAACAAAA//8BAAAAAAD///7/AAD///v///8DAAIAAAAEAAgABAADAAYABQABAAUACgAKAAwADgAOABAADwARABQAEwAVABgAGwAaABcAGAAYABcAFgARABIAFAAPAAwADgARABAADQANAAsACAAKAAkAAwAAAP7/+v/6//v/9v/1//b/9v/1//L/9f/2//P/9f/z/+//7P/n/+j/6f/n/+j/6v/s/+//8f/1//j/+v/8//v/+//8////AAAAAAMABQAFAAcABwAIAAkACQAKAAgABgAFAAMABAAEAAMAAwAEAAgACgAKAAoACwAMAAsACwAMAA0ADgALAAkACgAKAAsACgAHAAkACgALAAsACAAKAA0ACwAKAAcABwAHAAIAAQD///z///////r/+f/7//3//v/9//3//v/+//z/+v/8//3//f/9//z//v/9//7/AAAAAAEAAAAAAAAA/f/7//z/+P/1//T/8f/s/+X/5//o/+P/4P/b/9n/2f/X/9b/0v/Q/87/y//M/8r/xf/G/8r/zf/N/8v/zP/P/8//zv/R/9H/z//W/9r/1//X/9r/4f/i/+D/4//i/+H/4v/g/+L/4v/d/+D/4P/e/+H/4v/j/+X/5P/l/+b/5P/l/+b/5v/n/+X/5P/r//H/8f/0//r/+//9//7///8DAAUABAAGAAkACwAMAA0AEQASAA8ADwANAAsACgAGAAUABAABAAQABgAEAAcACwAKAAgACAALABEAEgASABoAIgAfAB4AIQAfACAAJAAmACUAJQAoACUAIwApACkAJgApACsAKQApAC4ALQAqAC0ALQAqACgAKAApACQAIwAmACAAGwAbABcAEgANAAsADgAMAAgABwALAAkABQAGAAYABAAAAAAAAQD//wEAAAD4//f/9v/1//X/8//2//f/9P/1//P/8//0//X/9v/w/+z/8f/y/+3/6v/v//P/8v/z//L/8f/x/+3/6P/k/+P/5P/j/+X/5f/j/+T/5f/l/+b/5P/j/+X/5v/q/+b/4//p/+j/4v/j/+T/5P/j/+P/4//h/+P/5P/j/+b/5P/j/+f/5//o/+v/6//o/+j/6v/q/+3/8f/x/+//9f/4//P/9f/6//r/+f/7//3//v///wEAAgACAAMABQAJAAsADQARABIAEwAWABgAGAAaAB4AHgAcACEAIgAdAB0AHQAdAB4AGwAcABwAHAAeABkAFwAbABkAFwAWABIAEgAUABMAEAAQAA8ADgAQABEADAAMAA0ACQAGAAgACQALAAwADQAOAAwADAAMAAwADgAJAAQACAAHAAQABQAEAAMAAAD//////P/8//v/+f/4//T/8v/0//T/8v/y//P/8//y//b/+v/1//T/+f/6//r//v//////AgAGAAgACgAJAAsADwAQAA4ADgARABUAFwAYABkAFgAUABcAGQAXABUAFQAWABcAEwAWABoAFwATABMAFgAXABYAFwAYABgAGQAZABkAGQAaABwAHAAdAB8AIAAhAB4AHwAjACEAHwAfAB8AHwAcABwAGgAYABoAFwATABQAEAAMAA8ADQALAA8AFAAWABUAFQAXABUAEQAQABAADgALAAsACwAIAAUABAACAAEAAgADAAMABQAGAAUACAAIAAUABwAKAAoACgAKAAsADgAQABAADAAJAAoACAACAAAA/v/7//r/9P/z//b/8//0//f/+f/6//j/+//5//b//f/6//f//P/3//f/+f/1//X/8//w/+//6f/o/+j/5v/q/+n/6P/v//H/8P/y//T/9v/6//z//P///wAA//8AAAAAAwAGAAkADAANAAwACwAJAAYABAAEAAQAAAD8//3//P/4//r//v/7//r/AQAFAAEAAQACAAEAAAD+///////7//r/+v/4//X/8v/y//P/8//2//X/9v/1//L/9v/4//f/+v/6//z//f/8/wAAAQD///7//P/7//3/+//8/wAAAAD+//v/+//+//z/+f/6//j/9//6//r/9v/1//b/+P/4//P/8f/y//H/7//u/+3/6//u//P/8P/v//L/8//z//P/8//3//r/+//7//v/+v/5//n/9//1//T/8f/v/+r/5f/n/+b/4v/f/93/4P/h/9z/3v/h/+D/4f/e/9v/3P/c/9z/3v/d/97/4P/c/93/3//e/9//3v/b/97/3v/b/9r/3v/f/97/4P/i/+P/5P/j/+H/4f/g/9//4v/h/+D/4//i/+L/5P/i/+T/5v/l/+n/6f/m/+v/8P/x//T/9v/5//z//f///wEAAQAAAPz//v8AAP7/AQADAAAAAQABAP///////wAAAQACAAYABAADAAoADwAOAA4AFAAXABgAHAAeACAAJQAlACMAJQAlACUAJwAmACYAKQAnACcAKQAlACQAJwAlACMAJAAhAB4AHgAcABwAGgAYABoAGwAYABQAEQAVABQAEAAUABIACgAMAAwABQAGAAkACAAIAAgACQAMAA0ADgAPAAwACQAHAAcABwAGAAgACwAMAAoADAANAAsADQAPAA8ADQAJAAkACQAGAAUAAQAAAAEAAAAAAP////8AAP7//v8AAP3/+//+//7/+v/2//b/+f/7//r/+v/8//7////+//3//v/9/wAAAQAAAAEAAwACAAQAAgD+////AQACAAIAAQACAAIABQAHAAgACQAJAAgACQAJAAkABgABAAEABAADAAAA/v8BAAMABQAGAAgADAAOABAAEAAOABIAFgAVABcAGgAaABgAGQAYABYAEwARABEAEQAOAAwACgAHAAIAAAD+//3//f/7//r/+f/3//v//v/9///////+//z//P8AAP//+v/5//r/+P/3//b/9f/0/+//7P/u/+z/7P/s/+r/7f/u/+7/8f/u/+7/8f/v/+7/8P/w//D/7f/t/+7/6v/m/+X/4//l/+T/3//h/+b/5P/l/+X/5P/o/+r/6P/o/+b/6P/n/+L/4v/j/+T/5f/l/+b/5//o/+n/6f/n/+f/6P/o/+f/6P/t//D/7f/s/+z/7f/t/+z/6//r/+z/7P/r/+z/8P/x//L/9f/0//b/+f/5//r//P/7//3//f///wEAAAD//wMAAgD+/wEABgAFAAUABwAFAAQABgAFAAMABwALAAcACQAPABEAFAAYABoAGgAYABcAFgAUABQAEgAMAAsACwAIAAUAAAD//wAA/v/8//3/+v/3//T/9P/2//X/9P/0//b/+f/7//3//P/7//3//f/+/////P/8//3//v/9//r//P/8//v//////wAABgAGAAUABgAGAAgACwANAA4ADwARABEAEAARABAACwAKAAoAAgD+//3/+//8//r/+P/6//v//v////3/AAAEAAIAAwAFAAgACgAKAA0AEQARABEADgAKAAkACAAHAAcABgAGAAcABwAJAAoACQAJAAgADAAOAAwAEAAQAA4AEAAOAAwACwAIAAgABwADAAAA//8AAP7/+//9/wAA///9/wAAAQABAAEAAwAGAAcACgAMAA4AEgASABQAFQATABUAGQAdAB4AHAAfACEAIQAjACEAIAAiACAAJAApACkAKgArAC0ALAApACoAKgArACkAJAAnACcAIAAfAB0AGgAbABUAFAAZABgAEwAVABkAGAAYABkAGAAZABgAFQAWABMAEAARABEADwAMAAoACQAFAAMAAgAAAAAAAgAAAPr/+P/8//3/+v/3//b/9f/x/+7/7f/u/+//7v/r/+f/5v/j/+H/4v/f/93/3v/Z/9r/3f/c/9r/1//W/9f/1f/S/8//0P/P/8n/xv/D/8L/xP/D/8L/w//C/8P/xv/F/8X/xP/E/8n/z//O/9H/1v/Y/9j/1//a/9v/1//Y/9v/3f/c/93/4P/g/9v/2v/c/93/3f/d/9z/2//d/9z/2//e/+D/4P/h/+H/5P/m/+b/5v/n/+j/6v/s/+7/8P/z//f/9//0//r///8AAAYABwAMABIAFQAbABwAHAAiACQAJAAoACwAMgA1ADQANQA0ADMAMwA3ADgANwA5ADcANwA5ADoAOwA7ADwAOgA4ADgANAAxADQANwA3ADUAMQAuACwAKwArACwAKgAmACUAJQAmACMAIAAhAB4AGwAbABsAGwAYABgAGQATABIAEgASABEAEAARAAwABwAJAAQA///9//z/AAAAAAEABgAFAAcABwADAAQABAAEAAEA/f/8//j/9f/4//f/9P/0//P/8v/x//H/7//r/+z/8f/t/+v/8P/w//P/9P/w//T/9//4//n//f8AAP//AAAFAAEAAAAAAAAA///9//3//v/8//7/AAAEAAEA/v8CAAMAAAD//wEAAAD//wQABgAFAAgACAAGAAUABQADAAAAAgD+//n/+//3//f/9v/y//X/8P/u//H/7v/w//D/7v/x/+z/6//w/+7/6//t//D/7P/r/+3/7//x//D/8P/0//P/7v/s//D/8v/w//P/9//7////AAAAAAAAAQAEAAMABQAEAAMABAD/////AQD9//7////8//3//v/8//z//v8AAP///P/7//r//P/9//n/9P/z//X/9P/u/+7/8f/v/+3/6//o/+v/7f/t//D/8v/x//P/9P/z//X/+//7//r//f/9//v//P/9//r/9//4//j/+f/5//r//P/4//X/9v/1//X/9f/z//b/+P/3//j/+//5//j//f/9//v/+//6//v//P///wAA/f8AAAMABgAJAAoAEQAVABYAGQAdACEAJAAmACkAJgAoACkAJAAmACYAJAAmACYAJwAmACMAJQAjACAAIQAiAB4AGwAbABgAFAARABAADwANAA0ADQAOAA0ACgALAAsABgAGAAcABQAHAAUAAwAHAAgABwAGAAYACQAIAAUABwAFAAQABgACAAEAAgABAAQAAQD+/wAA/f/7//f/8v/w/+3/7v/r/+b/5//k/+H/4P/d/97/4f/g/+D/4v/m/+b/5P/k/+P/4//j/+D/3v/f/9r/2P/g/+D/2v/a/9r/2//Y/9j/2v/X/9j/2v/X/9r/3f/d/+H/4P/g/+T/6f/v//H/7v/u//H/8f/z//f/9//5//n/9//5//n//P////3/+//9////AgAHAAcABgAJAAoACgANAA8AEQAUABUAFQAaAB8AHwAjACcAJwArAC0AKQAsAC4AKQAqACwAKQAqAC0AKgAwADMALAArACwALAAvAC4ALwAyADEAMQAxACwAJwAhACIAJAAjACQAJgApACgAJQAoACkAJwAkACEAIwAjACIAJAAjACIAJAAiAB0AHQAfAB8AGgAVABUAFAARABIAEwATABMAEwARAA0ADAANAAwACwAKAAkABwAAAAAAAwAAAP3/+//7//j/8//z//L/8f/u/+r/6//r/+n/6v/p/+j/5f/k/+X/4//i/+L/4v/g/97/3v/c/9v/3v/g/93/2f/b/9v/1v/V/9P/0P/Q/8//z//Q/9P/1P/V/9j/2P/Z/97/4P/g/+H/5v/o/+r/7//x//L/8//w/+//7v/x//L/7P/w//f/9P/2//f/9P/0//D/7//y//H/7v/s/+v/7f/y//L/8P/z//f/9//1//X/9f/0//P/9f/3//f/+v/9////AAADAAgABwAEAAgACwAJAAcABgAHAAgABQACAAEAAwADAAcADQAQABMAEwASABMAEgAUABMADQALAAoACAAHAAYABAACAAAAAQACAAQAAgD/////AAACAAMAAQACAAEAAAACAAAAAAAGAAYAAgADAAUACAAJAAQAAwADAAAA/v/8//n/9f/v/+v/6f/o/+j/5v/p/+v/5//o/+v/7P/t/+3/8P/x//X/+//5//n//P/8//7/AQAGAAcABQAHAAsAEAAUABYAGQAWABcAIAAgAB8AHgAZABwAHgAfACQAKAAsAC8AMAA6AD4APAA/AD4AOQA5ADoAOQA4ADYANQA1ADQAMgA3ADwAOQA7AD4APAA+AEIAPwA7ADoAOgA5ADgANwAzADUAPAA+AD4APQA5ADYAOAA5ADUAMAAuACsAKgAnACUAIgAbABgAGAAVABUAFAATABEADQAKAAYAAQD+//3//P/z/+//8v/s/+z/8f/x//D/8P/2//j/9v/4//b/8//z/+7/6//r/+X/4f/d/9r/2f/X/9X/0f/Q/9T/0f/O/9D/z//H/8P/wf+8/7r/uf+3/7r/uf+1/7b/u/+6/7n/v//F/8T/x//H/8b/yP/D/7//wP+8/7f/s/+y/7f/uv+//8f/xv/G/8z/0f/W/9j/1f/V/9f/2P/Z/9z/3f/c/9v/4f/n/+X/5v/p/+j/5//i/+H/4f/e/+D/5P/n/+r/6//y//j//P8BAAIACAANAAwADAAKAA8AGQAWABYAGgAdACUAKwAwADMAMwA6AEEARABJAE4ATgBLAEwATwBNAEsASgBIAEIAPgBCAEQARQBGAEcASgBJAEcASABDAEAARQBCAD8APgA5ADgAOgA4ADkAOAAyADAAMwA1ADIALwAuACkAJQAiAB0AGwAaABcAFAATABMAEAAUABgAEwAUABMADQAKAAkACgAEAP3//f/3/+//6//n/+r/7P/m/+H/3f/a/9v/3P/b/9v/2f/T/87/0P/T/9T/1v/U/9D/zf/Q/9X/2P/c/93/1f/S/9X/1v/b/93/2P/U/9b/2P/a/9r/2v/e/+P/5P/n/+f/5//r/+z/7v/v/+//8f/x/+3/7v/z//3/BwAHAAAA+//7/wQAEwAWAA8ABAACAA8AIQAwADIAJQAbAB4AKwA3ADwANgArACwANwA7AD0AOAAuACsAMQA8ADwALQAqAC8ANQA9ADwANAAwAC4AMwA5ADoAPQA+ADkAOAA8AD8ARwBMAEkARgBBAEIASgBKAEsASQBCADwANQAwAC8ALAArACgAIQAbABgAGAAZABsAGgATABEAFAATABUAFgAUABAACwAIAAQAAAADAAYAAgD/////AgAEAP//+P/4//j/9v/1//D/6f/k/+n/8f/y//P/8//s/+n/7v/u/+z/7P/r/+f/5f/m/+f/6P/l/93/1//V/9X/1v/a/93/3P/Z/9n/2P/V/9f/1//U/9j/2f/U/9j/4//m/+r/7f/t/+3/7f/y//z/AgAEAAAA+//7/wAAAgD+//r/+P/3//T/8//2//j/+//7//n/+v/+/wMACQAMAAwACgAKAAwACwANABEADQALAAwADwATABIADwAOABEAFQAVAA4ACQAKAA8AEgAOAAQA+//2//n/AAAHAAgAAgADAAcACgASABcAFgAQAAYAAAAAAAAA/v/6//H/6v/k/+H/4P/d/97/2//S/8//zf/M/9D/z//O/9D/zf/M/8n/xv/L/9P/1f/P/8j/x//F/8j/0v/X/9P/0P/R/87/zf/W/93/4//k/9v/2P/d/+P/6f/q/+v/5f/X/9f/4v/r/+7/7P/q/+r/7P/1//3/+v/8/wMACAALAA0ADQAOABgAJQAoAB4AGQAdACYAOgBJAEgARwBIAEkAVQBhAGQAZgBrAHIAdQB5AIYAlACZAJ8AogCgAKcAsgC8AMkA1QDdAOEA4QDjAOkA7gDxAPsAAwEFAQQBAgEJARkBJgE0ATQBLAEtATEBQwFaAVwBWQFWAVQBXAFmAXABcwFtAW0BcwF4AX0BfwGBAYYBiQGKAYUBfgF6AXwBgwGIAYQBfwF6AXkBhQGNAYwBiQGGAX8BdQF6AYIBfgGFAYsBhgGJAYYBggGGAYcBigGJAXwBbwFnAW8BfAF9AXUBaAFkAWgBcgF/AYMBfgF5AXsBhwGNAYUBeAFxAXEBegGEAX8BdQFyAXgBhQGMAYoBgwF3AXYBfwGHAYsBiQGDAX4BeAF5AYEBigGOAYUBfQF9AYMBlwGkAaABlwGOAY4BmAGeAZwBlQGMAYoBkAGVAZUBjQGBAYEBiQGKAYYBfAFuAWkBbAFtAW0BagFhAVYBTAFKAU4BVAFPAToBJAEZARUBGQEVAf8A3wDCALMAsQCuAKUAlwCEAHAAaABkAF0AUgBCADQAJQATAAcA+P/k/9n/zf+7/6f/lP+B/23/Xf9M/z3/Lv8T//r+4P6+/qr+ov6H/mD+P/4h/g/+B/76/ef9yv2t/Zj9h/12/WL9R/0p/Q397fzR/L78pPyL/Hv8YPxD/C38GPwJ/Pn74/vP+7r7nft/+2r7W/tG+y77E/v3+u367Prf+s/6w/q0+qb6mvqO+oH6cfpc+k36Q/ox+hr6B/r4+e756fnf+dP5x/m3+bP5uPm0+bD5ofmN+Yz5iPmF+Yj5f/l0+W35bflw+XD5dvl5+X/5h/mF+Yv5k/mW+Z75pPml+aL5nvmh+a35v/nM+dX53vnl+er59/kK+hv6J/ox+jf6PPpM+mX6e/qL+pP6kvqZ+q76xPrb+vP6A/sQ+yj7Rvti+3/7mvuw+8n76PsG/Cn8Svxp/JL8sfzJ/O38Bv0f/T/9WP15/Z79wP3i/fj9Ff47/mX+mP6+/tD+4/4F/zX/bv+f/7n/wP/P//f/JABSAHMAfwCVALwA7wAiAUABWAF1AZkBwgHfAfYBCgIlAk0CbwKPAqcCugLcAvsCGQNEA2wDkgOzA8gD6wMXBEEEewSuBL4EzgT0BCIFWQWVBbgFygXlBQIGLgZxBp0GwQbyBg0HOgeFB7AHygf1ByAIVgiRCK0IwAjmCBwJWgmaCcQJ2wn9CSgKZQq5CuUK8QoSCyoLSwuLC7cLxgvYC/QLGQw7DFAMYwyBDKAMwgziDOsM9wwbDTINRg1oDWINWA1sDW0NdQ2QDYsNig2TDYcNhA2JDYcNig2HDXYNZA1PDS8NFQ0ADeIMvgyTDF4MLgwJDOQLvwuZC2YLMQsCC8kKlwpuCjYK/wnGCXwJOwkDCcIIhAhCCO8HowdZBwUHsAZZBgwGyQVuBQcFrARVBP4DqQNQA+4ChQIYAq4BSAHhAHQAAgCJ/xT/pv4t/rz9UP3c/HL8//t9+w77mfoX+qj5Ovm1+DD4sPci96D2Mfax9TT1vvQ59MXzV/Pb8nPyCvKM8RzxpvAc8K/vQu+57kXu0+1I7drsdez965/rQuvS6n/qKOq06VrpC+mc6Dzo6Od35x7nzOZj5h/m2+WC5U/lFeXJ5Kbke+RA5Cbk++O345jjcOMo4wLj4OKp4oriaeJC4kriU+I44jjiReI94lLiZeJe4njij+KH4p/iu+LC4ujiDuMh40vjd+Of4+jjNORv5MHkEeVK5Z7l+uU55ofm2uYc53bn0ucb6IXo8OhD6b/pPOqf6hvrkesE7JnsIO2X7SLuou4R75fvLPC68E3x2fFc8vHyivMw9Or0j/Uq9s32cvcn+Of4ovlm+iz73/uV/F79L/4H/97/tACaAXcCSgM3BDAFHgYNB+gHsQiKCWMKQwszDAwN5g3TDrAPkhCFEV4SHxPcE4QUJRXSFVkWzxZuF/4Xmhh9GU8aIhs8HFAdch7KH/Eg+yECI7wjVCTnJColRCV2JYAlgSW3Jd4lFyabJhMnkic8KLsoLCm4KR0qaSqtKqIqcCpNKgIqsSl/KSUpyyigKHIoeSi5KMko4CgdKTIpTSlkKRoprig1KHQnqSboJesk5iMHIxsiXyHoIGogDyDbH4ofTh8dH74eXx7kHR4dThxqG1oaXRlmGFwXahaHFakU/BNpE80SShLJESgRiBDYDwkPOw5ODTQMIgsJCtsIvQevBqoFvwTwAzUDjgL9AXAB5ABcAMz/Mv99/rb95/zx+//6Jfoy+U74gveq9u71RvWh9Bb0hfPk8lfyyfEg8Xrw3+8y74fu8O1X7crsT+zV63brMevg6p7qaeoh6ujprOlW6R3p5eiR6FXoE+jE557ngOde51XnRucx5z7nS+dG51rnY+dN51fnXudK51vnaudw56fn5uc86NrogOki6tfqcusI7LrsRe2S7bHtle147Zbtwe3b7fDtBu5C7rruXO8S8LzwUPHk8XPyBPOc8wX0QfSG9K70vfTc9P70LfV99ev1Y/bn9qT3YPj5+LP5Svq1+kr7tPvN+9772fu++877+vsG/Pr7+/sZ/HH8Bv2m/Sf+jP71/mT/0P88AHMAawBmAFQAMwAmABgAFAAxAFgAhAC/ABUBdAHJAS0CfwKmAt4C+gLYAr8CkgJHAh8C9AGnAVYBFAHsANsA7AD1ANwAzgCxAI4AkgB+AD4A9P+Y/y//0/58/hv+xv2A/TP97vys/G38PvwD/MX7ivsq+8n6ZPre+Xz5IPmf+Ef48fdv9xb3x/Zi9iz2+/We9Ub15vRy9CX0/PO782PzE/O18mXyQvIU8uHxrfFi8Snx+vC28HzwOfDu77jveu8t7/Puru5m7lfuVO477jjuKO4M7hnuKu4r7jHuJu767dbtwO2c7ZDtku137YHtoO2q7d7tGe5J7pru0e7v7ijvTu9n74rvnu+179fv6+8L8DfwY/C18CTxlPEL8ojyBfOD8wz0n/Qi9Zj1+fVH9qL29PZL9833Sfis+Bf5hfkP+r76f/s4/MX8RP3c/Y/+Tf/+/4oA6ABXAQICvAJsAwAEhwQtBfkF3gbDB4UILAnnCawKXwsfDL0MJA2gDRoOkA4mD64PNRDUEGMR9xG5EoMTSRQcFcEVTBYAF6QXSBgJGX4Z1BlcGuQakxttHAIdhR1QHhgf7B/3ILghTiIVI6wjQCT1JFkluCUvJnAmziZcJ64nAyiOKOUoNSnIKTcqkCoSK2wrrCsFLDIsWiyeLJwshiyfLI4sfSyWLHYsXixwLFgsWSxvLEosPCw2LPQrwSuTKzUr2iqHKgkqjiktKZ0oIyjZJ1on3iaFJgcmmSVCJbgkKSS0IxQjcyLmIR8hWSCnH88eCh5KHWMckhvJGu4ZKhlrGJIXvxb3FRgVRxSKE6ASsRHZEOMP8w4QDhMNIww2CzsKUAlnCHUHiAadBa0EwgPNAs4B1wDO/8b+0/3D/LD7r/qY+ZD4nfeR9pH1pPSi87Py1fHi8APwKe837l/th+yX68fq9+kE6TPobOeK5sDlA+Ut5G3ju+Lt4T7hqODj3zrfp9713XLd6dxA3M7bWNvF2mPa/9l62R7ZyNhE2OHXltcs1+vWudZc1iTWCdbV1cbVwtWh1Z/VldVz1XvVetVZ1WLVV9Uk1TLVNdUO1S/VP9Uj1VLVi9Wj1eDVE9Yp1nfWz9b81krXjtes1wLYT9h12MfYC9ks2X7Zv9nf2T3amdrO2izbgtu72yfcldzs3GXdwd0D3n3e9N5O38TfM+CN4PvgbOHU4U/iv+IV447jA+RW5NTkTeWm5Sbmn+YC54Tn/Odq6PnocOnQ6VPq0upC68vrTOy27DXtye1W7uzuh+8e8MDwUvHa8XryGfOw80r0y/RD9dT1Zvb09oX3APho+N/4bPnv+WT6zfow+637Mvyq/Bv9fP3o/V/+1v5j/+P/UwDUAFoB7AGNAiADoQMvBMIEQwXVBWkGAge7B10IBQnVCYkKUQtRDDsNKw4vDwQQ1RDGEagShBNmFBUVmxU5FskWXxc0GOYYfxlWGicbHRxUHV8efB/RIAUiSSOjJLElqCbFJ7woliltKuMqKCueKwYsdiwWLYot7S2GLigv5y/ZMKUxRjLrMmAztzMYNDE0OTRsNEw0HTQjNOgz0DMLNBA0LTR+NIw0oDTjNN00xzTZNJg0JjS8M/AyBDJGMWUwkC/KLsItvyz1K0YrxyppKukpVinSKDIolCcAJzImVCVaJBEj3SG0IFsfNR4qHe8b4Rr5GfQYERhOF28WjxW9FLcTjRJzETIQ1w6RDTkM2AqACSAI0gamBZ0ErQPMAvYBIQFFAG7/qP7R/er8/vvb+qL5gPhF9xb2CvXg873yvvGz8L/v9u4x7n7tzuwI7Ejrhuqz6eXoH+hQ53zmneW55PPjQeOZ4hvipeEj4cTgbuAK4N/fwd95303fDt+c3lPeBN6i3WXdFN2p3GHcItzi29Tbztu429rbCtwX3Efci9y83Azdat2x3f3dO95m3rjeEd9k3+ffUuCS4AThiuEQ4tfiquNg5Cfl3uWO5l/nJujZ6H/p9+lT6rXqE+uC6zXs/+y17YHuUO858Hbxr/K/88/0ofVU9kH3JPjU+HH56PlC+rT6PPut+/77S/yu/Df93P1//vT+MP9///L/SwCVALUAhABdAFsAWgCHALgAqwCeALgA3AAVAXoB2AEMAkUCfAKMApkCsQKjAmgCGQKZARoB2QCUAFQANgAAAMr/t/+i/3//ZP9P/yn/9P7C/ov+RP75/bD9Xv0A/Zr8M/zF+2f7JvvY+pb6Wvr4+Zr5OPmt+DP4wvck94L25vUp9Xn04fM186byIvJ58ebwX/DP72XvC++X7hjujO3q7Fns2Os/67TqOuqT6QTpmugM6KbnXOfa5m3mBuZ45RblwuRL5PLjlOMW48DiZuLx4bPhf+Es4QTh5uC34LXgteCj4Lvg0eDX4PjgCOET4UrhgOGw4fDhMOJv4sfiJuN249bjROSv5CjliOXb5VbmxeY159HnSOiv6ELpz+l26k/rGuzj7Kvta+4/7yrwI/EE8sryhPMj9NP0m/VY9vv2j/c9+Pv4wPms+pX7dvx//Yf+ef94AGUBQAI3AyYE+gTaBa8GfQdwCFwJPgpAC0YMUg14DooPnhDTEfUSKBR5FXQWShdOGBoZzhm0GmAb4Rt/HPkcmx2cHoQfniA6IsAjUyWEJ8wp0ivsLeQvpDE0Mxw0rzRgNbw18jVANkY2aTb/Nqk3pDjrOew6FjyWPbw+6z9WQRRCckIAQyhDHkMoQ6lCBkLCQWlBRUGAQXRBiEEgQrdCcUNbRNhEBUUaRdhEa0THQ5FCH0GXP789CzywOk85LThhN5o2KDb7NaM1fDViNdA0JzRWM/0xkzAWLyotPCtpKWsnkSX6I20iHiEWIBkfSB6XHc0cAhwvGyUa8hiRF/QVLhQ0EhUQ/w3lC+kJMgiZBisF/QMGA1ICugERAWcAtP+8/pH9Vvzb+jT5g/ej9cPzBPJM8M3uhu1b7G3rm+rK6RzpY+iR59rmAubl5MvjkuIq4fLftN5X3TbcFtvu2SDZcti810/XBteh1m/WQ9bW1ZPVPdWV1BDUcdOI0r/RBNE50KfPOM/NzqrOn85/zrDOBM88z6PP+M8Z0GXQp9C90ADROtFF0YTRwtHr0XrSItOw05TUg9Vh1oPXoNio2dLa19un3IndV97q3oTfA+Bb4NvgR+Gg4TLiw+Jc4zPkCeXf5fTmAujh6Nfpv+qB61zsGO2w7Vbu2e5E78/vW/Df8Gzx6PFb8u/ylfM49OL0gPUN9pr2BPdc98r3DPgt+Fn4aviD+MH4CPlP+Zz58PlC+rn6SvvD+0L8t/wd/ZX9CP5n/qP+wv7a/uP++P4P/wz/Af/8/gT/Ef8h/zz/SP9X/3X/h/+k/9L/8v8JABQAAgDj/8z/tf+J/1v/K//5/tf+vP63/r3+pP6F/mX+Pv4P/tH9kv00/cD8UvzS+1b74/pW+sf5Q/m++FT4/Ped90r37PZ49ij25/WN9Sj1pPQP9JjzLvO+8kXyq/EX8bTwW/D0757vQe/J7nDuMu7V7W/t/+yB7Cjs1etk6wPrqepD6gvq8Om66ZTpgulc6V3pe+mO6ajps+nC6fDpKOpq6rLq9eo765Xr/+tz7Pvsge357YPuBu997xXwm/D38GLxwvEL8m3y3vJI87TzJ/Sh9Dn1/PXL9p/3efhd+VP6NPsb/PL8g/0S/o7+4v5W/87/RADQAGwBOwI/A2gEtgUeB4AI2glJC44Mkg2FDicPcg+nD40PSQ9FD1APhw8tEAkRYhJ8FAQX7RkaHQwgvCJyJfAn7ClYK9grqyttKw8rySqoKjsq+Cl1KoUrMC1bL10xUDOSNb831znSO/M8cT2wPVM9wTw/PEA7HjpdOa84ZjjqOMM5Azu7PEw+6T/QQWNDmkRbRQtF90OaQtRA3D6/PCs6pje8NVM0pzOmM8wzPTQRNeg12za9N+o3ije9Ni01STMwMZEu3StAKZYmUCSLIhQhIiCrH2Ufax+jH7gfsB9tH6gebh28G4UZBRc+FDsRWQ6YCxkJMAesBaAEMwQaBD4EkATRBOcEzARJBDMDtgHS/5b9Nvum+C72/fPo8TPw++4P7pjte+1m7XPtgu1R7Q3tkuyS60/qz+jl5vDkCuP54C3ft91P3Frb0Np82qzaDNtG257b5NvP26TbPds82vrYj9fd1VPU6tJ80VzQhc/vzt3OJ8+BzwzQntAK0aLRF9Ik0irS6tFS0d/QX9C/z2DPHM/gzgTPdM8O0P/QDNIG0ybUP9Ut1iTX6NdV2LbY7dj22CjZg9kG2rzaptvu3J/emOC/4vDk+ubh6LnqQ+yB7YLuCu9q7+TvMvCA8PjwZvEI8gvzL/R29fH2YPi5+TT7kPyJ/U3+yf7w/gP/Af/l/rz+qv7O/hf/n/9ZABkBCQIbAx8EKAUuBukGUwewB9EHkAc9B7sGAQZsBfsElQR8BL4EEwWHBUAG9waPBy4IswjxCAYJ9girCFEI/AeAB+4GfAYVBrkFmwWfBaIFzwUWBjwGVgZuBlYGEga4BScFYASTA9UCGAJZAZ0A7/9l/wr/t/5q/lX+Rf4Q/vP90v13/RX9ofzq+yX7ZfqC+af49fc194b2CvaB9Qn1tPRN9NbzTfO38iLyfPHK8A3wL+9G7oHtzOz/61HrueoT6qbpWen56MDoj+hH6B3o5ueM50nn/eaN5jbm3eVX5e/kpeRF5Afk5OO8483j6+P44zTkc+Sh5O3kHeUi5TnlTOVP5W7lk+Wl5dDlIOaD5gjnmecq6NvonOlb6i7r+eu07I/tbu4z7/vvofA38fnxuvJe8/DzWfTL9HX1JfbQ9mj34PeD+HX5gPp/+1f8Cv3R/dz+/P/aAHMB9QGKAk4DPgQrBboFFAadBloHZgiQCVQK8wrVC+EMGA5rD2MQ9RCFEQsSihIhE0kTCxMQE1ATxRN0FB8VHRa2F6sZDRzBHlEh2SOAJvYoPCsfLR0unC76Lvou/y4UL8EujC7rLoovqzBaMrkzAjXiNsk4ljprPJE9MD7XPiA/Ez/lPjk+UT2CPL07Xzt0O647QDwiPQ4+Rz/BQAFCIEPoQ9BDUEOdQl5B5T8jPss7cDlwN6I1ZDS9Mx8zuTK/Mv0ylTMuNDQ04TNWM1gyDTF9L3QtLCvAKEAmAiT0IQsggh47HSscfhsDG5YaTBrdGRQZGRjLFiAVRhMNEW4OzwsxCZwGawSAAt0Az/8D/3n+b/6I/qP+tf6O/i/+d/1X/PX6W/l49271YvNb8ZnvIu677LHrDuuF6kLqMOoS6gXq1ule6ePoL+gL58Xla+TL4i3hw99Z3ifdTNyX21DbX9uJ2/nbcNzV3Ejdcd1J3Qjdc9x623HaRtns19PW4NX41IHUStQ21J3ULNWz1XnWPdfF11XYxtjd2NrYvNhl2BzYy9dr11jXbteb1y/YA9kC2k/bqNz53V/fnuCo4aXiW+PD4x7kQ+RL5JXk/eR85TnmHOdM6PHpzeu+7bTvjfFd8yv1ufYG+CD53vlq+vb6aPvZ+1v8yvxV/Sb+Ev8WAEEBZAJ6A4oEggVnBhgHeQetB7gHnQd5B00HKQcXBxUHQAegBxgItAh7CS0KvgpWC9sLOgx3DG8MJAzEC1cL1gpKCsQJUAnyCLsIsgjMCAMJUQmlCe8JJgpHCk8KPgoGCqQJJwmXCP0HYgfIBj4GwQVJBewEqgR3BE8EJwTmA5cDQQO3AgUCRAFTAFb/Y/5W/VP8Z/uD+sr5L/md+CT4r/c79+X2kPYT9pH19/Qr9HTzt/K28dHwAvD/7iDube2q7Arse+vZ6lHqx+kk6anoMuh557nm++Um5WrktePi4hHiTOGa4Cbg29+C30TfDN+43qTeod5r3i3eu90u3dPcetwO3LHbSNva2rXardqg2szaD9s625DbBNxn3OjcWN2U3fndTd573tjeNt+Y3xrglOAX4cvhnOJ7427kU+Uy5jnnMOgc6RTq2Op76zTs1Oxk7Rburu467/HvsvCb8aLylfOf9L311/YO+Dr5M/og+yD8Iv0L/rj+Q//r/6cAbgFEAvoCogOcBMsFDwd3CIkJYAqGC8YMCg42D9gPPhDwEN4R+BIXFLQUGBUaFqgXmhnKG4sdOB+SIS8k7CbCKdQrQS25LgQwIjEqMrMy0jL/Mm4zNDRYNZE2yzc0Oa46cDyCPlRAEEKmQ45EXkVORsdGLUeBRwNHXkY4RhpGY0YNRxZHGkfqR85I1kkwS9hL8UspTBxM4kuOS5JKD0lmR45FzENiQhdB3T/BPtk9bD1OPT89Wz0/Pa08BTwkO9k5pDhANxM1wTKMMDkuVyylKpAoqCYuJeMj6yIiIighJCAqHwge1Rx8G84Z8RfmFZ8TVxEhD/IM4ArgCBgHtAV6BIQD4QI7ArwBYwHQAAUAKP8d/t78d/vJ+fD3MvZ89N/ycPER8OjuAO4u7Y7sEuyZ60zr9eps6ujpOelU6IXnjeZA5f3juOJR4Tzgad9+3sjdRN3F3K/c3Nzo3Prc8Nys3IrcX9zR2xvbN9oW2SLYT9d01tHVSdXQ1LPUydT/1HDV1NUk1qLWBNc816DX6Nff19nXrtdZ1z/XLNcG1yTXVteO1ybY/9gE2kzbnNzd3Sffb+Cq4eDi5uOT5AjlVOWa5Qjmbubg5m/n/+fu6GPq++ui7Vrv6PB48jP0xfUW90D4Evmm+UD6zvpB+7f7D/xA/Kn8XP0v/jT/VgBsAXkCjwOkBJwFaQbvBhkH/AbXBsEGpwaSBlYG5QWtBcoFFgaLBv8GYAfdB4IIOQnhCU4KcQpWCg0KpQkpCaYIGwiDB/0GoAZrBmAGcQaMBq8G3AYOBz8HcwecB5wHagcWB6EGDwZnBaEE0AMCA1MC1gFpARgB6QC0AI8AfABGAOv/jf8d/4X+zf39/CD8OPs6+kL5SvhM93z2z/Us9bn0WfTy86nzUfPa8nby+PE88X/wvO/J7uvtJ+0u7Enrguqb6e7obOjR523nGuek5lnmH+a+5V/l7ORN5LHjE+NU4qnhB+FQ4MPfQt+r3lveLt7k3cbdtd2U3Z/dpd2K3XndQ93n3Ljchdwm3Pbb3tuw287bHdxX3MHcUN3T3XveNd/p36fgRuHp4aviQOO44zvkm+T05IXlGuah5lPnC+jT6OvpEush7Eftd+6Y767wrvGn8r/zvfR59Sr21/aV94X4dPlL+iH7AfwD/S/+c/+hAJgBdgJoA2AEYAVqBiIHjQclCOEIlwlrCh8LhgsdDAkNCA4gDx0Q6hDgEdgSuRO5FKEVhBZ3FzgYExkjGjkbmRwQHkAfoyB4Ik8kQSaAKHIqLCwcLqcv3TA8MiQzqDNJNKQ0CjXtNdM2zDcIOSY6bzslPac+8z9lQaVC0EMFRa9FNkb6RlNHc0eLR0NHKUdhR3RHrkcZSFpIw0h1SQFKhEoVSylL6Uq1Sk9K5klqSUtI6EaaRU5EYkONQlBBOkCLP/s+tD6EPvI9Xz3XPM47sDqrOS44hzbPNL4y0jAPLx0tPitqKX0nzyVhJPMimyFjICIf5B2YHBQbiRnwFxYWHBT/EdkP8g0KDBEKVQi9BkAFAwToAuMBCQE3AFb/d/6F/Xf8WfsJ+n74zfYd9Yvz/vFj8O3upu1q7GbrourG6fboWOin5wjnfubV5SzlYuRs44fik+GC4G/fSt4t3Ufcj9v02nvaDtq22aXZkNlS2TPZ+NiG2CfYpdfx1lrWudXs1DvUoNP/0qTSatIY0hPSPtJW0pzS4dIT03TTr9O80+7TFtQf1DDUMtQi1CvUPtRS1IzUxtT91IDVHNay1orXZdgx2SjaAdu926bcft0w3ufeit8v4PTgsuF/4mnjUeRj5aTm8Odv6RTrouwz7szvL/Fz8rbzsvRw9S/2yPZI99v3WPjS+HT5CfqS+lT7MvwN/fn96/7d/9gAyQGLAhwDhwPBA9gD5gPgA8gDswO2A9QDAgRVBMMEIgWGBeoFQgaoBv8GLAc7BysHAQe6Bk4G1wVfBekEhAQ0BP4D+QMfBFQElgTfBCEFVQV+BZ4FogV/BUUF8wR2BN4DQwOWAtQBHAFxAOT/hP84/wb/7P7A/p3+gf4u/rP9Jf11/LP74voA+h/5Q/h097v2C/Zp9e/0k/Q89An09fPU877zoPNI89fyUfKU8cnw8u/97h7uUO2A7NnrTOvP6nPqFeq76YzpZOkv6QLpyeiD6ELo1ec/57PmD+ZN5a3kIeSc40bjFOP74gfjIOM8423jj+OX46zjs+Oc45fjf+NI4zbjHePi4srixOLF4gDjWuPA40vk6+Sk5XPmM+fk53/o+eh76QbqdOrf6lfrv+s/7PLso+1V7iHv8u/S8NDx2vLv8/309fXY9qT3Zfgf+cr5dvoP+3z79fuo/Iz9if54/zMA3wDFAfYCOgRbBScGpAZHB0YITAkcCpIKrwriCncLQwwKDZ8NGA6nDmIPeBCyEZUSWBMWFIsUGhXtFXYWzxZCF4QXyRd4GFoZVhqFG6oc/x3KH5ohfSOiJXInCinAKgYsEC1RLjEvtC83MHsw1zCmMX4yazOKNHs1hDYHOLE5bjsdPTc+Fj8wQCdBFULvQv5CoEJ2QkpCYkLBQrNCo0IGQ2hDFkRARR1GxUZ+R8JHzUcESPtHpkcER9FFfkRXQzFCREFYQAg/4D0uPa08jTyRPCU8ozs1O3862zksOc43GjZCNCUySDCPLnwsYipoKHgm4iSOIz8iFCHzH8ceth2cHGAbFhqFGJkWixRTEgcQ6w3DC3IJTwdfBbADWwITAd//6v7z/QD9P/xl+236c/kw+Lv2SPWm8/zxZvCe7uDsY+v36dTo9+cO51bmxuUf5ankSeSu4xHjV+JP4Vrgd99Z3i3dAdzJ2szZAdlE2MzXetcy1y/XQddB12vXd9c+1xnX2dZW1unVcdW91CLUjtPj0n3SLdLC0azRwNHE0SDSmdLs0nvT/NMv1IbU0dTS1OPU1dSO1HPUaNRc1I/UydQF1YnVI9bX1uPX+dj52RTbHNwZ3TfeJd/W34jg/uBP4dzhXuLF4mbjB+St5Lbl2ub951fps+oL7JLtG++I8Njx9/Ly89T0jfUY9o72+/ZS95j3+Ped+Gj5K/oN+wX8zPy0/e/+///CAGsB5gFGAqQC4wL+AvMCuAJvAk4CZgKbAtICFgN4A/wDqARnBQcGfAbUBhIHPAdJBx4HywZxBgoGhwUEBakEWQQHBOED2gPmAzEEiwTDBAEFMAUjBQYF3gRwBMsDIgNoAqQB9gBSALv/Qf/H/l3+Lf4a/gz+Af7t/dD9pP1f/Qn9kPzb+wr7Lfo8+Vz4ife59iH2p/Ua9cH0o/SA9Gz0Z/RA9A/02POG8zHzvfIL8k7xiPCo7/LuWO617UDt2Oxx7FzsY+xb7HDsbexF7CPs5+ub62PrButq6tHpTOnA6FfoJOjb55LngOeK58vnQOib6PHoSel/6b/p++kW6iXqEerr6dnpvem36efpCeor6ojq/eqI60Hs++yn7VzuCe+u72XwAvFs8c3xIPJh8sTyPPOl8wn0cPQA9dH1rPZ+9134OfkW+v/65fvC/JD9Qf7R/lj/6P9qANsAXwHtAWYC6AKRA04EEQXkBaAGPQf7B8oIgAkmCpEK0Ao6C8ILOgycDNwMEg1iDekNnQ4xD58PHBCjEDkRABLUEmgTxhMrFIoU8RSAFe4VKhZrFpoW4hZ+Fx8YuRhsGfsZkxp2G2wcgB2jHmwfLCA5IUIiZCOcJGQlDSbzJrAngyibKVUq3iqyK3AsMC1LLksvHjANMb8xZjJnM1I0EzXBNQ42azYVN4s3/Dd7OJY4sTgFOTc5pTlLOn46lTrlOg07XzvsOwM81zvAO3k7Rjs2O806RzrSORc5VzjCNxk3fDbnNQc1GzRlM78yMDJ+MXAway9tLkAtNSwNK44pKCiyJg0lrCNUIsogWx/dHTcczBqJGSoYxRZUFcITQRLWEFIPwA0lDG8KuQgFB1kFzAM+Aq0AKv+X/SX89vq1+WD4G/fG9Yn0avMn8ubwse9a7hPt2uuD6kvpJOjk5sTlsuSb473i5uHs4BfgWN+O3t7dJt1W3LLbE9tQ2q/ZEdlY2NbXYte+1kDW39Vp1SPV6NSN1F/UN9Tu09LTudN502DTPtP20uTS3tK60sfS0dLB0ubSCtMd02LTm9O90w/UUdR61NbUMdVu1b7V99Ur1qPWGNdz1/DXZdjh2KHZadof2+nbotxO3R7e+t7D34XgJeG24W7iKOPW45vkOeXG5ZPmd+dt6Irpjuqa69vsHu5g76Xw0PHn8uTzyPSr9YD2Offn95f4OPnU+Yf6Pvv1+8X8jP1J/iT/9v+zAIABRQLkAl4DuAMNBGQEoQTDBN0E9AQeBWUFwQUjBncGwwYeB4gHBAh8CMEI4Qj+CBEJIgkyCRYJygh2CCwI+wfkB8UHogedB6YHvQfvBx4IRghpCGYISggoCP8H0AeFBxQHkQYSBqQFOgXJBFsE9QOkA2YDMAMLA+UCrAJjAgwCsgFLAcEAHABa/5v+8/0+/ZP8//ta+8b6Wfrs+Y35UfkK+av4U/gE+Lf3ZfcB94f27PU69af0JvSY8xnzmPIK8qnxbfE48RDx3PCX8GLwLvDx78Xvje8u79PucO777bHtfu0v7ePsqeyG7J7s1uz07BLtRO177brt6O0H7ivuK+4W7hjuBe737SHuOO4n7kDufe7A7jfvye8x8KDwPfHX8WTyAfOu8zT0h/Tl9FL1yfVb9tD2G/eO9zn42fh8+Ub6APut+238IP3R/ZH+Rv/e/1UAzABLAb8BLAKSAvECVAO7AyUEqwRIBcsFRwbZBlkH4weNCA4JagnOCSIKWgqYCtoKBwsxC1oLcguYC+ELPQyTDNoMJQ1rDbYNHQ53DrAO4A76DgYPJA9DD0YPWQ97D3MPcQ+pD/UPUhCzEOcQFBF6EegRORKQEs8S5BIHEyUTQBN1E44TkROcE48TnRPoEywUdhTYFBUVaRULFqsWThf6F2QY0hh2GfUZehotG6Ab6xtgHNYcWh0BHnke1x5SH8QfRyAAIaUhLSLBIjkjqCM6JLUkIyWPJaslwSURJlAmoiYHJw4nBydJJ3wnxCcpKDIoLihiKHIolCjoKPco0ii1KIQoUSgxKPonsydWJ8smWSYPJrUlayUJJWMkzSNFI7wiVyLUIQMhISBJH34e1h0hHQ8c5RrQGbEYuxfXFrcVhRRcEzQSLRE0EBcP4A2bDFYLHgreCKQHdgYXBa8DYwIHAcb/n/5J/e37qfpk+Tj4Nvct9g718fPN8snx9PD77+bu2+237LTr2Orm6fvoCOj+5hvmUuWC5MzjEeM/4pfhAeFX4OHfcd/S3k/e091C3ebcjtwX3MHbatsA287asNp52l/aQdoB2vrZDNoD2hXaG9oF2iLaSNpU2nvaktqU2sTa+Noa21vbmdvI2xrcbNy03Bjddt3N3TzeoN4J35TfBuBr4PDgXeG+4UbiwuIs46/jJ+SV5CXluOVA5uvmleck6NDohek06vzqtOtj7CXt1e167i7v0u9k8PvwivEX8qLyGvOj80j02vRm9Qj2pPYy99T3fPgR+b35YPrR+lH73PtO/L78Jv18/cL9DP5n/sT+Jf9//9P/SwDaAFYBxAFBAsICIQOAA98DFQRUBK4E2gTVBPIELwU+BVAFmgW+BcUFDAZgBoYGuQYDBygHJwckBxYHAQfuBrMGVAYXBvUFuwWTBXUFLQUMBRUF+ATlBOoE1ASuBJIEhQRZBBIE1gNoA+gClAIrArYBawEkAckAhABeABoA5f/s/8j/fP9a/xz/t/5p/hz+x/1m/dH8OPzK+1L7zPp3+jb6zflo+Tj5EPnd+NX4yPh2+DT4Bfiu93b3X/cW96v2SPby9cD1svWW9V/1KfUF9RH1P/VU9WL1g/V39U71evXm9ff1tPWl9a/1r/Xt9SH2G/Y99oT2ofbE9jb3pPfl90L4ivi0+A/5ePnS+Q36H/o7+m36rPoE+0/7d/uq+w38ffzd/Ef9zP1K/pz+/f59/+r/YQDOAAEBNgGKAe4BTAKSAtQCHwN0A9YDPAStBCAFhgXZBRwGdQbwBkQHXAeJB8kH4Af/BykIOgheCI8IqQizCNAIEQlACVwJjwmzCcsJ9wkWChQKFAooCjoKOgooCgYK+QkJCg0KCgobCh0KEQopCjoKPQpwCoYKZgptCnkKewqPCocKbQpqCmsKaQpyCnUKdQqBCoUKlgq8CsQKzQrsCu8K6wruCukK9Ar0CtkKywrQCswK1Qr6CgIL9goRCzILVguSC7ALugvlCx4MZQy6DOkMDw1YDZoN9w1zDq4O2g4uD3kP7g92ELAQ2xAjEV8RqREEEjESPxJqEpwS1RIvE2UTdxOwE/kTRhShFM8U3RQRFUoVdBWxFdEV4RUGFgkWGBZSFl4WbBaXFpYWnxbNFucWFRdLF0MXLBcpFx0XHhcMF8wWiBYyFt0VthWIFTEVzBRpFA0UuRNrExETshJLEr4RRhHrEGEQyg83D3cOtQ0UDWQMpwv5CjsKfAneCEMIpwcMB10GpwXyBEwEqwPvAjECdAGgANz/Kv9l/p/94fwK/D77mPrp+VL50/gi+Hr37fZQ9sX1KPVo9LvzCfNI8prx8PBE8KTvA+9V7r/tRu3S7G/sDOyV6zXr8Oqq6lnq+umu6XPpFemt6GHoEui/54XnS+cS5/zm2eap5sHmzuao5tDm7ubJ5uDm+Obp5vDm9eby5u/m9+YE5wXnDuci51znl+eq5+bnJuhV6K/oAulW6a7p2un46T7quur/6hzrcOun6+rraOzl7Gztwu0V7rruQu+u7zPwsPAt8aLxAfJj8tzyU/Oz8xL0V/SJ9Ov0afXe9VH2svYF94X3Fvhu+MP4LfmU+en5BPpN+tb6Cvs0+4L7o/ve+zn8d/yv/Of8N/23/Sj+UP5m/r3+Of9x/3D/qP/z/wgALABjAIMArADlAPYA3QD/AEoBVgFpAZEBiwGXAb4BvgGdAa4B5QHKAZIBmwGtAcMBuwF3AWABdAFmAUoBOQE6AT4BLwEdAQgB8QDrANwAtACXAI4AfwBbAC4AFwAeABAA3v+p/3v/Vf8z/wz/9v7l/sX+nP5w/lX+Mf4N/hr+BP69/Z/9m/2T/Xr9av2J/Y39bP1I/TT9Xf2H/Wz9PP0//XL9mP3D/cb9eP1x/cz9A/78/fj91v2B/Xn9p/2E/U/9R/0e/b38m/z8/GT9Kf1t/Mv7k/v7+8f8E/1J/OP6dfqT+w/9ov1T/Br60/nt++H9jf5JAKcDcAR8Ab4ApAVDCtoJ1AjqCQsK4wkIDWERVBEjDpQMawsWCvoKvwwrDSMLngctBQcE9wP4Av//L/78+0n4Ava79fP3Q/hQ9ErynvEw8D/wYfFL8yD09vNM9YD2pve5+Qr8pP10/fj9QwCtAugEVAaAB9kIGAqDCoYJ3glACxgLcAoWCpQKuQpHCQMIuAY9BckD7AHyALT/pP0Z/Qz9qvsB+sL5Tfo++U33M/e3+Lj55vmd+iT8nP0u/mL+wv/KASAD/gMyBRcHFwmcCgcMZQ3SDckNUA8OEbcQPhBcEEkQShHiEWUQTw8dDmsLnAuYDfoKNQecBxgKTwnDA4EC2wWcBVoGkgSV/VoAhQdyB48GgASAAQoEwQqVDowKbwaJCbYO+xKAFP8RNREeFdoXuRWHFdIZLxzvGjcY4hZLGEgbGh67G9wVUBRKFlwXXBZaFYsV9hOdEKoO2g8eEjsR3Q3pCvUJvQsCDsMNTwsCClEK7wrqDCgOwgxuC5AMpQ/eEAsQXxD8EFURwRHfERoSMxKtEroSixFUEZcRDRFYEEYPWg6GDVUMcAuwCtYJqwj9BjgFCQSuA34CNwD0/tD+vf7d/Yj88fuN+y/7L/vL+h36BPqN+sf6dvqI+hr7fPtv+2j7afs3+6L7g/ys/EX8Jvxl/IL8fvxQ/KL7Cvv4+uX6ePoV+uv5Tfk2+Hj3NfcM93/2OvXt89Tze/RT9HfznfLt8YvxYPFx8XjxLPEk8XXxiPF38dzxe/JB8nbxRfH08fvyWvND88HzWPRC9K/zk/Nh9Nf0P/So8+bzwfR69Vb1efTu89nzZ/PT8vzyivNy8wbz9fKn8gLypvGl8aPxSfEr8WHxPvFr8VjyGvPb8tfxl/Eu8oTyGvPI8+bzMfST9Gz08PP98zn11fWg9PPzq/RU9bb1G/ab9rf2lvV69LD0M/WT9cr1Y/Xw9Jb0b/Tl9B31v/QR9IPz2/M19B70c/Tu9C/1KPUE9VP1m/VU9QX1cvX69kD4nfeZ9oX3CfnI+I331fep+Tf67vh++Kf5ofqq+rr60vrD+dr4wPmz+lr6//nx+jz8xPs4+sr50PpB/Fn82foM+lf7j/1Z/k79ufwp/X39Yf6c/wH/Jf22/Hj+sQBxAQsBzf+//Xz93P8SAqsBCf+T/cv+ygCgAV8AtP5x/tX+Lv9N/5j/IgDW/9P/3ACiALf/sgBfAgkCKQBuAHEDhwQiAxkD6wMdA7AB0gLIBbAF/gI9Ar0DogVTBjEF4QNOAzwDkAO/AyYEkAT1A/YDIAX1BEEDaQKVA0wE6AK6Ao0EAAUEBH0DnQMdBNwEFgWlAwYC6wKGBE0EbATuBSgGNgSGAjMDPATcA9YE6wY9BtADWgPfBMgFgwXABe4FkARnAx8EzAUsB2QHVAbWBAUEbgQoBfsFmweACI8HbAZDBg4HrAg3CtAJAAc5BTAHKQpbCz0LdwqGCekIPwmoCmgL+QpxChUKggr/Cz4NDQ2/C/cKPQt/C5MLrgtDC+sKjwsjDJILpwqeCioL5ArRCWUJFwrTCqMKNQpaCikKGwlKCGEIFwmACdoISQixCPIIqQhWCOgHfAeFBxUIuAjKCOMHwAbaBuUHIQh6BxAH0wZRBgoG+AYDCSMKmgnyCJoI5ghqCh8MWA0BDusN0A1ODrAPpRGNEu0RHhH9ENQRdBPTFDgVkRSIE3UTbxQjFQoV4hTdFEgUjxOjE98TmBMDEwES9xC9EPoQMhE9EWIQ8A4vDmwOJA9uD6IOOA0RDPcLBw31DVENHQsNCdwI1gkXChoJrAfLBn4GUAYbBqUF5wTjA+UCgAI9Aq4BRgHTAAEAWP/r/nj+If6H/dT8zfzy/N38gvz0++n78/uK+0H7RPs7+/r64vq1+hb6vvnP+dv5ZPlU+Lj3r/fa90L4efhk+I/3KfbD9ZH2ovfr9wf3//XG9Un20fYq91z3kvZx9YX1Ufa59sn28/bU9nr2uPbl9lP2vfVx9Y31F/ZW9vP16/Rk86vylfPe9Lj0y/LY8HTwN/F08i3zIPLb73/ucu818YLxHvCZ7iDvkvAE8MTuF+8A8NfvO+/k77vwiO/27T/vLfGd75bt8O4F8eXwI++y7l7wcPCf7q/uzu8F7zLu2e/O8V7x9+5V7XDuUfCy8LXvEO7p7fnv7PBq75HuOO8t7rrrSOyJ7/Tv+OwI7M/tgu4C7tjtrO2B7MDr6u1W8FzvT+3n7W7wyPC37mLu7u+U8IzwM/Fc8kHzePPH8pDx+fBM8vX0oPXB86ry0vIG89fzE/UM9tL1OfMR8TPzovaQ9h71/PQ39F/zu/S39lL3Xfa49S33hveY9Xj23flY+jT43Pd3+j38y/ri+cn79Pze++H71v2Z/g/+eP6o/2oAHgBJ/9n+pv6B/uj+FgCFAG7/7v44/7n+RP0T/A/9U/50/cD8Ff1P/Q/9Evzc+w/87fro+kH9rv4c/mz+TQC1AP7+Av4B/yMAdwDdAYsEiAYCB00GAgYpBh8FBwQtBDsF3gaPCKsJ4wizBmoFVQVlBbYDEAErAb8CegNIBBsEAQNoAu8BdwISA7MB/gBcAqYDzAQYBkQGTQX9BJ0GaAndC5oMqwuYC7IM9QxFDYAOuA67Db4NAA80EHwR9xHhD0MMEQmfB2gICAp/CvQIFwdhBnoGuAcjCEIFVwGd/tv9YgBkBM4FzgNnATABSgP9BfQGewZoBlkGbwbXCGQN1BBYEQ4QNA87EJQS0xXmGJoYehWxE9YUMhdaGI0YlRiSFwQXOhguGY4YTBZAEycRNxAHENgQcRFlEOUOCQ4vDV4Mkwv4Ca8HyAULBREG3ggNC0MK9gejBr4GUwdLB4MGJgViBC4Gpgm7CwILQAlkCWoLiw0hD5IP6Q6xDhEQvBIcFeoVhhXpFMkUtxWcF4EZhBoSGpgYEBgXGVgavRtEHaAdvRwJHMAcjh6GH9AeNh12G7ca0ht2HT8eVB7vHUcdqRzQG3gagBm7GRka7xnQGS0ZBBhHF6MW+RUEFcoSOhCoDqAN/gwoDSMNsAtnCaMHcwYiBd4D/gIRAhoBEACz/tn9R/3++8z6BPoH+TT4u/ct92j2h/XM9Kn0/vTl9CD0UPPe8vnyV/MA8+Xx5fD27yfvOO8B8Kzw0PDM8P7w2fBm8G3wyfAQ8SXxV/Fq8v3zFvW/9d71dfVl9QP2A/e093/3R/cu+Pf5hfsI/H77Zfq0+Q/62fpa+zz7TPpN+Qb5C/kA+fL4Wvj29sv1kvWh9XT1CvUy9CTzT/LS8bLxrPF+8TPxrvDZ7xjvtu6W7kPuWu2w7B3t2u0P7q/tNe3+7L3sfexp7Pjr6+pK6hLrOuxo7OjrRevI6svqO+u76w/sF+z36y/s5Oyb7QHuH+4O7vvtEu517hvvbe9C70LvT+8N7xDvaO+h79vv3u9972zvre+/79vvsO8F767upO5v7mXuau447ivuPe787cDt6u0f7iTu++3b7e/tye2M7aLtuu2p7XLtaO3w7W3uhO6A7hPuSe0O7bXtgu7S7rnuRu7v7V7uGO9T7+TuLu7R7cftte3+7dHuPe/f7rzuD+8m7yXvM+8B77HuoO4S7/nvh/BR8BzwOfBL8G/wxPBG8bnxdPHN8O3w/fEb80zzwfKZ8ibz7vNs9If0ufQj9YP1xvUI9o72T/fl9933kfcX+ET5Avrz+Xr5bPnX+Tf6uvp1+wf8Nvwr/Db8QPxC/Gn8b/xL/Lj8vf0p/o79xfyu/FT9gf2h/OD7ovtY+2H75vs0/B/85vti+5v6Ffoy+sv6Kvvk+ov6sPo4+wj8HP3I/UP9afzN/HX+lgBGAlwCLAG7AFECHgVJB9wHiweSBz8IOwlmCoYLNAyEDNwMaA1HDpYPAhGuEWwRYhHOEaYRGhEsERQSHRNDE2QSaRFQETsSaxPGE5QS5BB6EEoR6BGIEQ0RLhHhEH4PCw7HDY8OBg+XDosNHgw3C7cLKg1UDmUOCQ5WDhwPtA/yDxUQiRBPEQMS5RIAFOATkxKCEnoUShfyGDYYjBZoFRUVXBahGFgZ9Rd3Fr4VcBVpFaYVmBZfF1sWqBTBE4AToBRNF+EZgRtpHEgdiB9cIyEnaCpxLesuBS+8L68x5DSQOF47iT1GP3BAwUHVQ0JGIkjNSMJHdUVFQ/5B6UFVQrBBaj8HPIc4ejWzMlQw/S2bKl0mRiLNHjMckBqiGc4YThexFHwR5g7oDPYKlgmECAcHiAWIBF0EywQgBYoFCAaEBc8DHgL8AEAACADu/1T/MP64/GH7IPq9+KL3YvYb9E7x+u6A7Z7sA+zp6/vrSOsL6i7pvOhn6DroRehf6E7oVugy6cHqiuyy7gvxQ/MY9Tf2Yvdh+bz7Hf5IALcBlAKaAx4FzQYdCN4IJAkHCbMIRgjuB8cHfwfrBmkG2QXDBDgDfAEBAOP+aP1n+zr51fa+9KrzH/NP8jfx+u+j7qvtKO2w7GPsEuw164Lqleqq6mTqKeog6kfqQOrE6SjpdOjb5w3oeej057DmheX95CDlJeWG5FXjhuHF39XePN6f3RLdYNya22XbIdxo3cPepd/h35XgK+L04/rlIugO6ijsdO7N8K3zqvYq+a776v1W/9QA8AJYBWwHkQgSCWYJvwk9CnYKFgoXCWsHhAXGA/oBAADx/eT7qfkh97/0q/Kv8Nfu1exo6vrn3OVM5EjjUOJi4bDg5t823z7fy99k4MLgkeBk4DPhluK846zkWOWt5U3maec86HjoX+gy6CzoBeiq55XncefQ5kTm/OV35d7kbeTG4/LiGuJI4bPgIeCc35vf4t8Y4EDgiuBC4Sni8+LP48nkrOV85oDnv+gr6rbrBu0k7kvvNPDy8NnxnvIV82PzZPMw8zXzQvMe8wrzz/IZ8j7xZvB976Tus+187FPrauqs6Trp9eiW6E/oHujd5+DnEugv6ILoDemU6RLqrOq86yHtau547yDwbvAA8V3yLfR+9ez1uvWY9Uf2TffD97L3FPfv9Q/12/T09Mf0CvQQ8/jxwvAW8CvwPPCe70HuDO0d7ULue+8J8Ibv4+6P75HxVPS99or3gvet+Mz71P9MA5UF6wZMCFwKPg3wEAkUeBVDFnAXMRlHGzsd5R4XILAgDyGSIfMh5iHrIY0iTSM2I/shOyAIH7cepB51Hrgd+xusGVwXdhbCFw0Z1hiKF18VYBPUEqoT9xRYFScUfRKdEbkR0hKiFBcWWBaKFYAULBTPFMkVFReMGCgYDhYwFdUVKRdnGJoX7RU1FWcUMRQ8FVQWRRg8G2YdDR8bIXcjICe+K+Yu3DCVM8k2/zkAPuRCkkhnTnZST1VJWbVdk2FbZZ5oPmtHbTBurG6rb0txUXNMdGdyH24RagtoJWfUZGlgcVvfVvxS8U8MTZdJP0XWPx46HzVmMForjCYEIrYdVxpgF+8TkxDeDawLAgpUCNUFQwNIAWr/2v2Q/E/7a/oC+bP2lvQA8wHyJfGC72vtMusK6YTnZOZg5VLk1+Ie4Ubfr93K3MjbX9ov2XDYOdgr2FzYY9m72ivc+t3p3yXiiOTc5mnp2ut37uLxcvV8+A/7rf3OACcEKQe0CSEMUA73D5IRKROTFPAVshauFlYWzBXzFIMTehFID3ENwgtbCToGFwOPAPr+Xf2a+ln3UfRg8aTuU+yc6l3psOcZ5V/imODq3/Pf4d923mLc99oS2hba0to22z/bctr22FbYm9gQ2TvZVNiX1gHVztOT0jLR98/wzgXOvszAyuvIBsjRx8jHesfWxs7FnsQQxIHE7MXQxx3Jlcn7ySTL9M2Q0gPXftni2g7dDeF35sbrU/CF9GH4Tvz/AKcFTgmkDEMQmhPoFVQXCBm6G7Ie1SAVIpsiJSJnIT0hKCFMIGIevRssGUwXvhW4E0QRbA4oC1EI7wUlA+b/q/xG+gr5xPeU9U/z3fHB8H3vYO447eLrpup46Y3owufa5prm3eZ95nnlhOQW5AXkm+P84nvic+Hu37jeF97Z3XLdnty52yzbC9v42r/amNq12i3b3Nul3FTdrt2a3t3gbeMv5ULmTOft6A3rFe0v74TxVPOn9Jf2I/lk+0X95v4FAIUAigDJAHMBXAE/AFz/6v4T/r38XvsJ+of4i/Yk9OTxye927VLrXeky50TlpOPs4UXgpd4I3dnb/9oU2j3Z3dgI2X3ZA9qo2orbcNwx3QneC98a4DbhL+L94g3kdeXt5jTo1ej+6IrpUOq+6vjqz+oz6uLp4enP6bXpU+nR6JToDOgf54rmW+Yp5t7lj+VI5UblteVz5lrnKujX6M3pFOs87AzttO3s7uLw1PJ19P31kPdm+Zb76/3o/+EAAAF3AfgCEgUABxwIVQjWCMYKog2rD3UPwA3SDJMNPQ9pEBQQ6g5eDh0PDBEWE+YTRBPgEZ8QpBBIEkwUURUiFZcUxhT8FbwXmBn5Gmca/RdTFqAWdRjXGs4b5Ro/GSkYWhkRHAMdUhvgGEUX8BY0F2IXRxcvFkoUsxMFFZUVKRQ6Ey4UtBUiFtwUaRMwExUURRYYGOwWdxTtFA8ZZR5iIuQj5CTnJ1MsyzEWOLg8gD9aQlFGo0wEVFpZ5lwxYOZjdWhObVxx4nO3dZp4aXwpf0x/bn4Kf/9/k3+WfQ56OHbbctZvkG3OahdmvmAKXMtX9VMFUFVLHEZzQPs6yzYMM7kufipRJhwirh5+GzoYfRUIE44Q5g06C1oJCQhXBhgE8gEeAA3+Svwj+0z5jvbk8xfy2fDO7k/sfOrD6NPmPOUP5MTix+CQ3iLdT9xa27LaQNuj3Abewt+H4vDl1Ogt68ztMPDg8dLztvZ8+oT+UgKOBhkLAQ/AEn0WBBkyGgUbxhsGHMIbXxtAG64bvBtHGr8XsxSUEe8O8Au5B90CLf5M+oL3z/RE8YbtAuo55iziD95D2kTXmNTP0WDPYc32yxDMGc0EzcnL6soKy7fL3ctZyyjLIMvPyhTLAcybzCXN+M18zqLOl86qzvnOTc53zDnLz8o6yonJ+8jLyCXJNcmqyCTI/seIyPvIa8gUyP3Ix8pWzTfQp9Kr1PLW6dnj3BffA+HE4yvnAerA7KXwCfXS+O77zv6fAZUDmwT4BbQH0Qh2CR0KfQppCnUKAwsqC40JnAZHBAoD3AESAJT9wfom+DP2MPU79EXyq+9Q7QTs/+tm7IPsS+xR7CLtjO6y8LXzmPaw+If65/wYAMADcgcSCwwOqw/8EM0TrRfwGisdhh7hHs0eMx/zHxogkB4/GxkYERbBEwcRXQ5bCyYIygRXAQX+Vvqb9onz4vBA7ofrE+le52DmzeUr5VXktOOK497j7uSd5gzoPuky6+vtePAe8jjz2fSv9vL3FPkk+sz6KPuJ+2b80/wa/JT7YfuI+ib5kvc/9hD1ePPH8RbwxO0n62vpaehK5yzmEuUP5I/jb+O04zHkZOSK5OLkYeX35dLmGegx6RbqKuvl61/s9+yH7Ubuuu6T7p7uuu5i7tTtG+0O7KLq3Ojt5ubknuKU4FTfLN7E3IPbS9o32UDYV9cB17rW89VT1UzVGNad11nZ/Np13CneYeD34sDlYuji6mTtmO/G8Wr0MffV+R78Zf0U/mb/+ADcATEC4gHpAO3/F/8o/v/8aPuY+Rj4mfaS9EXyB/AF7l3szurn6ILmUuSW42/kxOWZ5rDmruaH5z7pX+u77cfvH/FP8iH0Y/cU/L0AYQQyBzgJ9wqmDVwR0RSqFgUXbxfvGD0blR1cH8kfvx7GHZgdCB1aG4QZ/hj6GFgX4BTeEzcUoBRnFOwScRBgDhYOxA8PEdwPIA57Ds0QHxRrFyIZHRkhGaMaJh4vIs8jgSP+I4Ql8idKKxIuVzCNMtQzOzWPN5M5wzubPpxAokH6QvhEpEcMS6lOVVJqVZ5WW1fXWWtdzmBpY6hkRWWkZgJpCmznbppwXHFqcXFwWm9Kb55vJm9gbUFq+WbKZGljDWKFXwhbslWHUANMl0gORRhAOTpcNC8vIiuEJ2Mjdx7UGIQTtw+kDCgJvQV1AsH+aftJ+eH3QvYV9ALycvDu7sHthu1u7bHs1esw67vqour46rDrBOx96x/rZ+vj64rsIu0v7c3szOy97dDuPu+w76zwzPHV8t3zyvR39Uz2v/dW+Ub6+/qZ/M7+aACWASgDKgUHB2YIhAmaCqILiQyNDdgOug/mDwEQKBAFEL4PcA+oDl4N9wuUCisJCQdABG0CVgFO/zr8g/jC9BXyJvCz7XDqk+bO4vzf0t2f23DZWNcT1azSWNA2zqrMycsNy/zJUMh3xqDFJ8YGx0fHtMblxdLFjsaix3bIR8jlx7XIJsooy7LLBMyQzMHNUM+g0DbRANEF0UDSKNTa1dTWBdeM13fZMtx63sjfceBp4YnjO+Y46Gfpiup47CvvYvHw8tD0/PYT+ef6JPwx/c7+wQBBAg4DWQOqA6AE5wXMBtwGIga6BR4GfgaPBnEGOAYEBuMF2wWKBbYEPQTMBGMF6QQlBCkEDQV4BqYHOAg9CBYIzQgqCuYKMwv2CykN/A04DqgORQ+3D0EQdBClD0wOWg0EDccMTQxHC2AJCAc3BUoEMQPRAPD9efs5+UP3sfXq82vx/O5x7fHrE+qa6J/nquZ25XXkFuTo47zj2eM95GzkWeQB5YHmCehR6TTq5OrS6yTt6e5l8PHwX/F38vTzMfX99cP2UveL99j3uPcp9/f27fa29l32y/Ua9Xv04fMp81jyO/HP76Xuw+3h7DHsk+vO6iTqn+n86Efomefm5nXmCuY/5bLkluRy5FDk8ONm4zHj7uKm4qfiSuKD4fXgueCX4G/g+98N3z7e9d3h3dLdd93p3Lfcsdyj3Kncttz13Gjdt93e3Tne7N7m3x3hK+LR4ofjf+TG5XHn6Oj26QPr6+vK7BTuSe/r72bw9vB08QLyi/Ln8iPzCPPs8lfzrvN98wbzdPIc8jnypvL88rryCPK08SDy7vK58230DfWj9R726vbE+Pv6hPyl/dD+QgBKApoElAb+Bz0J1gqyDCwOQg+2EKUSshSIFqAXQxgjGVcafRvRGy8bVhqiGTQZUxmYGSYZJhiSF58X5hccGMAXxRasFagUVRTqFOgU1xMJEw0T5xNkFbgWtRd3GO8YyBkhGw0cshy2HTweuh16HV0e+B9xIaYh4yAzIIwfkR9hIDEgHh+eHnke3x5RIOMhZiPfJGAl1iVpJzApLivGLVMwZDNlN2A7mD+zRBNKRk/YUwlXiFm1XJJgsmRnaJVqLWyxbotxInQkdvl2xXaXdZBzmXEAcKFt0ml6ZSZh3VzXWKlU+0+CSlpEvD52OX0zti2uKHkj7B2MGAYUqxCJDdIJyAXcAZT+b/zN+rL4gPaw9FbzCfNf8z3zyPKB8jnyrfEC8WHwve8H72juG+637d/sW+yE7InsLOyY65nqZeld6Ijn7OaG5kvm/uWx5e/lrOaF50HoJOmh6vXryuxK7nDwmvJU9Vr4r/rI/Hr/dALpBNsGPAkbDEgORg9NEHsS+xS7FooXTRfCFvQWLxcgFh4UDRLoD6ENJwt+CPgFJQO8/0r8+/jB9aXyNO8G687mb+OX4J/di9q8107V1dKD0EbPtc6izRjMocqNyWLJE8q2yrDKM8oBytzKYcy7zcXOIM/yzlDPfNAW0mXTztP403XUNtVE1kHXx9cT2H7Y4dgD2UjZAtry2tLbm9yl3azeD9+936bh/ePN5aHm/+Yo6GrqU+0X8Mvxz/Jl9Nb2W/mF+379U//nACsCSAOrBG8GKghoCfkJ4AmCCZ4JZAr7CnsKyQjDBsUFOwbbBhQGtgMOAa//qP+f/2/+3fv4+Iv3wfcK+Hj3WfY/9Y30d/TC9Nj08vSF9RT2MfYf9ur2JvmW+zz9E/5Z/hT/6gB3A8QF5QZnB0gIewnUCoAMSA5iD60PrA+cD9IPFxDmD6UPFA+tDS8MFwtJCsoJKgmyB2sFSQPsAfUAqv+t/Z/75/lb+FX3oval9Xz0ZPOE8sbxLvHl8HLwru8E78ru8+4J70rvwu+O7/bu1O4k747vve+172/v6e7P7jrvh+9970fv2u4M7lftLu037QDtV+yG6/DqiOpk6mHqOuoH6qjp9+hm6Hvo3ej06L7oRuj450ro1uha6Z3pdemI6QfqWepu6rTq+Or+6j7rh+uG663r4+vq6/rr4uuI6y/r7erL6rDqTerF6XvpQun26MrojOj+51jn0uZ75kfmKuYv5ifm2+W75Rnmk+YD53/nyefj5yPoxejw6UTrJeyj7Eftae7174vxw/KK81b0WvVl9k33/vfP+OT52Pp6++v7XPze/Kv9r/49/xf/ef75/UX+Df+h/57/If+2/qT+GP/a/1sAtQD0AOEA1wBRAVkCzQMoBYkFXAXuBUwHCQnXCg8MnQwXDQIOyQ8tEgsU3RRVFR8WiBdcGXEaVxorGqUajRtbHJwcxRxAHcUdeB7yHlweXR3AHEAcixueGoIZKhjbFmsWLBfQF7wW3xQcFDEUVxQoFAATVBFBEEAQ5hAgEa4QjRAKEUgRPhGkESUSzBLiE1QUJhRVFAcV1RY/GYsaCBuhG3QcXR5OIVgjXyQWJkAoSSoHLaUwGzXTOf08xz7CQF9DEkdGS+NNlE4jTylR2lQfWblcLl9zYM5gTGFPYvViwmJwYUZfQ12KWw1apFjCVoJUpFGxTX9J3UU/Qkg+Nzp2NUIw3SvYJ50jLR8sGjEVzxCJDC8ILwR6AKf8T/nA9kn0AfLG70PtL+uG6Y7ne+Wt4x3ixOCR34Te5t3s3WveKd+x36ffid/H3wjgE+AK4BDgMuBr4MrgqOFi42fl/OZM6E/pGOpy63vtfe8P8R/yAvOS9Ov2aPnN+5D9WP4w/+IAHQNKBekG7QfhCCEKpgtaDbAOEg/ODmkOGQ7fDYUN6gwIDAoLDgoGCTwIiAc3BnQElgJyACv+yPsQ+VT2z/Na8SXvGO3U6r/oH+d15YPjeOGK37rdyNvZ2UzYDdcJ1kPVfNRx02DSq9Fv0abRl9HK0CzQRNDZ0J3RFNJX0pPSytKO05DU9tQh1cjV1dbW15HYWdmT2v3bS92Y3vHfaeEZ483k/+XE5t3nZuk66zrtr+6J77rwzPKF9SX4x/mG+lL7i/w//hIACQF5AXsC3AMHBdsFYgbbBpYHWQh4COIHGgfYBqsH2AgbCTUI+QZfBo8G2AZlBkUFNQR3AyYDQwNXA0wDXgOOA38DwQLvAQcC5QKCAy8DSwKIAYUBiwKxAwoEbgOAArkC8wOoBKkEUgToA9YD7wPgA4oD8wJ8ApEC2gJpAoAB8QCQAEkA6f8F/y7+nv0Y/bX8G/wn+2/6Hfq4+df4g/c79r71EPZP9gL2PvWP9Ij01vQS9eT0HPRn8zzzXPNv82HzgPPL8xj0SvRi9I30pfTF9Bj1JvXN9G/0aPSa9JP0UPT588bz3fMA9OPzbfPz8sLyq/KR8kbyfPGg8F3wW/AE8ILv8O5C7rftYe0R7aTsHOy166LrcuvN6kXqEerH6UrpmejK5ybny+as5o7mNebA5YflhOV75VTl3OQ65P3jD+QF5N3jjeNX45nj7uMX5DHkLeRX5OvkpuVJ5s3mVef258fotOmO6lPrAuzV7OLt2+6877vw9vFQ83r0UfUM9g33QfhO+Tr63/op+6L7XPzp/F792v1O/tn+VP+B/5b/yP8ZAIkA5wDXAFoA9P8UAOEA5gFDAuABZQFbAeABqwIvAwgDlwKeAkMDSARrBUoGtwbuBkkH6geICPsIYQmfCdEJWwpVC3kMfg1gDvcOOw+rD04QvBDpEA0RYxHUETYSkxILE54TLxSeFIwUDxTPE/UTaRTaFMoUdRRUFKYUlhWCFoQW+hWlFX4VzhVtFnEWMBYiFicW0RYLGMEY2xjwGAMZIxm0GUgaURr5GX4ZeRn3GRgaGRppGjYaYxnIGKYYqRiLGCEYYBduFtAVNRb8FrUWwxUbFZQUmBRKFY0VKRX4FNwVAxiZGvscEB/dIAojLiZnKWkrzSy9LtkwHzM0NoY5mDy8PwZDVkZRSaZLqE1STxRQJlD7T4hPNk8hT3JOFE2GS8ZJFkhaRsNDPkBePLw4hjXoMZUtSykBJaQgtxzKGEsUvA+IC4YHxwOHAK79Gfup+Hv2r/Td8jvxI/DF7vjsVuvn6aPo8Ocl6KToueja6I/poOqh65LsPu0g7ZnsPuz+69Pr3OsY7DPsI+xb7OLsi+0z7pfunu5z7mPubO5x7qXuBO9k78DvJvDP8K/xgPKH89f04/XX9kj4yvn3+j/8wP1Z/+QACgL0AtIDYwT5BPQF+gaKB6AHgwd7B/cH0ghCCfIIwQfbBS8EIAPuAScA8/19+1f5s/cb9q70NvNI8Xnvxu2d60bpJOdn5Sbk8uJc4ZrfEN4T3drcAN3r3GvcoNsm25nbitw+3bzdAd4E3lPeMN8x4PvggeEJ4sjie+M65G/lteaG5xXovei36ebqxesq7GPskezx7KTtK+507truf++C8IHxOfI584/0hfXW9RH2mvZD9wT4p/gM+XH57PnQ+in8Qf3U/Wn+Pf/w/20A0wAdAWYBdQFBASYBIgElAUoBkAGXATcBEAFHAVABGAHqAKMAEACf/3b/av+N/2r/1/5u/kj+f/4S/3D/mf/i/zwAyACaAWwCAANeA4MDTAMPA28DYAQZBVcFeAW9BUQG6AZ8B7oHOgdiBqsF+ARQBJADpwKzAZUATv8e/j39Yvwp+9j5p/hE96r1RvQM85zxK/Dz7rTtdOyE6/nqmOoW6o7pPukl6TfpSuk86Wbp6umQ6jnrx+tT7ArtxO2N7ojvY/A98XLyoPOc9K71zvbl98P4UPm6+QP6GPom+nz61PrO+sj6tPpv+nD6ifpY+v/5Xflp+KH3/vYn9mD1mPR483HylPGo8BnwsO8F72buuO3u7GHs5us+647q3ekw6bjoZOj+56Xna+c85yLn++bK5srm5+b95hbnM+dV53XngueK55Dnf+eS5+7nXejq6JzpTeoM69rrw+zH7ZfuMu/S74LwVvFg8nTzY/Rn9bP2Dvhj+b/6EfyB/Q7/aACIAWwCKQMsBGsFXwYEB34H4weRCH4JWwoGC0QLTAt1C5YLtgvdC7oLSQuwCgIKdQkaCbEIOgjXB0wHogY9BkUGmAa1BjwGmwVEBRAF4ATIBKYEhgSjBNsERAUGBtAGugfLCHQJ5QmjCpwLmgxhDfUNjg44D/QP2BDeEbwSdxNpFFAV+RWpFkIXsBf5F9kXlBeMF3YXTxc3F+IWcxYWFpYVSRVAFc0U5RPmEggSlBF4ES0RZhBbD3EOBg78DboNNg3iDMwMAQ1mDYoNvA1gDu4OKg84DyAPVg/cDzwQsBBIEbIRNRLsEkATQxNnE3wTZxMpE3oSjBG7EP8Plg+HDwEPuQ1CDBQLsQrMCk8KNQkMCPYGbQbaBpIHIQjMCFsJ4QnuCpwM+Q6GEVYTpxRpFuQYLBwVIGgjzyU4KNwq7C1ZMT40cjYeOIc5NTv3PII+sD8ZQAJA3T+IP9U+nD3TO6w5Nzd3NLEx7S7QK2Eo3yQoIU4dmhn2FSAS9g2mCaEFNAI9/2T8evlo9przpvEn8Iru1+wL637pxeh86Bfo7OcO6Ejosegp6cPpgeoI643rDuxY7O3sxu167iPvpu/27z3wWvB18LnwsvBF8NjvbO8X7w/vBO+/7mfuFO7k7cftuu3p7RzuSe6e7t7uIe/Q79TwBvJP82r0ZPWb9jH4CvrU+zv9cv7N/1EB0wIqBJMFCwcoCCIJ+wlcCr0KQQtqC1ML7goeCnMJ6ggVCB8H6QVcBMUC9ADn/vX8DftJ+ZL3YfUG8yPxuu917t/s1eq66CTnX+bW5bLkFuPp4cHhS+KS4h7iZuEN4aLhDOM05GDk7ePm4wrlueYV6NjoB+lh6VLqpOtC7Wruy+5F7+/vhPBH8RPy1vLH83/0pPS19Cr1GPY89/D3CPja9873lfgG+hL7RPsX+3L7SPzT/Cj9Xf2A/QL+o/4i/2v/ZP/h/ykBDQL2AWYB9gAZAbQBLAIxArMB9gCmAO8AeAG3ATsBZADA/4r/2f8eAOf/XP+0/j/+M/5P/iL+0v3x/SX+/f3t/Un+9P5w/4r/jP9+/6j/OwDJACkBTgFyAeIBJQIRAiICggLtAgMDxgJyAlQCiQKnAkMCXwFEAH3/Jf+T/pv9lfyO+876Wfqt+bz4gPcx9lP1l/S98w7zOPIN8VTwNPD574vvJO/W7q/uqu7i7kbvke8B8K/wLPFY8ZzxZ/Jz8zT0vPQ59dn1xfbE97f4afnI+VL6+vp1+977HfxK/Ir8j/xl/ET8Avyu+4H7TPv3+qD6HvqI+Rn5ofj99xz3FPZQ9dT0UPSy8wLzWfLk8bTxm/E+8aTwNfAF8OTvwO+q77bvxO+v76Xvw+/671rwwvDu8PrwIPGQ8R/yXvJ58rvyB/Ng863zyfPl8zb0q/QN9S/1KfU89Yj17/Vd9sb2+fYf93P31vc5+JD44PhD+Zb5FPrp+qP7U/w7/SP+Ff8iABMB4QGwAq4D8wRLBmwHYQhyCasK7QsXDRMO7w64D4kQRhGxEQkSdhLBEvwSDxPIEl0S7hGDERIRjBDZD8YOhQ1RDEQLgQqiCVcI7QaYBYcE0gMqAzQC8wDV/yz/4v6s/kD+yP2T/ZT95f1t/rT+zv4S/4b/NQAJAdEBogJ8A1IEMgUVBvYG6AfvCNcJagrdCnULNwwZDdUNRw6FDo4OsA4ED0cPhw+kD30PRw8ED8oOsA6PDl4OFQ6VDQINigxFDDQMJwzqC3UL3QpnCk0Kfwq0CpcKMgrKCXsJnwkzCoAKYAoZCt0JFgq/Cm8L2wvUC5YLZAtYC6sLNQx2DCMMbwvbCsYKPAvIC7ELqgpQCZ4ItAj3CMYI5geUBjAFYAQ7BPwDOgP7AZwApf8V/8r+nv5W/uX9aP0W/Q39cf0c/ov+vf7u/kf/TADzAZ8DPwX4Bt4IHwuiDUMQBRN6FVAX9xjvGlYd7x9pIrckyCaxKMsq/Sz6Ln4wQTGIMZAxYjF7Md8x7zFHMd0vPS74LNorkyraKEkmMCNLIPUdMxxEGogXcxQ8ESAOtguSCSAHdASXAez+8Px++yP6ofgH93z1I/QB8xbyefHp8CjwaO+z7izuIu527r/up+5G7kHuze5l77Lv0O+372LvD+/w7hzvS+8w7yHvL+8i7zzvmO/97xrwzu+B73vvl+/O7y7wlvD38G/xC/K+8nDzIfT19Nz1zPbV98r4s/nU+iP8jP39/jUA+QB3AVYCrQP5BOgFSgZzBv4G4wflCIoJVwnOCKUIswhkCKYHwAbuBUYFXwQSA84BoACh/73+Zf24+x/6q/hv9yH2kPT18mDx9e/S7r3trOyp68PqOerU6VXpx+gH6H7noufp5/znuOdK56bnn+ht6e7p6Onv6cXq2+uj7A7tX+077o/vdvC/8ADxpfGk8lzzcfNO83rzSPRf9f/18vWc9ej1D/fP95H37/Z99sL2fvf99+/3IPeL9jz3TPjd+Ln4C/ja92j4HvmY+YP5K/ks+Y75Avpg+o/6v/o/+6b7pvuo+wj80fxq/WL9Mf1S/ev9uf5V/3//DP+p/gz/x/80AAIAjf+D/8H/GwCSAMwApwBCABYAPwAVAMP/pP91/0L/D//O/sr+8f7//g3/7f5u/hz+L/4+/iH+7P27/av9xv3u/Q/+OP5l/qn+3P7L/vP+WP9z/4j/zf/6/wwALQCAANAArAB6AKIAtACMAGwARgDu/5//r//F/4n/Iv+3/ln+6/10/Qz9fPzK+zj72Ppy+vj5sfl2+SH5yPhW+Ob3d/cU9+r2nPYa9sX1ofWd9Zv1l/WK9WL1WvV79Zb1evU09TP1WfVQ9Vj1bfVs9XX1jvWq9bv1q/Wf9cP10/Wa9XT1hfWY9bH1yPW19ZH1dfWA9aT1kvVs9W31c/V/9bD18vUm9lX2kfa99tn2AvdA94j30/c8+Kb42fgZ+bL5cfoF+2f7xvsz/KT8M/3l/XX+1/5K/83/TQDkAJ8BUwLWAjsDoQMQBJUELwW4BQoGLQZeBs0GXAfEB/AH8wfeB+YHJQhSCD4I+werB4QHjweHB0sH7waABjIGFQbdBX0FGwWuBGUEYQROBAcEzAOpA54DuAO/A8wDAwQbBDUEgQTIBBYFhwX2BUYGeQa4BisHrwciCKIIIgl1CZoJwwkmCosKywrzCtMKkApzCmcKSwoqCgkKzAlaCbEIDAi4B48HXgf+BiwGHQVrBDAEFATfA2sDsgLvAWoBagGuAb8BtwGWAUYBJAFrAeoBUQJ4AoICmwLLAhwDsgNpBPsEbwW4BdwFNgbCBlkH6wciCAMI8QcZCI4IEQk7CRQJzgiYCMcIRwl4CTsJ4QiaCKkI8gj4CMUIfgggCPYHFwgqCCwILggOCOYH1AfYB/kHBgjeB7kHqQeMB2YHOAcRB/gGvQZmBv8FggUZBdkEtARwBNYDCwM7ApoBPgHMAAoAL/91/uD9cP01/e78ffwr/Nr7g/ua+/b7O/yK/K/87PzU/cH+dv+OALsB2QI1BJ8FLwfzCKUKPAykDfUOoBCYEksUnxX9FnMY1BkdGzwcJR3fHW4e8R5bH3Ufch9oHx8ftB4mHlgdaBxZGzwa8xhvFxsW3RRFE3IRsA/6DUYMxQpWCagH1wUeBJ8CYwEqAOj+pP0z/Ov6Ovqx+fn4Mfhv9/L2tPZS9tf1ZfUB9ej0+/TT9KT0oPSL9Hn0jPSb9Iv0UPQE9OPzzvOg85zzoPNf8y/zLfP98rrynvKf8qPye/I88jryUPJX8pzyD/NR83/zzfM59ML0VfXv9Y72I/fO95n4VPkG+vv6IfwC/aD9TP4s/yYA6QB+ARMClwI8A+4DSQRuBKQE6QQkBT8FLAXkBIAEIQS2A0AD3AJaAqoBvACT/9D+Zv6//en8vPti+mj5tfgY+Gz3hPZu9Vr0nvNE8+/yYfKI8cXwffBr8E7w++9k7zzvuO8g8A/whO9C7wPw+/BQ8QvxtfAN8fjxzPI38x7zGfPA84X05PQb9Wn1z/Ua9kH2afal9hz3n/fK97H3qvf792v4svgP+U75KfkL+Tz5zfl2+q76nfqW+sT6T/v4+3b81/xm/Rr+WP5A/rT+5f8pAbgBeQEnAYYB6QKeBEEFtQRoBAwFHQb9BkkHRAd2B8wHKwhxCF4IYQjQCP8IrAhsCEUIMghkCFwI9QeQBywH5ga5BlwG4wVcBb8EUQQdBNkDSQNwAr8BeQFGAdsAQACf/x7/xP5u/vz9bf3Z/Hz8N/yL+8f6a/o7+gb6qfkY+YP4/Pe095f3NPeR9hn21vWC9Tj18fR29Bj0AvTq87TzY/MT8wDzIPMs8ynzF/Pi8vzyWvNx84HztfPi8yf0e/TL9BP1P/WY9S72kfbA9gj3Wvep9wT4Rvhq+Jf43fgq+Uf5LPkf+UD5e/mf+YT5O/nv+OH4Avnw+Ln4b/j/9733uPei93L3M/cH9/v27/bk9uL23/by9ib3VPd296L3zvcU+I/4G/mK+dz5VfoB+6b7Rfzy/Kf9Yv4j/9v/aADyALUBfwIdA5oDDQSRBCoFvQUnBnkG2gZEB40HmAeTB7IH8AcgCP4HnAc/BxIHLAc9B9gGOQbaBa4FjAVsBQ4FewT6A6MDdQNGA9wCTALnAbYBmQGMAVYBDgH3AOYA6AATAScBMgFTAWEBYQGAAboBFQJ9ArQCyALvAkoD7gOqBCMFRAVqBdAFUwbmBlwHkwfIBwoIWgi/CAIJMgl3CbUJ7AkUCg0KBwogCjoKSQozCgQK0wmKCU4JPgkyCQwJ1giECCMI8QfqB9QHpgdVB/IGowZxBlUGRQYuBv8FyQWXBWsFXAV0BZUFowWHBVYFVQV2BZwFywXNBZcFbgVxBZYFvwXZBdQFqgWIBaAF3AXqBcoFoAVnBT4FNgVMBUUF8ASMBEwEMQQpBAkEzgOHAzgD9QLPAp8CZAIzAvMBnwEvAcMAjQBqAEkAIgDZ/1j/4/7L/rb+k/6B/h3+mf1P/QX95vwS/eL8Y/wj/MD7ePvV+w784Pvb+9/7yvv1+zH8XvzY/A39Av2L/QD+Yf5w/04ArABNASwCOQNiBEcFCgbkBuMHLwmmCrwLOwz+DD8Oaw+oEJkRHxLNEnETZhR2FcYV+hUvFloW3hbyFqYWUBaTFVsVghXkFPwT5BK6ER8RkRDAD4sO7gyIC2oKdAk2CK4GfAUQBJ0CsgFyAEH/Yv4w/VL8qvua+rH5zfjU90b3+/aw9hj2UfXP9JX0wPTh9KX0bfQX9AD0NPQu9HP0vvS19Nj0zPTP9Cj1SfWK9cf1sfXd9Rz2Vfaz9vn2cPe895b3tfcQ+G74xvgC+Uf5bvm6+WH63PpC+7f7Hvyg/CT9uP11/gb/X/+t/xgAwAB1AQkCTwJrAuwCvQNuBMoE2AT7BD8FhQXHBbEFcQV1BYcFeAU2BcwEhwRJBNwDUwO6Aj0C0gE/AaAA6/8g/4f+8v01/Vz8bPud+g/6nvka+WH4nfcE95b2S/b79YL19vSD9En0QPQo9OnzqPOB83/zlfOr87XzufPe8zf0i/S59N309vQP9VL1o/Xe9Qf2IPZU9pv20vYv94b3mPeu99X36/ce+Gb4ivie+LT4xvjh+Ab5OPlo+Yf5wPkG+j36ePqh+s/6NPud++r7Q/yU/ND8Lf2m/TH+uP4d/3//0/8qAKkAJgHHAWUCqAL2AjcDRAO4A0AEWgR2BIMEXARkBIMEkQSrBIsEMwT5A64DOAPyAroCVQLuAW0B0gBRAMn/X/8f/5X++/2L/Qj9i/ws/Nb7efsW+8j6avoN+tj5pfmT+YT5Svk3+Sn5DvkY+Rb5HPk2+UD5ZvmL+X/5dPl4+Zr5yvnI+bz5qPl7+ZT5xPmw+Z75hvlO+T75OPkP+eX4svh/+HD4Y/hD+Cv4C/jw9/z3EPga+Cb4IvgZ+DP4Zfin+PT4Hfk8+YH52PlF+rb6CPtk+9P7Ovyk/AT9a/3t/WL+zv44/4v/4v8/AJwA+ABDAX8BrwHWAQUCPAKAAq4CtQLDAtwC8AL6AvAC5wLiAtcC1gLSAr4CrwKyAsACxALEAroCngKWApYClgKrArACoAKfAqQCswLTAvAC9gLxAvwCDwMdAyMDIAMqAzEDIQMhAyQDGQMXAwwD+QLiArYCmwKHAl8CPQIVAu4B3gHNAbgBngF1AVMBPwEiAQIB7gDiAN0A4AD3ABMBHwEuAVABjgHHAdUB4wEKAk0CrgIJA0QDWQOEA/EDbQThBDcFVwWIBeQFUwa8BvAGBQcqB18HqgfpBwEIAQj7Bx8ITwhMCC4I+wfJB8IHwgeuB3EHEQfDBpUGeQZBBtIFUgXgBJ8EfwQyBMoDcgMqA/UCwgKMAksC6gGWAWABPwE5ARMBxgCIAHAAnQDcAOQAyACeAJ0A9ABIAVMBOAEhATUBigHpAQkCBQIbAk0CnQLtAvsC+gIQAygDYgOUA5gDkgOXA68DwQPbA+sDwwOpA6cDqgO8A5oDdAOKA5MDfwNRAx0DDQMAA/UC2QKCAkQCOQIlAhoCBQLZAaIBagFZAUABBwHWAKIAZwAGAKb/gP9T/xT/5/6s/mT+Iv7+/ef9wf2W/Ub93/y1/Lr8x/zJ/J/8gPyY/MD88Pwl/VP9hf3U/Tn+hf7Y/nH/JQCnAAABewEnAuECogNYBP8EoAVcBjUH2wdpCBsJ4gmnCh8LWwvZC2sM6AxmDX4NUQ1TDZQN/w0GDrANaw0ODegM+gy/DCkMJws7CuAJmAkqCXYIbQd3BsYFdwUmBUEENANYApsBBgFoAM//N/98/uL9Xf3N/Ff87/uP+x37oPpR+hT64/ms+V75K/n7+L/4mvhx+D/4JPgX+AX44PfN99737Pfk98b3pfem97z31ffp9/H35vfT99j3+/cy+Gv4mviy+Lj47fhi+dn5P/qC+qD6wfr1+l778/tu/MP8CP1d/c/9RP7N/k7/kf+8//H/OQCdAAEBYQGXAZsBuwHqAQMCCQL6Af8BBALnAdMBugGJAVoBJwHsAJUAFACm/1L/8/6c/kv+2v1X/en8kfw0/Mb7UPvt+pb6N/ra+YX5Qvn0+Jr4XfgN+Mf3yvfL97z3n/dj92X3pPfH97/3kfdf92/30Pco+Ez4Yfhv+KX4APk6+X35wPnh+Sf6avqf+gb7WfuX++/7M/xd/IT8v/wN/Wf91v0r/lX+g/7I/in/hf/A/+f/AQArAH8A4AAsAVIBdAG3AfMBIwJlApICrQLaAgMDKgNaA3ADawNgA0IDMQNHA0YDKAMTA/gC0AKoAn0CRgL9AaYBSgH1AKUARgDs/5z/S//4/pH+Ff6n/Uj9//zO/IT8KfzU+3z7RPsc++P6u/qR+lr6Ofom+i36UPpl+mv6cPpx+oP6tPrs+hb7MPtN+3j7p/vh+xj8MPxM/IP8t/zf/Pr8Cv0c/TD9S/1l/Vz9Mf0Z/SL9JP0Y/QT93fyz/KH8lvx+/Ff8KPz9++P70fu4+5f7c/tR+0r7UvtE+zH7K/sv+0f7afuL+6f7u/vc+w38PPxp/Jr80vwE/TX9dv24/QH+Tf6J/sj+Bf9H/5f/2v8YAFYAhgC/APAAFwFJAXoBrQHgAfkBEQI9AmwCnwLGAs4CzQLeAgIDKANGA1YDUgNPA10DdgObA7MDqgOfA6MDswPFA80D1QPQA7cDoQOOA4MDhwN/A2ADOQMOA+wC4QLQAqUCcAI5AgQC2gG4AY8BWAEdAeMAqABzAEsAJgD8/8v/m/9v/0v/Of8n/wX/3/69/q3+tf6+/sL+0P7k/u7+/f4j/1T/kf/I/+T//P8uAH0A1QAtAX0BrQHZARsCcQLbAjIDdQO0A+IDJAR8BM0EGgVQBXgFoAW4BeEFHwZLBmsGcwZrBmkGagaJBqEGjAaBBnAGSAZBBjwGJQYRBuQFsQWRBXQFaQVcBSkF7gTHBK8EoQSBBEoEFATkA78DqQORA2wDSwMpA/oC0wK4ApgCfgJlAjsCEgLxAc4BpgGDAW4BWAEuAfcAxgCyAKkAnQCSAG0AMwAIAPj/+P/0//D/3/+u/47/nP+3/8f/wv+n/5X/ov+5/9H/7/8DAB0AOwBEAEYATwB4AK4AxQDTANoA4gAJATEBUQFeAUgBOQE1ATEBQgFNAUABLAELAfAA4gDVAMIAngBsAD8AIAAIAPn/8f/b/67/eP9S/1b/dP+D/4D/cf92/5//yv/+/zAARwB1ALQA6ABCAZ0B8gFoAr0CBQNzA9ADNwSaBOoEYQXDBRcGdganBvUGVgeWB9UH2wfqBzAITwhwCHIIPQg2CC0IIwgWCL0HbAcmB9sGwQaKBh8GnwUbBc4EoARVBNcDRgPTAm0CKALqAXIB+wCUADMA3/92/zX/Df/E/n3+If7F/Z39fv1k/Tf96Pyv/In8cPxh/Eb8N/wj/P773Pu2+7D7xPu7+6X7kPt5+337jfuJ+4f7iPuE+4j7jPuN+6n70fvX+9D74/sD/Cr8WPxx/Hb8gfyk/OL8HP0+/Vj9d/2h/cv9AP5K/nj+i/6r/sr+7v4o/2n/lf+h/6P/tP/Y/wAAIwBBAEQALAAbABoAGwAkACoAEgDm/7T/gf9f/1b/Sv8t/+/+i/45/hr+FP4L/tX9b/0Q/eD83PzT/Kf8Z/wf/PD76vvh+8T7oPuD+3r7cftc+1T7YPtq+3L7cPtk+237iPus+9P71/vX+/H7C/ww/F78ffyU/Kb8s/zC/N78Cv0s/Tv9QP0+/VL9f/2j/bP9sf2l/an9vv3Q/eX99f3s/eD96P32/QT+Ef4Y/hj+Gv4h/iv+Qf5U/mD+cv56/n/+jv6b/rD+zP7g/u3+8P79/hz/L/87/0X/Tv9g/2j/b/+B/4L/fP+A/3n/af9f/13/Xf9Q/zn/Hf8G///+/P73/uD+sv6S/oT+hv6O/n7+YP5G/jP+PP5R/lD+R/5G/kr+V/5p/n3+j/6d/rH+xf7T/uT+8f4H/y//S/9X/17/af9//5r/r/+1/7T/sv+r/6f/sP+x/6T/kP94/2b/Vv9A/y//FP/v/uH+0/6y/pf+e/5g/kz+Nv4m/hn+Bv72/eT93f3m/fL9//3+/fz9C/4i/j3+XP5//qH+u/7V/vr+Jv9Z/4n/t//n/w4ANABrAKAAzwAEAS8BTwF3AZ0BvAHeAQQCKgJIAlICXAJ0AocCmAKqArECsAKxArQCuAK5ArICrQKnApkCkwKNAnwCcAJpAl8CWAJQAj0CKAIcAhQCCwIJAgEC7AHXAcUBtwG2AakBmQGQAXcBYQFaAUkBQAE6ASYBHAEQAfwA6wDaANUA3ADTALwApQCZAKAAogCiAKcAoACVAI8AkwCqALkAwQDLAMoAzwDlAP0AFAEqAUEBVAFeAWoBhwGuAcgB3AHuAfQBAQIdAjwCVgJjAmwCeAKGApsCpwKuArACqAKrArECsQK0Aq4CogKPAngCcgJxAmsCWwI7Ah0CDAIGAgMC9gHdAcIBrAGYAYMBdwFvAWMBVwFCASoBHgEaAR4BIAEeARIB+gDuAPAA+QALAQcB9wDxAOoA8gAEAQQBAwEFAQIB/QD5AP0ABQEMAQwBBgEDAQEBBQEOAQ4BCgEAAfwADAERAQUB+wD3AAIBFgEYARABBgEEAQwBGAEkASgBIgEjASMBJQEyATcBPAFDAUMBRgFBATQBNgE8AUIBPQEoARgBDQEBAQUBAwHqANMAxQCrAI8AfwBsAFcAQgAnAAoA7f/Q/7b/ov+W/3z/Wv9F/yn/Dv8G//z+9v7z/tr+xP67/rj+y/7q/u/+2/7T/uH+/f4l/0b/U/9h/3T/kf+//+T/BAAwAFUAbQCJALMA4wAPATcBVwF0AYoBogHPAfQBBAIZAjQCSgJbAmwChQKSApQCmQKTAo4CkwKPAo4CgwJrAmQCWgJOAkYCLAIXAvkBzgG3Aa4BsAGbAWgBOwELAfwACgH1ANUApABpAFEAQAA6ADYAHAD3/7v/mP+b/43/hP9t/0b/K/8C/+z+6v7c/tT+uv6X/nn+Xf5k/mf+Uv5I/iv+D/4B/vj9CP4K/vn97f3d/eT99f35/Qf+CP76/fz9Cf4r/kj+Sf5J/lD+ZP6A/pf+rP69/sb+z/7c/vb+Gv87/0z/Q/8+/1P/bP+B/4z/i/+E/3n/dv+A/4n/iv9//27/WP8+/zj/O/84/y3/Ev/q/sr+vf68/rD+mf57/lr+Qf4x/iD+Fv4R/v/91/25/bf9u/24/a79nP2L/YX9i/2R/ZP9kP2I/Y/9lv2Z/az9uf21/bf9vP3G/dX94f3o/ev97v3y/fr9Cv4V/hr+H/4e/hn+Ff4c/i3+Nf4t/iH+Gv4V/h3+Mv41/iv+Hf4M/hH+If4m/i7+Kv4X/g3+Cv4V/ib+Kf4k/iD+H/4i/ij+Mv46/jn+N/4z/jT+PP5A/kv+Uf5C/jv+Q/5I/k/+T/5J/kr+S/5P/lf+W/5c/l3+Xv5b/l7+aP5u/m/+bf5u/nT+ff6O/pj+nf6n/qr+tv7Q/uL+8/4J/xr/IP8t/0v/bP+L/6P/sP/A/9z/AAAkAEAAVgBoAHcAkgCyAM0A5ADzAAIBEwEjATYBQQFRAWYBbAFuAXQBdQF4AXkBeQF0AWUBXQFYAVIBUwFFAS0BHQEOAQEB9ADlANMAtgCcAI0AhgCDAHMAWgA+ACkAJwAjABsAFwAHAPr/8f/s//T/+//6//T/6P/j/+X/6v/1//z/AAD+//P/9v8HABoAJQAkACQAKgA4AEoAWQBsAHkAewCFAI4AmQC0AMoA1gDkAO0A8gADASABOQFKAVMBWgFnAXsBkAGkAa4BsQG9AcoB0wHlAfEB9gH8AfwBAQIOAhUCEAIHAgAC+wH7AfoB7wHhAdIBwwG1AaQBnAGXAYUBdgFnAU8BPAEzASkBGgEJAfYA4gDXANAAygDEALMApgCiAJwAmgCdAJ4AnACUAJUAngCmAK0ArACvAL4AzgDaAN0A3gDsAP8AEQEhASgBLgExATIBQgFZAWQBZAFgAWEBagF5AYABfAF/AX0BcQFsAWoBawFwAWsBZAFcAVUBSQE/AT0BOQEzASkBEAH/APwA/QD6AOYA1gDQAMMAvQC6AKcAlQCNAIYAfgB1AGkAWABOAEUAOgA2AC4AJgAkABYAAAD5/wAACAAEAPL/2f/S/+P/8//3//X/7v/r/+b/5f/1/wYACgADAPr//f8FAA8AFwAcACcAKwAlACMALgBEAFIAVgBYAFgAXwBoAHAAfQCGAJEAkwCHAI8AngCtALsArwClAKwAtADAAMAAvQC+ALgAuwDIAMoAwQC1ALAAuADCALsArQCqAKYAowCeAJUAjwCJAIYAfgBtAGMAXABhAGUAUQBJAEIAMgA3ADoAOQA0AB8AFwAZABkAHAAPAAgADgAJAAYA/v/1//7////8//f/5//f/+P/8P/u/9b/zf/M/8X/xf/C/7r/sf+q/63/p/+a/5j/l/+P/4X/fP97/3f/bP9k/2H/Xf9V/1P/Uf9J/0b/Rf86/zH/N/9A/zf/Kv8l/yX/J/8j/yL/Iv8b/xj/F/8P/w//Ff8W/xP/DP8I/wP/A/8P/xH/Af/2/vj+Af8B//z+/P70/vD+8/7x/vX+9P7v/vP+8P7x/vj++P74/vX+8v74/vn++P78/gL/Bf/+/vr+/v4F/wv/Dv8N/wr/B/8K/w3/Ef8R/w7/Ev8M/wj/Ev8S/xT/F/8N/wb/Av/+/gT/Bv/7/uz+4f7g/uD+3f7Y/s/+yP7B/rb+rf6n/qn+rP6j/pf+i/6D/oX+hv5//nX+a/5h/lv+W/5c/ln+U/5M/kn+Rv5E/kb+RP46/jj+PP48/jz+Pv4+/kH+PP43/kD+Sv5M/k7+Tv5N/lH+Xv5o/m/+ef53/nr+iv6V/p/+rf62/rr+wP7L/tn+6P76/gb/Cf8Q/x7/K/8+/1T/Xv9h/2v/eP+G/5f/qv+4/7//xf/N/9r/6v/3/wEABgAIABMAIgArADQAPwBIAE0AVQBfAGgAdgCDAIUAhACGAI4AlgCYAJcAmACaAKEAowCkAKsArQChAJkAoQCoAKIAoQChAJoAmACXAJYAmACWAJMAjQCEAIAAfwCFAIYAfQB+AH8AeQB9AIEAggCBAHsAgQCEAH4AgACDAIgAjACKAIkAhQCJAJUAlQCTAJQAlACXAJIAkQCaAJwAmwCZAJQAkACRAJQAlACPAIwAiACCAIEAhACJAI0AiwCGAIcAiQCGAIkAkQCXAJMAjgCTAJgAnQCoAKkApgCsALAAtwDDAMcAygDWANsA2wDjAO4A9gD9AAEBAgEJARYBIAEnASgBKAEqATABOAE8ATsBOAE0ATcBPAE6ATYBMwEvASkBIwEfARsBHQEcAQ8BBQH/AP0A+gD0APAA6ADcANAAywDMAMUAuQCyAKsApACdAJkAmQCTAI4AiAB8AHgAfgB9AHkAdgBsAGYAaABqAGgAXQBSAEsASQBPAE8ASQBAADoARABLAD8ANwA4ADgANQAwACwAJAAdAB4AIQAfABgADwAMABIAFAARAAsABQAIAA0ADwAOAA4AEgAUABEAEQARABQAIAAlACIAIAAdACcAOQA/ADwANwAvADQARQBRAFIASQBCAEQASgBUAFkAUwBMAE0AUQBPAE4AUABRAE0ARwBFAEYARwBGAEAAOQAzAC0ALwAxAC0AJwAeABYAFwAbABkADgAAAPn/+f/4//f/+f/3//H/6f/k/+X/5f/r//D/4//V/9X/2//c/97/4v/e/87/w//I/9L/0//R/8//x//B/8H/xP/K/83/z//J/7n/tf++/8T/xv/B/7j/t/+5/7z/vv/C/8j/w/+7/7//xf/D/8P/yP/L/8z/x//E/8v/1v/e/97/1v/S/9n/5//x//L/5//h/+b/8//8//z/9f/o/+f/9f/9//v/+f/1//T/8//0//z//v/7//r/+f/x/+X/5f/y//L/5//j/9//2//d/+L/5//j/9v/1//S/87/z//W/9P/wP+3/7r/uP+y/67/sP+t/53/mP+d/5//mf+P/4r/gv95/3z/ev9s/2D/X/9d/1L/SP9I/0f/Pv8y/zP/Nv8q/yL/JP8l/x3/FP8U/xb/F/8Z/xf/D/8K/w7/Ff8V/w//EP8V/xH/Dv8S/xj/HP8Z/xz/I/8h/yT/Lf82/zr/PP8+/z7/Qf9N/1v/XP9W/2D/bP9p/2b/bP91/3r/eP99/4P/hf+E/4f/kf+S/5D/lP+P/4//mP+a/5n/lf+U/5v/m/+T/5H/kv+R/5H/jv+J/4v/jf+N/4//jv+L/4v/jP+K/4X/g/+A/3z/fP9//33/dP9u/3P/e/97/3P/b/9t/2z/bP9t/2z/aP9i/2T/Zf9l/2f/Zf9l/2P/YP9k/2X/Zv9t/27/b/9z/3X/e/+A/4r/kf+O/5H/mP+g/6f/qP+r/7L/uP+9/8H/yP/M/87/2f/f/+L/6//0//v/AgAIABIAFwAWAB0AKAApACoALwA1ADkAPAA+AEAARgBKAEsATQBRAFUAWgBfAGAAXgBgAGQAYwBlAGsAagBmAGcAawBtAG0AawBqAGkAaQBqAGwAawBnAGYAZwBpAGoAagBpAGYAZQBoAGcAZABjAGMAZgBnAGEAYQBnAGgAZQBkAGMAZABlAGcAaQBjAF8AYQBkAGcAagBrAGgAZABjAGQAYwBiAGEAYQBiAF4AXgBiAGcAagBqAGgAZQBjAGgAbgByAHAAawBrAG8AdAB5AHkAcwBvAHIAdAByAHQAfAB9AHgAdgB5AHwAfACAAIEAfQB+AIAAfwCCAIMAhACEAH8AgACBAH4AgQCCAIAAfwB+AIAAfwB9AIMAhACDAIUAhwCNAI8AjgCRAJEAlACZAJwAnACaAJ0AnQCaAKAApACgAJ0AoQClAKMAogCmAKoArACoAKMApQCoAKgAqACpAKUAnwCeAKEAowCeAJYAkgCPAIsAiACEAIEAfAB1AG4AawBmAGEAYABcAFQATQBLAEsASwBGADsAMwAtACkAKwAtACsAKAAfABoAIAAkACEAHgAcAB0AHQAaAB4AJAAlACEAHQAaABwAIQAkACQAIgAdAB0AIgAnACkAJQAjACIAIAAlACoAJgAhABwAHwAjABwAGAAeAB0AFAANAAwADQAMAAkACAAEAAAAAAAAAAAAAgAAAAMAAAD8/wAAAgAAAP7/+//8//v/9v/5///////2/+//9f/3//H/7//y//L/6v/l/+r/7P/q/+r/6P/e/9j/3//m/+H/2f/U/9T/z//L/87/zP/H/8L/v//B/73/uP+3/6//pv+j/6T/oP+W/5j/nf+W/47/i/+N/5D/jv+K/4r/if+D/4P/jP+N/4r/if+G/4f/jf+T/5T/jf+P/5T/kP+O/4//lP+U/4n/iP+L/4n/iP+K/4z/h/+B/4T/hf+F/4X/h/+N/4f/hP+P/5L/jv+O/5f/n/+Z/5j/of+i/6D/of+l/6T/nf+h/6z/q/+o/6v/rv+q/6T/qv+w/6j/of+i/6T/oP+Z/5v/oP+c/5j/mP+X/5j/mf+b/5v/lv+W/5z/nP+a/5r/mv+W/5H/kv+Z/5z/mP+U/5f/lv+O/4//lf+V/5P/k/+S/5D/kf+Y/5v/l/+W/5j/nP+b/5v/oP+k/6D/nv+h/6T/o/+i/6P/ov+f/5//of+e/5r/nv+g/5v/lP+W/5//nf+X/5r/mv+Y/5n/mf+b/5j/l/+c/5r/mv+h/6D/n/+l/6n/q/+u/6//sf+3/7v/t/+0/7v/wf/C/8P/xP/G/8r/zv/S/9T/0v/T/9b/1//c/+P/5P/j/+b/6f/q/+r/6//v//L/9P/y//D/9v/6//v//f/8//7/AgACAAQABgAJAAoACAAIAAkACQALAAsADAALAAoADQAMAA0ADwAMAAsADQARABYAFgAUABcAHgAhACMAIwAkACcAKQAtADAALgAuAC0ALAAwADAAMAAxAC8ANAA2ADAALAAsADIANwAzADMAOAA4ADoAPQA/AEEAPwA7AD0APwA/AD8APwA/AD0APQA/AD8AQgBDAEMARwBGAEIARwBJAEkASgBLAE0ATABLAE0AUABRAFIATwBNAE0ATgBRAFEATQBMAE0ASgBKAEsASwBNAEoARgBHAEcARgBFAEUASABNAE0ASABHAEwAUQBTAFQAWABaAFkAWwBfAGQAaABpAGsAbwB1AHYAdQB9AIIAfwCCAIUAhwCJAIcAhgCGAIIAgACDAIEAfQB+AH8AfgB9AH4AewByAG8AbgBtAGsAZQBgAFwAVgBWAFEASwBLAEUAQgBBADgAMgAzAC4AKQAqACgAIwAeAB4AJAAmACEAHQAfACMAIQAkACgAIgAhACcAJgAlACYAKAAoACMAIwAnACcAJwAlACMAIgAiACEAIAAeABsAGgAcABgAFAAWABUAEwARAA8ADwAMAAwADAAKAAsACAAEAAYACQALAAwACwALAA0AFAAXABQAEgAUABQAFAAVABYAFgASABEAFQAXABkAGAARABEADwAIAAQAAwD///j/9f/1//L/8f/v/+3/6//o/+b/4//e/93/2P/P/83/y//F/8T/xv/G/8L/vv++/8D/wf/C/8D/wf/C/8D/wP/D/8f/x//C/8P/yv/M/83/0P/V/9b/1P/W/9j/2f/a/9z/4P/c/9n/3P/d/9//3//d/+D/3v/b/97/3P/Y/9v/4v/j/9v/2//i/+P/5P/l/+j/6v/k/+T/7P/s/+v/7v/w//D/7v/v//f/+P/z//b/+v/5//T/8//4//b/7f/s/+//7v/r/+j/6P/l/+H/4v/i/93/2f/V/9T/1P/Q/83/zP/D/73/vv/A/8D/vv+7/7r/uf+3/7f/uP+1/7L/tP+1/7T/tP+2/7r/u/+8/8H/xP/D/8P/yf/P/87/zv/T/9f/1v/V/9n/3P/c/97/4P/g/93/3v/m/+n/5v/l/+j/7P/q/+7/8v/u/+r/7v/x/+7/6f/q/+z/7v/u/+//8f/t/+7/9v/3//b/9P/2//z//P/+/wIAAgACAAQABgAJAAgACQAJAAkADAANABAAEQAQABEAFAAWABMADwARABEADwAOAA0AEQARAA4ADgAKAAcABAABAAIA/v/7//z/9//4//n/8//z//L/8f/z//H/7v/r/+n/7P/s/+j/5//k/+H/4f/k/+X/4P/d/93/4P/i/+P/4f/d/93/3v/f/93/1//W/9f/0//S/9D/z//P/83/zf/O/8v/yf/F/8f/yP/G/8X/xf/H/8b/w//D/8L/wv/E/8X/xv/D/8L/xf/G/8b/xv/I/83/zv/P/9H/0//V/9n/3//l/+b/5//p/+v/7//w//D/8P/w//L/9f/1//L/8v/0//L/7//0//n/9f/x//H/8P/y//T/9P/2//X/9f/3//b/8//0//j//f/7//r/+//8/////f/8/wAAAgABAAAAAQACAAAABAAFAAMABQAEAAIAAQABAAEA/f/+/wEAAAAAAAAA+f/5//j/9v/1//X/+f/6//b/9f/5//z/+f/1//f/+P/3//b/9//3//j/+P/2//X/9//6//v/+P/5//7///////////8DAAMAAQAGAAcABgALAAoABQAGAAkADAAMAAkADAASABIAEQATABgAGQAaAB0AHgAeACEAIwAjACMAJQAoACgAJwAoAC0ALQAsAC8ANAA0ADIANAA3ADcAOAA6ADgANwA3ADkAOAA1ADgAOwA5ADcANgA2ADUAMQAuAC4ALgApACQAJgAoACIAIAAkACQAIgAiACIAIgAhACAAHwAcABwAHwAfACEAHwAaABkAGwAbABoAGQAWABQAEwATAA8ADAALAAoACwAKAAcABAACAAEABAAHAAQAAAD+/wAABwAHAAcACAACAAMACQAHAAgACQAHAAgACAAHAAgACQANAA4ADAANAAwADgATABQAEwASABEAFAAWABYAFgAVABUAFgASABMAFAAQAA8AEAAPAAsACgAOAA8ADQAOAAwADgAVABUAEgATABQAFAATABIAEQATABYAFAAVABcAGQAcABsAGwAeAB4AGwAbABsAGwAdAB4AGwAcAB8AHQAgACIAIAAgAB8AHgAcABkAHAAZABYAGgAWABYAGgAWABUAGQAXABQAEgASABAACwAGAAQABAADAAIA///2//P/9f/1//T/7v/p/+j/6f/q/+j/5f/h/+H/5P/h/97/4P/h/+L/5P/j/+T/4v/e/+D/5v/n/+j/6f/o/+f/5//p/+z/6//l/9//3f/Y/9X/2f/Z/9X/1P/S/9D/z//R/9X/0P/M/8//zP/I/8v/zf/L/8b/yP/M/87/zf/I/8j/0P/Q/8v/y//M/8v/0P/W/9f/1v/X/9z/4P/e/9//5P/j/+T/5P/j/+T/4v/g/9//3f/i/+X/4v/g/+D/4f/j/+L/5//q/+r/6//o/+n/8f/w/+7/7v/q/+n/7P/u//D/7P/l/+f/6P/o/+3/7f/r/+//8f/y//X/9P/y//L/9f/3//T/8v/y//D/8//1//T/8v/r/+n/7f/s/+f/5P/k/+T/4v/i/+T/4P/f/+P/4v/j/+T/5f/n/+T/4//m/+f/5f/m/+r/6f/q/+7/7v/u//L/8//0//P/8v/z//X/9v/0//L/9v/5//j/+f/6//j/+P/7//z//P/5//b/+v/7//j/9//6/wAAAAD//wAAAAD//wIAAwAAAAAAAgADAAIABAAJAAgABwAJAAwADQAPABAAEAAPABAAEQASABQAFQAVABMAEQATABYAFQATABEAEAAQAA4ADAANABAADwALAAsADAAKAAoACwAIAAUABgAGAAQABQAEAAQACAAHAAMABwAKAAwADAAKAA0AEwATABMAFgATABIAEwAQAA8AEAARABEADwAQABMAEQAMAAsADQAOAAsACgAJAAoACQAIAAsADQAMAA0ADwAPAA0ACgALAAwACwANAA4ADQAKAAcADAARAA8ADQAKAAkADQAOABAAEAAPABEAEwAVABcAFQATABIAEQAQAA8ADgAMAAoACgAJAAwADwAQABMAFgAaABsAFAANABAAGAASAAcADQAVABMAEgAUABgAFwATABcAGQAaABgAEAANAA0ADwAXABgAEQAKAAkAEwAbABYAEQAOAAkACAAGAAUAAwD+//v/+P/0//T/8f/u//H/8P/t/+j/4f/g/+D/4v/k/+L/4P/d/9r/3v/g/9v/1f/T/9H/zP/O/8//y//J/8b/xv/J/8f/yP/M/8z/yv/J/8n/yf/H/8f/x//G/8j/yP/J/83/0f/R/9L/1v/W/9b/2//Z/9f/2f/Y/9v/3v/d/+L/4v/h/+T/5P/p/+v/5//p/+f/5//q/+3/9P/z//H/9v/1//b/+P/2//j/+P/2//f/+v/9//7///8AAAAAAAACAAMABwAOAA8ADQAOAA8AEwAXABcAFwAXABcAGwAdAB4AHgAdAB4AHwAcAB8AIQAiACQAIQAeACAAIQAhAB4AHAAdABwAHAAeABwAHAAbABgAFwAUABMAFwAVABIADwAMAA4ADwAPABEAEAANAA0AEQAVABYAEgANAA4AEgAPAAcAAgADAAUABgAJAAQAAQAEAAAA+//8/wAA///2//X/+f/4//n/9v/y//L/9f/8//z/8f/x//b/9//6//j/9v/0//T/+f/4//v/AQD7//b/AAAFAAAA+v8AAAQA///7////AwADAAIAAgACAAMAAAD9//7/AgAEAP///f8CAAAA//8BAAIABAAAAAAACAAJAAkACQAJAA0ACgAIAAgABgAHAAIA/v////7/AAAAAP7//P/7//j/9f/4//v/+P/3//r/+v/5//z///8BAAEAAAACAAYACgAKAAgACAAGAAYABgADAAYACgAKAAcAAwAEAAcABgAHAAcABQABAP//AgAEAAAA///9//j/9v/3//j/9v/y/+//7f/s/+z/6f/n/+r/6f/i/+H/5//n/+n/6//r/+//8P/w//X/9f/1//f/9//5//b/9v/4//f/9//2//X/9f/y//H/9v/3//P/9P/z//H/8v/z//L/8//z//b/+v/6//n/+P/3//b/8//z//T/8f/v/+//8v/x//L/9f/z//H/8P/w//b/9v/0//b/+f/5//b/9//8//z/+//8//z/+v/5//z/+v/4//r/9//y//H/8f/z//H/8//1//T/9f/3//b/8//v/+7/7//u/+v/6P/o/+v/6P/p/+//7//u/+//8f/1//L/8P/x//D/8f/y//H/8//x//H/9v/2//X/9P/w//H/8f/u/+//8f/y//L/8//3//b/8f/u//D/7v/s/+3/7P/q/+r/6f/p/+v/6//s/+z/7P/x//P/8f/x//P/9v/4//b/9//8/wAAAAAAAAIAAQACAAcACQALAA0ADgAQABEAEwAUABEADwAOAA8ADwAMAAwACwAKAAcABgAJAAkABwAGAAQAAwAFAAYACAAIAAkABwAFAAUAAwADAAMAAAABAAAA//8DAAEA///+//v/+f/2//T/+P/5//f/9v/x/+//7//0//b/8//z//L/8f/y/+//7f/t/+7/7v/r/+z/7v/s/+//8v/v//D/8//0//X/+f/5//f/+v/9//z/+//7//3//v/+////AAACAAUABgAEAAIABAAGAAkACQAJAA0AEQAOAA0ADwAUABIAEAAQAA8AEgAVABMAFQAUABIAFgAXABcAGAAZABkAFAASABgAGAATABQAFgAUABAAEgAUABIAEAAOAA0ADAANAA0ACAAGAAcABgAFAAQABgAHAAcACAAIAAcABQAEAAUAAwACAAYABQACAAEAAwAEAAQABAADAAQABwAEAAIAAQD+//z//P/+//3/+v/7//3/+v/6//v/+f/7//r/9//3//b/9//6//n/9v/4//n/9//4//r/9//z//H/8f/z//X/9f/1//X/+P/3//X/9//3//f/+f/7//r/+f/6//v/+//9/////v8AAAMAAgAFAAgACAAGAAYABwAGAAcACgAMAA8AEAAOAA8AEQATABUAFgAVABUAGAAXABYAFQAVABYAFQASABMAFAAUABMAFAAWABIAEQASABIAEwASABMAFAAUABQAEwAYABsAGAAYABUAEAATABQAEAANAAsADAALAAcABAAEAAYAAwAAAAEA//////3/+v/6//n/+P/3//T/9P/y/+//7//q/+j/5v/j/+P/4P/c/9v/3P/a/9n/3P/d/9z/3P/c/9z/3P/d/97/3v/h/9//3//h/+H/5f/n/+T/5v/j/+H/5P/j/+P/5f/j/+f/6//q/+z/6v/n/+r/6v/r/+z/6//s/+3/7v/0//X/8//2//f/9v/2//f/9v/z//L/9P/z//P/8//w//H/9v/2//X/9//4//b/9//2//b/+P/3//f/+f/6//v//P/9/wAAAAD8//n/9//2//b/9P/0//L/7f/v//X//v8IAAYA/////wQACwAPAAkAAAD9//7/AQABAAAAAgAAAPv/+P/4/wAAAQD6//L/8v/4//z/+v/1//L/8//x/+7/7//x//X/9//w/+//9v/8/////P/5//n//f8DAAUAAAD8//z//////wAAAwAKAAoABwAGAAoADQAOAA8AEgAQAA4AEgAWABsAIAAhACIAIgAgACQAJwAlACQAIgAgAB0AHQAdABsAGQAXABUAEwASABUAFQASABIAEAALAAsACwAMAAkABAAIAAgACAAMAAwACwAKAAgACgAKAAsADAAMAAoACQAIAAgACAAIAAoACQADAAQABwAEAAEAAAAAAP3/+f/4//j/9//2//P/8v/w/+v/6v/n/+L/3v/Z/9b/1//V/9P/1f/S/9H/0f/Q/9D/zv/O/9L/0v/S/9T/2P/Y/9b/3P/d/93/4v/g/+L/5f/i/+P/4v/e/+D/4f/j/+b/5f/n/+f/7P/x/+3/7v/y//P/9v/6//r/9//5//3/+//7////////////AAACAAIABAACAAAAAAD9//3/BAAEAAQAAwABAAIAAQADAAUABgAIAAkACQALAA4AEAAOAAsACwALAAsACgALAAsADAANAAsACQAJAAkACQAFAAMAAwACAAIAAwACAAAA/v/9//z//P/8//r/+v/5//b/9P/y//P/9v/3//b/9P/0//f/+//9//3//f/+/////v/8//7/AAAAAAEAAAAAAAIAAQABAAIAAwAFAAQABQAGAAQABwAJAAsADAAIAAgACgAHAAUABQAFAAQABAAEAAIABAAFAAUABwAFAAQABwAGAAgADAALAAsACwAMAA0ADAANAA4ADAAKAAkABwAJAAcAAwAEAAIAAQACAP///f/9//r/9//5//r/9P/u/+3/6v/n/+X/5f/m/+X/5v/m/+X/4//g/9//3v/d/9//4v/i/9//4v/l/+P/4//j/+X/5//m/+b/5v/l/+b/5f/m/+j/6P/r/+7/7v/w//P/8//x/+//8//2//T/9f/1//L/9f/4//j/+//4//j/+//7//7//v/9/wAAAQADAAUAAwAIAAoADAAQABAADwASABQAFQAUABUAFwAYABoAGwAaAB0AIAAhACIAJQAlACYAKAApACgAKAAsACsAKwAuAC4ALgAwAC4AKwAoACUAJAAgAB4AHwAgACAAHQAcAB0AHAAcABwAHgAgABwAHAAgAB8AGQAYABoAGwAcABoAFwAWABUAGgAcABkAGgAcABsAHQAfAB0AGwAcAB4AGgAXABcAFwATABIAEAALAAkACAAEAAQABQABAP//AAD///v/+v/4//j/+P/4//f/9P/0//L/8f/w/+z/7P/v/+z/6//l/+L/5f/h/+D/4f/e/+H/4f/g/+P/4P/g/+P/4//m/+f/5v/p/+r/6f/l/+T/5P/h/+H/4v/e/+D/4f/d/9v/2v/a/9v/1//X/9f/1v/Z/9n/2f/Y/9f/2f/Y/9X/1//Z/9r/2v/Z/9f/2P/a/9r/2P/Y/9n/2v/b/9z/3f/h/+X/6v/q/+z/8P/w//D/8P/x//T/9P/3//v/9v/3//r/+v/+//3//P/7//r//v////v/+//5//n/+v/5//z//f/7//z//P/7//v//f/9//z/AAAEAAEAAQACAAEAAAD//wAAAAAAAAAAAgAFAAQAAQADAAQAAQAAAAEAAAD+//7/AAAAAAAAAAD+/wAAAAAAAAEA/////wAA/f/7//v/+v/4//j/+P/z//D/8//y//D/8f/w//H/9f/1//f/+//6//n/+v/7//v//f8AAAEAAgADAAIAAAACAAIAAgADAAIAAgADAAQABAACAAEAAQAAAAEAAAD//wEAAgABAAIAAgACAAEAAwAAAP7/AAAAAP///v/5//j/+f/4//f/8//z//T/9P/2//b/9v/3//f/+P/4//j//P/8//7/AQACAAUACgAPAA8ADgAQABEAEwAUABQAFgAWABUAFgAWABgAFgAWABgAFwAVABQAEwATABQAFAARABIAFwAVABIAFQAWABgAGAAWABgAGgAbABsAGAAZABcAFQAWABUAEwASAA8AEQASAA8ADAALAAoACwAMAAsACAAHAAcABQAFAAYAAwABAAIAAQAAAAAABQAJAAgACAAJAAcABgAGAAkACAAFAAcACQAIAAoACwALAAoACgAJAAcACgAMAAsADAALAAsADwAMAAoACwAIAAUABQAFAAYAAgD+//7/AAD+////AAD//wAA//////7//P/8//z/+v/5//n/+v/8//3//f/+//7//v///wAAAAAAAAAAAQABAAAAAgAEAAMABQAFAAYACAAJAAsACQAEAAMABQAFAAMAAwADAAIAAAAAAAAA/v/5//z//f/6//j/+P/5//n/+f/7//r/+P/6//v/+P/5//v//v8AAP//AAACAAIAAgABAAAAAQACAAAA/f/6//r/+v/5//j/9//z//L/8P/t/+7/7v/r/+z/6//r/+r/6v/t/+3/7v/v/+7/7v/t/+z/7f/u/+7/6v/p/+3/7f/t/+3/7f/u/+v/7P/v/+7/7v/x/+//7//v/+7/7v/t/+3/7f/r/+n/5v/i/+P/5f/i/+P/5v/j/+T/5v/l/+b/5v/n/+n/5v/l/+b/5v/o/+f/5f/n/+b/4v/j/+L/4v/m/+P/4//o/+f/5//s/+//8f/0//f/+//+/wEAAwAIAAwACwAOABEADgARABUAFQAXABcAGAAYABcAGAAZABkAGQAYABoAHAAbABsAGwAZABsAHQAfAB8AHAAZABkAFwAWABYAEwAQAA4ADQAOAA4ADwAOAA0ACwALAAsACwANAAwACgALAAoACAAJAAsADQAIAAcACQAGAAYABgADAAEA/f/8//z/+v/+//z/+P/6//f/9P/2//X/9P/0//L/8P/u//D/8v/y//P/9v/3//n/+//7//7////8/wAAAAAAAAIAAwABAAAAAAADAAIAAgAFAAMAAQAAAP7///8AAAAA/////wAA///+//////8AAAAA/v8AAAIA///+/////f/9//7//f/8//n/9f/4//f/8//0//b/9f/0//L/8//z//P/9//3//f/9//1//b/+P/5//j/9//4//f/+f/7//n/9v/1//T/8//x//T/9P/2//v/+v/7//3//v8AAAAA/v8AAAEAAwAGAAIAAgABAP//AAAAAAAAAAD+////AgACAAMABAAEAAUACAAMAAwACAAKAA0ACwAKAAoADAAMAAoACAAHAAUAAwAAAP7//P/8//7//v/6//f/9v/6/wAA/////wEA+//2//z/AAD9//7/AgAAAPr//f/8//n/+//3//D/8P/w//D/8f/r/+j/7P/o/+f/7P/o/+j/6v/m/+j/7P/r/+f/5f/k/+D/4//m/+P/5f/n/+L/4f/l/+r/6//o/+j/6f/o/+r/7v/u/+7/7//s/+z/8P/w//D/8//x//H/9P/1//f/+v/6//z/+v/4//7/AgACAAMAAwADAAQABwAMABAAEAAMAA0AEAARABIAFAASAA8ADwAMAAkACwANAA4ADwAOAA0ADQALAAoADAAKAAYABAACAAEAAwAEAAMAAgABAAMABwAJAAkACwAMAA0ADwARABMAFAAVABQAEwAVABkAFwAVABcAFwAVABUAFAASABAADgANAAwACwANAAsACwAMAAkACAAMAAwACQAHAAYABgACAAAAAQD///v/+//8//z//P/8/wAA/v/8/////P/5//7//v/9//3//v/+//z//f/9//n/+v/6//j/9//1//X/9P/z//P/7v/u//L/8//z//H/8f/v/+z/6//r/+r/6P/o/+n/6v/s/+z/6v/p/+n/6f/r/+3/7v/w//L/9P/0//X/9v/2//j//P/+//3///8CAAMAAwAGAAYABwAKAAkABgAHAAoACgAKAAsACwAKAAoACwAHAAYABwAGAAYABAABAAIABQACAAAAAAAAAP7//v/+//r/9//2//f/9v/4//n/9//2//b/9v/1//T/9v/2//T/9f/2//j/+//6//j/9//4//n/9v/1//j/9v/4//r/9//5//7///8AAAAAAQAFAAMAAgADAAQABQACAAMABAABAAEAAQACAAMAAAAAAAAAAAABAP///f////7//f/9//z//f/+//3//f/9//z/+v/5//j/9v/3//n/9//1//b/9v/3//j/9v/2//f/9//6//v/+f/+/wAAAAADAAUABQAHAAUAAwACAAIAAgADAAUABwAHAAcABgAHAAcABwAIAAkACwANAA0ADgAQABEAEQASABIAEQARABEAEAARABEAEAASABIAEgAUABcAGwAbABsAGAAWABcAFwAZABsAGQAbABwAHgAjACMAJQAqACwALgAuAC8AMgAzADUANAAxADQANAA2ADUAMQAxADAAMAAyAC0AKwAsACsAJwAiACEAIQAcABoAGgAYABYAEwASAA8ADAALAAgABwAIAAgABgAHAAgACAAJAAcABAAGAAQAAAAAAAAA//8AAP///f/8//3//f/9//v/+f/6//v/+v/3//b/9v/z//H/7v/p/+j/6f/m/+P/4f/h/+D/3//e/93/3f/a/9n/3P/d/9z/2//b/93/3v/f/9//3f/e/9//3//g/+H/4f/h/+L/4//j/+T/5v/o/+r/6//s/+7/7v/v//H/8f/z//T/8v/2//v//P/+//7//P/9//7/AAAAAPz/+v/7//z/AAD///n//P8AAP//9v/x//X/+/////v/8f/y//f/+f/5//T/8//4//v/+P/2//X/9//7//z/+P/3//j/+f/5//r/+//5//r//v/5//X/9//4//7////8//z/AAACAAIAAQAEAAUABgAFAAIAAAD+//7//v/7//v/+P/z/+//7v/v//D/7P/q/+v/6v/o/+j/6f/t/+r/5v/n/+X/4v/m/+f/5//k/+P/6P/n/+j/6v/r/+3/6v/p/+3/7P/q/+j/6f/p/+X/5v/k/+P/5f/j/+D/4P/f/+L/4f/f/+H/4P/h/+P/4//l/+b/6P/o/+T/4//k/+L/4v/k/+X/5P/j/+X/6P/q/+3/7f/s/+7/8P/x//X/9v/4//n/+//9//3/AAAEAAQABAAGAAYABAAGAAkACAAIAAcABgAIAAkACwANAA8AEwAaABsAGQAZABwAHgAcABsAHAAdAB8AIAAhACIAIgAkACgAKQAnACgAKQAqACoAKAApACoAKQApACcAJAAlACUAJgAlACIAIgAhAB4AHgAeABwAHQAcABoAGQAWABMAFAARAA4ADQANAA0ACgAGAAcACQAHAAcABwAEAAQABAACAAEAAQABAAEAAgADAAEAAQACAAMABAADAAMAAwABAAEAAgAFAAcABgAHAAgABwAHAAcABwAGAAcACQAIAAQAAAD+//7//f/9//3/+//4//T/9f/1//L/8P/t/+f/5P/j/9//3P/c/97/4P/h/+H/4//i/+P/5P/k/+X/5P/m/+f/5f/k/+T/5P/m/+f/6P/q/+r/6v/s/+7/7//x//L/8f/z//H/7//z//b/9v/3//j/+P/4//n//f/+//7/AAAAAP//AAD+//3//v/9//7/AAAAAAEAAQADAAIAAgAHAAkACAALAA4AEAATABMAEgAUABUAEwASABIAEgATABIAEQATABIAEAAPAA4ACgAJAAgABgAGAAcABgAGAAUABQAHAAgABQACAAQABQAEAAMAAwADAAIABAAFAAAA/v/9//z//P/8//7////9//z//v/9//3////9//v////9//z//f/+/////f/8/wAAAAD9//7/AAADAAYACAAHAAYACwAMAAkACQAJAAoACwAKAAgACQALAA4ADwAOABEAFQASABEAEgAPAA0ADQANAAsACAAGAAUABgAEAAMAAQD+//z/+//6//z/+v/3//n/+f/2//T/8v/z//L/8v/0//P/8v/1//X/9v/3//b/9//4//f/9v/2//j/+v/4//n//f8AAAEAAQAAAAMABQAFAAUABAAEAAMAAwADAAMAAAAAAAAA/f/9//3//f////3//v8BAP///f//////AAD///7//f/+//7//P/5//j/9//2//b/9//0//P/9v/1//T/9P/z//X/9//2//X/9P/z//P/9f/2//X/9v/3//r//P/8//3//f/8//3//P/8//z//P/9//r/+f/7//v/+P/2//X/9f/1//T/8f/w/+7/7f/u/+7/7//y//T/9f/1//f/9v/0//X/9v/3//n/+f/7//7///8AAAIABQAHAAUABQAHAAYABwAGAAQABwAHAAcABwAHAAsADAALAA0ADAAMAA0ADgAPAA8ADwANAAoADAANAA4AEAANAA8AEwATABMAEwARABEAEwAUABYAFwAZABoAHAAeAB0AGQAaABsAGQAaABoAGgAbAB0AIAAiACAAIAAiACMAIQAgACAAIgAjAB8AGwAcABsAFwAXABcAEwASABIAEQAPAAwACwALAAsACgAFAAMABQAEAAMAAgAAAAAAAQAAAAAA/P/5//j/9v/0//D/7P/t/+3/6//r/+n/5//l/+P/4v/f/93/4P/g/9//3v/f/+D/4P/d/9//4//l/+b/5//p/+n/6//s/+7/7//s/+v/7v/t/+z/7f/s/+3/7//u/+7/7v/s/+3/7f/r/+r/6f/n/+X/5f/m/+P/4//j/+H/4v/f/+D/4//g/+L/4//i/+T/5P/j/+P/5v/p/+n/7P/v//H/8v/y//X/9P/y//X/+P/4//f/9//6//r/+v/8//z//f/6//n/+//6//v//v////7///8AAAAAAAACAAIAAQAAAAAAAAD9//7/AAD+//v//f////3//P/9//3/AAAAAAEAAwAAAAEABAAFAAcABwAHAAgACgALAAsACwAMAAwACwANAA4ADAAMAAwACgAKAAoACgALAA0ADgAPAA4ADAANAA4ADAAMAA0ADAAPAA8ADgAPAA4ADwAPAAwADgAPABAADwANAA4ADgAMAA4ADwAOAAwACwAKAAcABQAFAAIAAQADAAEAAgAGAAQAAwADAAIABAAGAAUAAwAEAAgABwAEAAYABgAGAAYACQALAAwADwASABEAEAATABMAEAAQABQAFAARABEAEgATABEAEQATABIADwAOAAwACgAKAAoADAAMAAsACgALAAkABgAFAAUABAAFAAYABgAGAAcACAAJAAkACgALAAoACwAKAAsACgAIAAkACAAFAAUABQAGAAUAAQACAAMAAAD////////9//r/+v/5//j/9//1//H/8P/x//D/7//x//L/8P/x//P/8P/t/+7/8v/4//n/9//4//r//P/+//z/+//7//v//P///////P/9//7/+//7//z/+v/4//n/+v/6//r/+//6//n/+f/4//n/+v/7//v/+v/7//v/+//7//z/+//5//f/9f/x/+7/7f/t/+z/7P/r/+z/7P/q/+v/6//p/+v/7v/t/+3/7P/s/+z/7//t/+r/7//x/+7/7//x//T/8//y//b/9v/2//j/9//3//j/+f/7//v//f//////AAD9//3/AAABAAAA/v///wAA//8AAAAAAAAAAP7//f////v/9v/4//j/9v/4//j/9//0//P/9P/z//H/7//u/+3/6f/m/+f/5f/k/+T/4//m/+j/6P/r/+3/7P/q/+r/6//q/+v/7P/u/+7/7P/t/+z/6v/q/+r/6//p/+j/7f/t/+z/7f/u//H/8f/x//X/9//2//X/9f/1//P/8//0//b/9P/y//H/7v/t/+z/6v/t/+3/6P/q/+z/7P/t/+r/6P/o/+j/6f/q/+z/8P/z//L/8f/y//X/9P/z//X/9f/2//j/+v/7//r//P8AAP///v///wAAAgAAAAEAAwAFAAYABgAHAAYABwAJAAoADAALAAwADwAQABAAEQAUABYAFQAUABMAFQAWABQAFAATABIAFAAUABMAEgATABUAEwATABUAFwAdAB0AGgAeACIAIAAgACIAJAAmACUAIgAiACEAIQAjACMAIwAjACQAJgAjACIAIgAdABsAGgAVABEAEQAQABAADgALAAoACAAHAAUABgAIAAYABAADAAMAAwADAAIAAgACAAIAAQACAAQAAgABAAEAAwAGAAUABQAGAAUABgAGAAQABAAEAAQABAACAAMABwAIAAYAAgD/////AAAAAAAAAAD/////AAACAAMAAgADAAQABQAFAAUACQAKAAcACQAMAAoACAAIAAkACQAIAAYABgAGAAQABAAFAAQABAAFAAYABgAFAAUAAwACAAUABgAGAAgACgALAAsABwADAAYACAAHAAcABwAGAAYABwAHAAcACQAKAAoACwAPAA4ADgAQAA0ACwAOAA8AEAASABIAEgAQABEADwAMAA0ADgAMAAsACwAMAAoACQAKAAUAAAAAAP7//P/7//v//P/5//r/+v/5//z//v/9////AAAAAAAAAwAGAAQABgAHAAQABQAIAAkABwAFAAcABwAGAAcABwAHAAcABQAGAAIAAQACAAAA/v/8//r//P/9//3/+//5//r/+v/4//r/+//7//n/+f/4//T/8f/u/+//7//s/+v/6v/q/+n/5//r/+v/6f/q/+f/5v/o/+b/5v/m/+f/6P/n/+j/6P/q/+3/7P/p/+r/7P/v/+7/6f/q/+7/6//r/+7/7//z//X/9P/2//f/+v/+//r/+v/9//3//v/+//7//v/+//3/+//8//7//v8AAAAA/v8AAAIABAAEAAUACAAIAAgACgAKAAsACwALAAsADAANAA0ADgAMAAoADgARAA8ADAALAA0ADQAJAAgABgAEAAQAAgD///3//f/8//v/+f/1//X/9//3//b/+P/5//v///8AAP//AAAAAAEAAQABAAIAAgAEAAMAAgAHAAcABgAGAAYABwAEAAQABgADAAQABQAEAAUABwAIAAgACQAKAAUAAQAAAP7/+//5//r/+//2//P/8//y//H/8f/y//D/7f/t/+7/7f/t/+//8v/v/+//8//y//T/+P/3//f/9v/0//X/8//z//L/8f/y//H/8P/x/+//7v/u/+3/7f/s/+v/6v/p/+n/5v/k/+n/6v/o/+n/5//k/+T/4//l/+X/4//j/+H/4f/l/+T/4//n/+n/6f/o/+n/7f/s/+v/8P/w/+//8v/2//X/9v/4//r/+//8//z/+//7//3//P/8//3//f////////8AAAEAAwAFAAcACAAGAAcACAADAAIAAwAEAAYABQAHAAoACAAKAAwACgAMAAsACgAMAAsACwAMAAoADAANAAwADgANAA0ADwARABEAEAARABEADwAQAA4ADQAPAA0ACwAMAAwADAAMAA0ADgANAA0ADQAMAAwADQAKAAkACwALAAkACwAMAAsACwALAAoACgAMAAwACwALAA8AEAAPABAADwAPABEAEgAUABQAEwAUABQAFAAUABUAGAAXABcAFgAUABYAFQASABEADgALAAkABwAGAAUABAAFAAUABAAGAAcAAwADAAMAAQADAAAAAAAFAAMAAQAFAAUABAAGAAcABQADAAQABgAEAAMABAACAAIAAgABAAEAAwADAAQABQAFAAQABgAIAAgACAAKAAkACAAGAAYACAAGAAYABgAFAAUABAAEAAIA///9//z/+f/4//f/9//2//b/9v/3//f/9f/2//j/9v/0//b/9f/w/+//8P/y//L/8v/0//b/9v/4//v//P/6//r/+//6//r/+v/5//n/+f/5//j/+P/3//b/9P/y//H/8v/z//T/8//y//P/8//1//X/8//1//T/8v/1//T/8v/x//D/8f/v/+7/8P/y//P/8v/y//X/8v/x//P/8f/y//P/9f/5//n/+f/7//r/+//+/wAAAwABAAMACQAIAAcACAAJAAoACwAMAA0ACwAIAAgACAAIAAgABgAEAAIAAAD///3/+//8//3/+//6//3//v/7//z/AAD+//3//////wAAAAD+//7/AAAAAP7///8AAP////8AAP/////+//3//f/8//z//f/8//z/+//6//r/+f/4//r/+//8//z//f8AAAAA/v/9//3/+//6//j/9//2//b/8f/w//H/8f/z//P/8//0//T/9//5//f/+P/5//b/9P/y//H/8P/v/+//7v/t/+7/7f/s/+3/7v/y//L/8v/2//n/9//4//n/+f/5//n/9v/3//j/9//4//n/+//7//r//P/+//3//v/+//7//P/8//7//P/7//v/+//8//v/+P/3//f/+//7//n/+v/6//n/+//8//z/+v/5//v/+v/6//v/+//8//3///8CAAEAAAAEAAYABAAIAAoACgAMAAwACgAKAAsADAAMAAwACgAIAAgACAAHAAcABQAGAAgACQALAA0ADAALAA0AEAAPAA4AEAAQAAwADQAPAA4ADwASABIAEwATABEAEAAOAAsACgAGAAMAAwABAAEAAAD+/wAAAAD8//z///////3/+//9////AAABAAIAAgADAAYABQAGAAgABQAEAAMAAgAFAAUAAQABAAAAAQABAAAAAAAAAP7///8AAP//AgADAAQABgAGAAgACwAKAAsADAALAAsACgALAA4AEAAOAAwADwAPAA4ADAALAA8ADgALAAwACgAKAAgAAgADAAQAAgACAAIAAwAEAAEABAAJAAcABwAHAAYABwAIAAkACAAIAAoACQAJAAkACQANAA0ACwAKAAkACgAKAAkACQAIAAoADAAMAA4ADQANAA4ADwARABAAEAAPAAsADAAMAAsACwAJAAsADAAJAAoACAAGAAcAAgAAAAAAAAAAAAMABgAFAAUACgALAAcACQALAAoACAAFAAEAAAAAAAAAAAAAAP//AAD///v//f/+//z/+v/2//T/8//x//H/7//r/+j/6P/p/+n/5//n/+j/6P/m/+f/6P/m/+j/6//s/+//8P/y//b/9f/1//b/9//7//v/+//9//3/AAABAAEAAwADAAQABwAGAAUABgAFAAMAAwACAAMABQAFAAYABwAFAAUABgAHAAgABwADAAQABwAFAAMAAwACAAMABQAHAAYABgAHAAcABQAEAAYABwAIAAgACgANAA0ADAAPABAADwASABQAEAAOABAAEQAPAAwACgAKAAoADAAOAAwADAANAAoACAAGAAYAAwD+//7/AAD8//v//v/9//z/+v/8////AAAAAAAAAQABAAIABQAEAAMABQAEAAMAAwAAAAEAAQD///z/+f/2//X/9f/1//P/9P/3//X/9P/2//X/8v/x//D/7//u/+z/6v/o/+j/5v/j/+X/6P/n/+b/5f/m/+f/5f/j/+L/4v/h/97/3f/b/9n/2v/b/9v/3P/c/93/4P/h/+D/4P/h/+T/6P/p/+r/7//x//L/9P/3//f/9P/z//b/9f/0//X/9//3//X/9f/2//X/8v/x//H/7//t/+//7//v/+7/7P/t/+3/7v/x//L/9P/2//b/+P/2//j/+//6//r/+//6//v//P/6//n/+v/6//j/9v/2//f/+f/8//7//f/+//3//P/+/wAAAAAAAAMABQADAAQABQACAAQABgAFAAQABgAIAAYABgAJAAgACAAIAAUABgAGAAQABQAGAAcACQALAAwADQAOAA8AEAAQABEAEgAUABQAEwAUABcAFQAVABUAEgARABEADQAMAA0ADgAOAAwADQAOAAsACwALAAsADQALAAkADQAMAAwADgAMAAsACwALAAsACAAIAAoACgAKAAoACgAJAAoACwAJAAgABwAFAAQABAADAAEAAQAEAAYACAAIAAYACAAHAAYABwAJAAkACgAKAAcACAALAAwADAAPABEAEAAQABQAEwASABQAFgAWABYAFAAVABUAFQAYABgAFQAXABkAGQAcAB8AHwAeAB0AHwAeABoAGAAXABUAFQATABMAFAAUABUAFQAVABYAEgAPABAAEQAQABEAEAAOAA0ADQANAAsADAALAAcABgAHAAYABQAFAAYABQAGAAcABgAHAAkACgAJAAgACQAJAAcABwAFAAIAAAAAAAAA/f/+//3/+//+//7/+v/4//n/+f/5//j/9v/0//T/9f/3//j/9//2//b/9//0//H/7//s/+v/6v/n/+T/5f/m/+X/4//h/+P/4v/d/9//4P/c/9z/3//e/93/3f/f/+D/4P/i/+b/5//n/+f/6v/s/+n/5//n/+X/4//k/+X/4//k/+X/5f/m/+X/5P/i/+L/5P/j/+P/5//o/+j/6f/p/+z/7P/q/+v/6f/o/+n/6P/p/+z/7v/y//P/8//0//f//P/8//n/+f/5//n/+v/6//r/+f/5//j/+v/+///////+/wAAAAACAAcABgAGAAoACwALAAwADAANAAwADgAQAA4ADQAKAAcABgAEAAQABAABAAAA//8AAAAAAAD//////f/6//r/+//4//n//f/8//v//P/9////AAD///7//P/8//v/+P/3//T/8//0//P/9P/2//b/+P/5//b/9f/2//b/9v/3//n/+P/5//v/+v/7//3//P/7//v//P/9//z/+//6//v//f/9//3//f/+/wEAAQAAAAMABAAEAAUABQAEAAMABAAFAAIAAwAHAAUABAAGAAQAAgAEAAQAAwACAAAA//////7/+//6//z/+v/4//z///8BAAUABQAGAAcABgAKAAsACgALAAoACwAOAA0ADwARABEAEQATABQAFQATABUAFwAWABcAGQAYABgAGAAZABkAFgATABMAEQAOAA0ADgAOAA4AEQASABEAEQAPAA8ADwAMAAsACwAIAAcABAABAAEAAAAAAP7//f8AAAAAAAAAAP7/AAAAAAAAAQABAAMABQAIAAsACgANAA8ADAAMAA0ACgAKAAoACgAJAAkACAAHAAkACQAJAAgABAACAAEAAgACAAAAAQADAAEAAgABAAAAAQACAAAAAAAAAAAA///+/wAA/P/5//v//P/4//f/9P/1//f/9f/0//X/9f/1//L/8f/1//b/9f/1//X/8//x//L/8f/x//P/9P/y//P/9//2//P/9//3//b/+//5//b/+P/3//X/8//y//H/7v/v//H/7//v//D/8//2//P/7//w//T/9P/x//T/9f/2//j/9//4//z//v8AAAAAAgAEAAMABAAFAAUABQAEAAQABQAGAAYABQAEAAMAAgABAAAA///+//3/+//5//r/+//7//z//f8AAAAA//8AAAAAAQAAAAAAAQAAAP//AAAAAAAAAQAAAAIAAgABAAIAAQADAAQAAgAAAP//AAACAAEAAgADAAQABwAHAAUABAAEAAcACQAJAAoADAALAAoACgAJAAgACAAIAAgABgAFAAUAAwAAAAAAAQABAAAAAAABAAEAAgAEAAMABAAGAAcABwAIAAoACgANABAAEAARABMAFgAXABcAGAAaABoAGQAYABYAFQAVABcAFAAOAA4ADgALAAkABwAJAAgABQAGAAUABAAGAAgACQAKAAoACwANAA8ADwAPABEAEgASABMAEwATABIAEwARAA4AEAAQAA4ADQAIAAcACgALAAwACwAOABAADwAQABIAEQAQAA4ADgAOAAwACwAKAAkACAAGAAYAAwABAAAA///+//v/+f/6//j/+P/3//f/9//1//T/8//w//D/8v/x//L/8P/v/+//7P/r/+z/6//s/+z/6v/q/+n/5f/m/+j/5v/m/+j/6P/r/+n/5f/m/+j/7P/t/+v/7f/u/+//8P/v/+//8f/w//D/8v/z//T/9//3//X/9P/0//T/9f/1//f/9v/1//f/9//3//f/9//2//T/9f/4//f/9//5//j/9//5//z//v/+/wAAAgACAAMABAAEAAQABAAEAAIA///+/wAA/////wAAAAD//////f/8//7//v/8//3///8AAAAAAAACAAMABAAEAAIAAwADAAMAAgADAAIAAgADAAMAAgADAAQABAAFAAUABQADAAMAAgACAAEAAAAAAAAA///8//r/+P/4//f/9v/1//L/8//0//P/8//0//P/8v/x//H/9P/1//f/+v/7//v//f///////v///wAA///8//7//f/5//b/8//x//H/8P/w/+7/7v/v/+z/7P/t/+z/7P/s/+7/8f/u//D/9P/y//D/8f/z//P/8v/z//T/9f/4//z/+v/6//3//P/+/wEAAAACAAYABQAIAAoABgAGAAcABwAEAAIABQAFAAIABQAHAAQABAAGAAYABQAFAAYABwAKAAoACAALAA0ACAAJAAwACgALAAwADAAMAAsADgAPAA8AEQARABAADwANAAwADAAMAAsACwAMAAsADAANAAsACQAIAAgABwAHAAoACgAKAAoACQAIAAcABwAIAAgABgAFAAcACAAIAAoACQAJAAoACgALAAoACQAMAAoACQAMAAsACgAMAAwACgAIAAkACgAJAAkACwAJAAkACgAGAAcACgAIAAcABwAGAAQAAgACAAEAAAABAAEAAAAAAP///f8AAP//+//7//3//v/8//z//P/8////AAD//wAAAAABAAEA//8CAAIA//8AAPz/+v/6//j/9//2//P/8v/y//L/8v/y//T/8//0//b/9v/z//P/9f/z//L/8//z//L/7//v//D/7f/v//P/8f/x//D/7P/r/+r/7P/w//D/7//u/+3/7v/u/+7/8f/z//P/8//z//T/9f/1//f/+f/7//v/+//+/////v/9//3/AAAAAP//AAAAAAAAAgAAAP//AAABAAMAAAD//wAAAgADAAIAAgACAAIAAwACAAAAAQADAAMAAgADAAQABAAFAAUABAADAAMABgAHAAcABgAIAAkACAAIAAgACAAGAAQABgAFAAUACAAIAAQAAwAEAAQAAgADAAMAAAACAAMAAAD//wEABAAEAAQAAgACAAUAAwABAAEA/v/9////AAACAAEAAAACAAAAAAABAAAAAQABAAAAAgACAAMABQADAAEAAgACAAIABAADAAAAAAABAAAA//8AAAEAAQD//wAAAgACAAUABQADAAQAAQD//wAAAAABAAAA/v////3/+//8//3//P/7//z//v8AAAAAAAD///z//P////7///8BAAAA/v/+/////////wAAAQAAAAAA/v8AAAIABAAGAAUABgAJAAgABQAHAAgABwAIAAgACQALAAoACQAJAAkACAAIAAgACQAJAAkACQAIAAUABAAEAAMAAQAAAAAAAAD7//n/+v/4//f/9v/z//P/8//x//H/8f/v/+7/8f/x//H/9P/1//f/+//5//f/+f/6//n/9v/3//f/9f/0//T/9P/z//H/8P/u/+3/7P/r/+z/7f/s/+3/8P/y//H/8P/w/+//7v/v//H/8f/w//D/7//w//T/8v/y//X/8f/v//H/8f/z//X/+P/7//r/+//+//7/AAACAAEAAAACAAIAAgACAAIAAQAAAAAAAAD//wAA/v/+/wAA//8AAAIAAwAEAAQABgAJAAkACgAKAAsADAALAAsADQAMAA4AEAAQABAADgAOABAAEAARABIAEgATABIADwAQABIAEwAVABcAGQAZABkAHAAcABwAHgAeAB4AHQAbAB0AHgAgAB8AHQAeAB8AHgAeAB8AIgAgAB4AHwAfAB4AHwAgAB8AHgAgAB4AGwAcABwAGwAYABcAFgATABMAEgARABEAEAARABEADQANAA0ADAAPAA4ADwAPAA4ADwAPAA0ADAALAAsADQAMAAoADAAOAA0ADQALAAsADAAKAAgABwAGAAYAAgADAAUAAQABAAMAAQAAAP7//f/8//n/+f/4//X/8//z//T/8v/x//L/9P/z//L/8//x//D/8v/w/+z/7v/u/+3/6//r/+7/7f/r/+v/7f/t/+3/7f/s/+r/6v/p/+r/7P/s/+7/8P/w/+//7//w//D/7P/t/+z/6f/q/+r/6v/s/+z/6//s/+z/7P/u/+3/6//o/+j/6f/p/+v/6v/o/+z/8P/u//D/8//z//T/9P/1//b/9//4//f/9//6//z//P/+//7/AAACAAAA//8AAAIAAgACAAIAAgADAAQAAgADAAMAAgACAAIAAwADAAEAAwACAAIAAAAAAAEAAQACAAIAAAADAAUAAwAEAAQAAgABAAEAAAD//wAAAAAAAAEAAQABAAMABAADAAMABwAHAAcADQAOAAsADAAJAAgACAAJAAkACAAGAAYAAwACAAIAAAD//////v/7//n/+f/6//r/+//6//v//v/+/wAAAgAAAAAAAgABAAAAAgABAAEAAQAAAAAAAQACAAMAAgACAAIAAQACAAAAAAD///z/+v/5//j/+P/4//j/+P/4//j/+P/5//r/+v/5//b/9P/z//X/9P/z//T/8//0//f/9f/1//f/+f/6//n/+//9////AAAAAAEAAQAAAAMAAwABAAIAAwAFAAQABgAGAAMABAADAAIABAADAAAA/v/8//z/+//8//7/+v/3//f/9v/1//X/9v/0//L/8v/x//P/9f/3//n/+v/7//7///8AAAEAAQABAAAAAAABAAAABAAGAAMAAgADAAIAAAD//wEAAgAAAAAAAAAAAAAA//8AAAEAAwAEAAUAAwACAAMAAwABAAAAAAD+//7/AAD/////AAAAAP7/AAADAAUABwAJAAsADAAPABIAEAARABMAEgASABIAEQASABUAEwASABIAEAASABEAEAASABIAEgAUABMAEQAQABEAEQAQABAAEQARABAAEAAPAA4ADwAPAA0ADQAMAAoABwAEAAQAAwAAAP3//v////7/+//8//z/+P/2//T/8v/y//P/8v/y//L/7//t/+7/7P/q/+r/6//s/+r/6v/r/+v/7f/r/+j/6v/q/+r/6f/r/+7/6//q/+3/6//s/+3/7P/u/+z/7P/v/+7/7f/u//D/7v/r/+3/7f/t/+7/6//t//D/7//x//L/9P/3//X/9f/2//b/9f/3//j/+P/6//z/+//8//z/+v/7//n/9v/3//j/+P/4//j/+P/6//n/9f/2//f/9v/2//X/9v/2//X/9f/2//f/+P/7////AAAAAAEABAAEAAYACQAIAAgACAAJAAkACAAIAAcACQALAAkACQALAA0AEAASABAADwAPABAAEAANAAwADQAOAA4ADAAMAA0ACwAHAAYABQADAAIAAAAAAAIAAwAFAAYABQAIAAgABgAIAAkACQAIAAgACgAIAAcACAAIAAgACAAGAAYABwAGAAcACAAGAAcACgAJAAcABQAGAAYAAwAEAAUABAAGAAYABAADAAEAAAAAAAAAAAABAAIABAAEAAIAAwABAP7///8AAP//AAD///7//P/7/////f/8////AAAAAAAAAAADAAUABAAEAAUABwAJAAkABgAGAAcABgADAAQABQAFAAQABAACAAEAAwADAAIABQAJAAcABQAGAAgACAAGAAYABwAKAAoACAAKAAwACwAJAAkACwANAAwADAAMAAsADQAMAAkACgALAAoACwAKAAkACwAMAAwACgAJAAoACAAGAAgABwAHAAkACgALAAwADAANAA0ACwAJAAsADAAKAAoACgAKAAoACwAMAAsACwALAAoACwALAAkACgANAAwADAAOAA4ADAAKAAkABQACAAIAAQD+//v/+//6//j/9//1//P/9v/3//P/9f/2//X/9f/2//X/8//y//b/8//v//L/9P/1//T/8v/z//H/7v/s/+n/5//q/+v/6//s/+r/6//s/+r/6f/r/+z/7f/u/+7/7v/t/+//8P/t/+//8//z//b/9P/y//X/+f/5//n/+v/6//n/9//2//f/+P/5//j/9//6//r/+v/9//3//f////7///8AAP7/AAAAAAEAAgABAAMABAAEAAQAAwAFAAYAAgAAAAMAAwACAAUABwAGAAcACwALAAkADQAPAA0AEAAUABIADwANAA4ADwAMAAsADQANAAwACgALAAsABwAIAAgABAADAAMAAgABAP///f/7//v//f/9//v//P/7//r/+//6//n/9//1//T/8//1//b/9P/0//b/9//4//v/AAAAAP//AAADAAUABAABAAMABAAFAAMAAgAEAAMAAwAEAAAAAAACAAIAAgAAAPv/9//6//z/9f/3//r/+P/9//r/9P/0//T/9//4//f/9v/1//n//P/6//j/+P////7/+/8CAAMAAAABAAAAAAABAP//+v/7/////P/3//j//v8BAP3//f////7/AgABAAAAAgD+/wAABwAEAAMABQADAAcABwAEAAYABgAEAAMAAwACAAMAAgADAAcABQACAAMABwAJAAUABgAKAAUABwAMAAcABQAHAAkADAAKAAYABgAHAAoACgAFAAYADAANAAkABwAHAAgACwALAAoADQAKAAoADwAPAA0ADgANAAwACgAHAAcABAABAAIAAQABAAIAAwAAAP3/AQACAP7/+//6//n/+v/7//r/9v/0//v/+f/z//f/9//2//b/8f/w//L/7//u/+3/7f/w/+7/7f/y/+//8f/z/+v/7//1/+7/6v/r/+3/7v/t//D/8f/x//L/7f/s//T/9f/w/+//9P/3//f/9v/0//j//P/4//f/9v/2//f/9f/7//7/+f8AAAAA+//9//3//f/8//j/+//7//j/+P/3//r//v/+//z/+//9////AAAAAP//AQAEAAYABwAHAAcABwAKAAkABAAEAAEA/v8DAAYAAwAEAAcABQABAAEA/v/9/wAAAAAAAAMAAQABAAMABAAAAP3/AQD+//r/BAAHAAMAAAD//wMABgAAAP3/AAAAAP3/AAABAAAAAwAFAAUABQAAAP3////8//n/9v/x//P/9//y//L/9P/0//j/+v/3//b/8//x//X/+f/4//r//f/+/////v///wIABgALAAoABQAGAAcACgARAA0ACAANAA4ACQAJAAcABQANAA4ACwAKAAkACgAFAAAAAAABAAMAAwACAAUABQAEAAUABAADAAUABQAHAAkACAAFAAQABAACAAUACAADAAEAAwABAP///P/8/////f/9//z/9//5//f/9f/8//v/+//9//f/9///////+v/7/////f/4//n/+//8//r//v8DAAMAAwAAAP//AgADAAoACQD9/wEACwAGAAIACQAQABEAFQAWABIAFAAUABUAFgAPABEAEQAKAA4AEwAUABcAEAAKAAcAAgABAP////8DAAIABAAEAP3/+v/4//L/8v/w//D/9P/0//n///8AAAIAAQD5//L/8P/1//j/9f/7/wEAAgAKABAACQABAPj/8P/x//j/AAACAAAAAAADAA0AEwAJAO7/2f/t/w0AGgAMAN3/zf8IAEoAVAAVAK3/mP/s/xAAyv98/8P/igDUAE8Atv+h/xcAWwD0/4P/o/8VADoAAAD9/z4ASAASAPD/7v/s/+L/2f/p//r/DABnAJoAQQDi/7r/zf8EAAgA/v8AAPj/EAAzADgALAAXABIABQDa/7r/w//3/y0AOQAvAC0ALQAUAOf/yP/I/9P/2v/p/wYAJgA5AC0AFQAFAPf/7f/a/7f/uf/1/ygAHQAOADIAQwAMAMD/nv/E/xIAGAC8/6f/MgCqAHUA8f+3/9T/+v/2/9L/wv/c/w4ANgAwAAoA7//y//7/5f/F/8P/2/8AABQACQD8/wYAGQAEAM//qP+v/9//EAAnABgA/P/4//z/+P/u/+H/4v/b/8z/0P/q/w0AGQAMAPz/4P/U/9n/z//K/9L/4//1////DQAaABMA/P/m/+H/3v/l//X/+v/7//7/DgAgAAsA9v/z/+X/4v/r/+//+f/9/wYAHwAqACYAGAAAAPL/6//t/wAAEAAkADEAIgAZABUABwAKAAwAAQACAAAABwApADoALgAbABIAGAAdAAoA9P/8/xoALwA0ACkAIgApACEACAD5/wIAFAATAAsADgAYABsAGQAYABQADAAEAAQADgAVABEABwAKABoAGQAKAAoADAADAPr/+P/5////FwAlABgADQAAAAAAEQAVABgAGwAUABoAJAAZAAsAEQAfACQAGgAGAAYAEgAVABkAFwAWAB8AFwALAAkABAADAAsAHQAnABsADgAEAAAACAD///L/9f/2////AQD1////BwALAAsA8v/n/+f/4f/q/+b/7f8AAAAACgAIAPL/7P/f/+L/9v/z//L/9/8BAAgA+P/y//L/6f/q/+b/3P/c/+b/8//u/+f/6//v//D/6P/h/+P/7v/5//v///8BAAAA/v/3//j/+//0//T/8v/v//f//P8GAAsABgAHAP//9//3//L/8f/w//j/BQAHAAUAAgADAAMA9v/1//v/+f////////8MABIAEAAPAAkAAgAAAPr/8//9/wwADQAJAAoADgAQAAYA/f/7//3/AgAIAAgAAgACAA4ADQAAAPr//f8GAAEA9v/4//3/BQAEAPj/+//7//n/AQABAAMAAwD3//X//P/7//T/9P/y/+r/+P8AAPb/+v/z//L/+v/w//r/AQD9/wgAAAD4//z/+v8FAAgAAwAIAAIAAgAGAP3/+f/8/wIABAACAAQA///7//v/8f/y//n/9f/z//j/+f/4//n//P/5/+z/5v/m/+n/9P/6/wAAAAD0//P/9P/t//D/8//u//H//v8GAAUABAAAAP//BAD8//b/AAD7//X///8IAAwADAAPAA8AAwD8//7/AAAAAP7/AAACAAIABAAIAAoAAgD5//f/9//1//n/AQAFAAoADwAMAAwACgACAAIAAgD//woAFQASAA4AFgAYABEAFQAQAAUACgAHAAMAEgAcABYAEQAYABcACgAFAAEAAwAKAAkACQAMABMAEwAJAAUA/P/4/wMAAgABAAQACAAUABIACwARAAoAAAAFAAQA//8FAAwADgALAAYACgADAPz/AAD8//3/AQABAA0ADQADAAEAAAABAP3/9f/2//P/9//5//n/AgABAAIA///0//j/9v/v//P/9v/8/wAACAAIAAAAAgD+//b/+f/8////AAACAAMAAQANAA8AAwADAAgACgAGAAUADgAQAA4ADwAUABIABgAFAAkABAALAA8ADwARAA8ADQAEAAAAEAASAAcACQAJAAUABwAHAAoADwALAAgABgD//wAABQAEAAIA/f/8//3/+f/+/wQAAQAAAAEABAADAP3/+P/2//j//P/6//v//P/6//3/+P/r/+z/9//v/+T/7v/z//H/9v/5//b/9P/u/+r/8f/5//v/9v/0//X/9P/0//T/7f/u//H/6//s//T/8//z//X/9P/z/+r/4//n/+r/6P/p/+v/8f/z/+3/8P/y/+z/8P/0/+z/5v/i/+T/6P/r//D/6v/l/+j/5f/k/+r/6f/k/+P/5v/h/9//6//s/+n/8v/w/+7/8//w//L/8f/l/+T/7f/w/+v/5f/r//P/8//y//D/8//3//D/8P/z//L/8f/s/+n/6f/o//X/+//1//T/8v/x//X/9f/6//v/+f/9//7//f/9//n/+P/8//n/+f8CAAQAAAAAAAEABgABAPj//f////j//P8AAAQADQAJAAIAAAD7//7/AwABAAYABwD//wUABQD4//n/AAACAAQAAgAFAAYACgARAAkAAwAFAAAA//8DAAkADwAQABUAGQARAA0ACgADAAkADQAJAAwACwAHAAwAEQAKAAUABwAHAAcACQAHAAsADwARABUACwABAAoADAAFAAEABQAPAA0ADgAQAAYABgALAAoABgAAAAMABQAHAAgACwAQAAkADAAYAA8ACgANABEAFQAIAAIACwARABkAFAASABcADAAHAAgABwAMAAsACQAJAAMAAgAHAAoACAADAAIAAQAAAP//AgAFAAAAAAACAAIAAQD7/wAACQADAAAAAQD7//3/AQAAAAAAAAAAAAEAAQADAAMA//8GAAgAAAAFAAUA/f8EAAoACgAMAAgABgAHAAYABwALAA8ADAAHAAkADAALAA0ADwALAAYACgAOAAwADAAJAAoADwAOAAoACgAMAA0AEQAZABoAFAANAA8AEgANAA8ADgAIAAgABAAGAAgAAAD//wEA///+//r/+//8//3/AAD8//v//v/6//v//P/9//7/+f/4//X/8//5//b/8v/v/+7/+v/+//v/+//3//r//P/0//X/8//v//r//v/8/wAA+//1//j/+v/6//j/+/////n//P8DAAAAAAAEAAEAAAABAAMABgAJAAoAAgD9/wEABgADAAQABwAGAAgACQAHAAwADAALAA4ADgAOAA4AEAAOAAkADAAKAAgADQALAAcACQAIAAUACAAKAAIAAAAFAAQAAgACAAMABAACAAEAAAAAAAUABwAHAAUACAALAAsACwAFAAIABAAAAAEABAAEAAYAAwACAAQAAQD///z/AAAAAP3//v/8//r//f/5//P/8P/x//P/8f/u//H/9//1//L/8v/w//D/7v/r/+v/5//p/+r/6//0//T/8f/1//P/7f/r/+z/6v/t//D/7//1//T/7f/x//P/7f/r/+7/8//z//P/8//2//z//P/9/////f/6//v//v8BAAIABQAKAAwABwADAAQABAD+//v/AgAAAPn/AAACAAEABQAAAAMACAACAAEAAQADAAsACQAFAAQAAQAEAAIA/v8AAAAABAAJAAMABAAJAAUAAgADAAQAAAAAAAAA/f/9////AAAEAAgACgAIAAMABQAEAAQAAwAEAAwADgAOABQAEwARABQAFgAVABIAEgAVABUAEgASABIAFAAYABUAEgAUABQAFAAVABYAFwAZAB0AGwAUABQAFwAWABEADgATABUAFgATABEAFAAOAAkADAAMAA4ADAAIAAkACQAIAAYABAAIAAcABwAKAAcACAAHAAQAAwADAAIA///+/wAAAAD+//z/AQAAAPv////+//7//P/z//X/8//t//L/8f/y//L/7//0//P/8v/0//H/9f/5//L/8v/3//r/+P/7//z/+P/6//r/9//5//n/+//+//z/+P/4//r/9v/3//v/+P/6//v/9v/4//n/9//2//j/+f/y/+7/8f/y//L/8f/x/+//7P/t/+3/7P/q/+f/7P/s/+n/6f/o/+3/8P/u//L/9P/y//X//P/9//z/+//2//D/9P/4//b/9v/7//7///////3/+f/2//f/+//3//n//f/6//7////5//z////9//v/+f/8/wAAAQACAAUABwAHAAQABwALAAoABwAHAAcACAAIAAgACwAJAAcABgADAAQAAwD+//3///8AAAEAAAD9//3//P/9//z/+P/3//r/+v/4//b/+P/6//j/9f/0//L/9P/6//n/+f/9//r/+f/+//z/+//+//7//P/3//n//P/8//7//f/+//7/+v/9/wAAAAD/////AAACAAIAAQACAAIAAgADAAMAAwADAAMAAwACAAQABQAEAAUABgAGAAQAAQAEAAQABAAKAAoACQAOAA8ADgAOABAAEAASABUAEgARABcAFwAVABQAFQAVABIAFAAVABMAFwAVABIAEAAMAAsACwALAAoACQAMAAwABgADAAQAAwD/////AQACAAUABgABAAIABQAGAAMAAAAAAAEA/v/6//n//P/+//z//f/7//b/9//5//j/9//1//T/9v/1//H/8P/z//H/7//y//P/8f/y//X/8v/w//T/9P/u/+//8P/t/+z/6//p/+v/7P/s/+r/6f/r/+v/7P/r/+j/6P/q/+v/6v/n/+r/7v/v//H/7//x//P/8f/w/+//7//z//P/8P/x//T/9v/2//b/+v/7//j/+P/2//b/+v/5//n/+//7//7//v/7//7/AAD//wEAAgABAAAAAAAAAP7//v///wAAAAABAAAAAAAGAAcABQAIAAsADQALAAgACQALAAkABgAHAAkADQAPAA0ADgANAA4AEAAKAAsADgAKAA0ACwAJAA0ADQAQABAADQAQABAADgAIAAYADAAMAAkACgAKAAkABwAIAAgABwAIAAcACQALAAUAAwAGAAQAAQAFAAcABgAEAAEAAQACAAEAAwAEAAMAAQAAAAAA/v/9/wMABAADAAYABQAFAAUAAgACAAEAAgAHAAMABAAJAAcABAACAAQABAAAAAAAAgACAAIAAQAGAAgABAAHAAUAAAABAAAAAQAAAP7/AAABAAEAAwADAAEAAAAAAP///////wAABAABAP7/AAAAAAAAAAD8///////+/wMAAgD+/wAAAgAAAAAAAAD+//3/AAACAAIAAgAFAAYABQAEAP7//f8DAAIAAQAAAAAAAwACAAEAAQACAAQAAwACAAEAAQABAAIABwAGAAIAAwADAAUABwAIAA0ADQAMAA8ADQAMAA4ADQAOAA8AEgATABAAEwAUABAAEwATABQAGAAXABUAFAAQAA8ADAAKAAwADQANAA4ADAAKAAsACQAIAAcABgAIAAEA/f/+//z//P/5//f/+//4//f/9f/y//X/9P/2//b/9P/1//L/8P/y//D/8f/1//T/9P/3//j/9f/y//P/9P/x//D/9P/z//D/8v/z//L/8f/y//P/8P/y//L/7//z//X/8f/3//v/9//2//v////8//z/AAAAAAIABQAEAAUAAwABAAQAAwABAAAA//8AAP///v/+//7/AAAAAP7/AAABAAAAAAABAAMAAgAEAAgACwAOAA0ACgAKAAsADAANAAwACwAPAA0ABwAHAAoADAAOAA0ADwAPAA8AFAAUABQAFAAUABYAFAATABUAEQARABEADwARABEAFAAWABMAFAAUABMAEgAPAA8AEAANAA0ADQANAA8ADAAKAAwADQALAAkACAAHAAcACQAJAAcACwANAA0ACwAKAA4ADwANAAsADAAPAAwACgALAAkABQADAAQABAADAAQABAACAAEA///7//r/+v/2//P/9P/1//b/9f/w//H/8P/v//H/7//s/+v/7v/s/+X/5P/m/+b/5f/k/+b/5v/j/+P/4v/k/+T/4f/j/+X/5//o/+f/6f/q/+b/6P/q/+3/7v/t//H/8v/w//L/8//1//n//P/9////AAAAAAAA//8AAAAA/////////P/8//z//f////v/+f/5//f/9f/z//H/8f/0//f/9f/1//b/9v/3//b/9//8//z//f////3//f/7//v////+//z/+//7//v/+f/5//v/+f/4//n/9v/0//X/9f/4//n/+v/8//r/+f/9//r/+P/9//3/+v/7//v/+v/6//r/+//7//z/+//3//f/+P/3//f/9f/1//j/+P/3//j/9//6//v/+//7//v//v////z//P/8//n/+P/6//7//P/6////AAD9//7/+//6//3/+//6//v/+//6//n//f8AAP3/AAAAAP3/AgAEAP///f/8/wAAAAD8//7/AQAAAAAAAAABAAEAAgADAAQAAwACAAYABgACAAEAAgAFAAcABQAHAAYABQAKAAkABQAHAAoADQAPAA4ADgARABIAEgASABMAFgAWABMAFgAXABIADwAQABEAEAAQABMAFAATABEAEwAYABYAFAAXABgAFwAVABYAGAAXABgAGQAYABkAFgATABMAEgARAA0ADQAMAAsADQAMAAsACwAJAAkACAAFAAQABQAHAAQAAQACAAEAAAD///v//P/7//n/9v/0//b/9v/z//L/8P/x/+//7f/v//H/8v/z//P/9f/2//b/9P/0//b/9P/z//b/9v/0//T/9P/0//P/8P/v//D/8P/v/+3/7v/t/+n/6v/r/+n/6v/n/+T/5f/h/+H/5//l/+b/5//o/+r/6f/r//D/7//w//D/8v/3//j/9//5//r/+v/6//f/+f/7//v/+//6//v//f/+/wAAAQACAAMAAwACAAIAAwAFAAkACgAKAAoACgAJAAcACgALAAgACwALAAcABwAEAAAAAAACAAQAAAD//wIAAAD///7/AAADAAIABQAIAAYABwAHAAgACgAJAAsACwAJAAoACQAEAAUABAABAAIAAwAFAAUAAwACAAAAAQAAAPz//v////7//v/8//n/+f/3//f/9//1//X/9v/1//H/8v/1//f/+P/1//b/+P/2//n/+f/5//v/+v/6//n/+P/6//z/+//6//v//f///wAAAQAEAAQAAgAEAAUAAwACAAQABgACAAMABgAFAAcABgADAAMAAwACAAMAAQABAAAA/v8BAAMAAAAAAAQABgAHAAUABAAFAAMAAgADAAQABQAEAAMAAgACAAIAAQAAAP//AgACAP7//v/+//z/////////AAD//wAAAAAEAAcABQAGAAgABQAEAAMAAgAEAAUABAAEAAQABAACAAEAAAABAAAAAAAAAAAAAAAAAAAA/f/6//z//v/9/wAAAQABAAIAAwADAAIABQAFAAUABwAEAAIABQADAAIAAQAAAAEAAAAAAAEA/f/9/////f/9//z/+v/7//n/+P/4//f/9//2//b/9//3//n/9v/1//r/+v/6//z//f/9//r/+f///wAAAAADAAQABQAFAAIAAgACAAIAAgACAAEAAAABAAEAAAABAAEA/////wEAAAAAAAQABQAFAAYABQAHAAYABAAGAAgACAAJAAwADQAMAAsADAAOABAADwAPABAAEQARABAAEwAVABUAFwAYABcAFgAYABkAFgAXABgAFgAZABoAFgAWABYAFQAWABYAEwAUABUAFgAWABIAEgAVABIAEwAUABQAFQAVABQAEQAPAA0ADAAPAA8ACgAJAAgABgAEAAQABAAAAAIAAQD//wEAAAD//wEAAgAAAP7//f/+//v/+P/5//n/+v/9//n/9//5//j/9//5//r//v/8//n/+v/3//j/+v/5//j/+f/9//z/9//8////+//2//f//f/8//v//f/7//v////+//z//P/7//v/+v/2//f/+v/5//r/+P/2//X/8//2//X/8P/t/+7/8v/v/+z/7//u/+3/7P/s//D/8P/u//H/8//z//L/8f/y//D/8P/0//L/7v/x//H/8f/y//H/8v/y/+7/7f/u/+7/8v/2//n/9//0//f/+f/5//z/+f/2//r//P///wAAAQAEAAUABwAJAAsAEAAOAA8AFwAaABgAGwAeACAAIwAjACEAJAApACsAKAAkACcAKQAkACQAIwAdAB4AGwAUABMAFAASAA8AEAAQAA4ADQALAAcABwAHAAYABQAEAAYACQAHAAcABwAFAAUABwAGAAQAAgACAAEAAAAAAAAA///+//z/+P/4//n/+P/3//P/9P/6//n/9f/2//b/9f/4//n/9//2//r////+//v/+f/5//n/+f/6//n/+v/7//3//v/8////AAD7//j/+//+//3/+v/9/wAAAAAAAAIABAAHAAgACQALAAwADgAOAAwACgAMAAoABQAEAAMAAAACAAEA/v/8//v//P/8//n/9//0//X/9//2//f/9v/2//n/+f/6//r/+//9//3//v/9//z//v/7//z////9//3//v/9//7//v/+/wAAAQAEAAMAAwAGAAYABgAHAAQABwAKAAYABQAGAAgACgAHAAcACQAHAAcABQACAAQAAwACAAQAAgADAAUAAwADAAQAAAAAAAIAAAAAAAMAAAAAAAAAAQD///j//P/6//P/9P/1//T/9P/w//H/8//w//H/8f/s/+j/6P/p/+j/5v/m/+X/5f/j/+L/4P/f/+T/5v/l/+f/6P/o/+j/6P/q/+r/6v/s/+z/7P/u/+7/7//v/+7/7f/u/+3/6f/n/+n/6v/n/+X/5//p/+r/6//r/+//8f/v//D/8//3//b/9f/4//z//P/8//3///////3///8AAAAAAQACAAAAAAACAAMAAgAAAAAAAQABAAAAAAABAAIAAwACAAQABQACAAMAAgAAAAIAAAAAAAIAAQAAAAAA///+//7///////7//v////v/+v/5//f/9//1//P/9f/2//f/9v/y//X/+f/4//v/+v/6//7/AAD+//7/AQADAAIAAgABAAAAAQABAAEAAAABAAYABAACAAMAAgABAAAAAQAAAP//AAAAAAAA//8AAAAAAgAFAAEAAQAGAAYABgAFAAUACgAKAAkACgAJAAsACgAIAAsACwALAAwADQAOAAwACwANAA0ACwAKAAsACgAKAAsACwANAA0ADAAPAA8ADgAPAA8ADwARABEAEQATABUAFQAVABYAFwAUABUAGQAbABoAGgAbABsAHgAfACEAIgAiACgAKwApACoAKwAtAC8ALgAsACsALQAtACoALAAsACwALwAsACoAKQAoACcAJgAkAB8AHwAjACEAIAAhACEAHwAdAB4AHgAcAB8AIgAiACQAIQAbABkAGAAZABYAEwAVABUAEwATABAACgAHAAUAAwAAAP7//f/7//n/+//5//f/9v/z//H/8P/u/+z/6v/q/+v/7P/r/+n/6//q/+n/6v/o/+f/5//o/+3/7P/s//D/7//t/+3/6//o/+j/6v/p/+T/4//k/+T/4//i/+T/5P/h/+H/4//j/+D/4P/i/+D/3//i/+P/5P/j/+L/5f/l/+T/5f/l/+j/6f/r/+z/6v/r/+v/6//u/+3/7//z//L/8//0//T/9v/1//X/9f/0//X/9P/2//f/9//4//n/+//9//z/+//9//7//f/7/wAAAgABAAAAAAAAAP3/+f/9////+//7///////+//7//P/8//v/+P/7/////v8AAAMABQAHAAcABgAFAAQABwAHAAUABQAHAAgABgAIAAcABgAIAAcABQADAAEAAgAAAAAAAAD6//j/+f/6//r/9//1//f/9//z//T/+P/2//P/9f/2//b/9P/0//X/9f/3//T/8P/x//H/8v/y//D/8v/y//L/8v/v//D/8v/u/+7/8f/x//P/9P/y//P/8f/w//L/8f/x//P/9f/5//b/9f/2//b/+P/5//f/+v/7//z//v/8////AAD/////AQACAAEABAAIAAYABgAIAAYAAwADAAcABwAGAAoACQAHAAkACgALAA0ADwAMAAoADQAKAAoADgAJAAkADAAJAAgABwAHAAYAAgADAAUABQAGAAcABwAIAAcACAAJAAkACgAKAAsACgAHAAkADAAKAAoADAALAAsACgAIAAgACAAHAAcABwAHAAgABwAEAAUACAAGAAUABQAFAAUABAACAAIAAgACAAAAAAADAAIAAAABAAIAAQAEAAQABAAEAAQABwAHAAYACAAIAAcABQAGAAcABwAKAAsABgAHAAcABgAHAAcABwAJAAkABwAGAAcABgAIAAgABwAJAAcABQAIAAYAAgAAAAAAAAD//wAAAAD//////f/+//3//P/+//v/+v/8//z/+v/4//r/+//6//f/9v/2//b/9//0//P/9//0//H/9v/3//b/9f/1//f/9P/1//n/9//3//j/9//3//X/9v/4//b/9v/4//n/+v/9//7//f/+//3///8CAAMAAgAEAAYABAAAAAAAAAD//wAAAAD//wAAAAAAAAEAAQD//wAAAwABAAAAAQABAAEAAwADAAUABgAFAAcACAAJAAoACAAFAAMAAgABAAAAAwAEAAIAAwADAAEAAQAAAAAAAAD7//j/+f/6//n/+P/5//v/+f/3//r//v/6//v//v/8//n/+v/7//z//P/9//////8AAAAA//8AAAAA///+//v//f8AAP///f/+/wAAAAD+/wAAAgACAAUABgAEAAMAAwADAAMAAwADAAEAAQABAAAAAAD+//7////9//z//f/8//3//P/7//r/+f/8//z/+v/8//z//f/8//v/+//7//z/+//6//v//P/9//3/+//+/wAA/f8AAAIABAAHAAkABwAGAAcABgADAAIAAwADAAIAAwADAAMAAwACAAQABAADAAQABQAIAAgABgAIAAcABwALAAkACQAKAAkADQANAAwADgAOAA0ADQAMAA0ACwAKAAwACwALAA0ACgAKAA4ADgANABAAEQASABEAEgATABIAEwASABAADgAMAA0ADQAMAAwADAANAAsACAAIAAcABQAFAAQAAwAEAAMAAQACAAIA///8//r/+v/4//j/+v/6//r/+f/2//b/9v/2//b/9P/0//L/9P/4//b/9f/3//j/+f/4//j//P/6//j/+//8//z/+//6//3//P/4//r/+v/4//n/+//7//j/9f/2//b/9P/1//b/9P/y//L/8v/y//H/8f/z//L/8v/0//b/9f/2//f/9v/5//n/9f/3//j/9//5//j/+P/4//j/+f/6//v//P/5//j//P/+//7//v/9//z//P/8//z/+v/6//z/+v/8//3//f///wAAAgAEAAQABAAEAAcACwALAAwACwAKAAoACQAGAAUABQAEAAMABQAFAAUABQADAAMABgAEAAMAAwAAAAAABQAFAAQAAwADAAQAAgADAAUAAgACAAEAAAAAAAAAAAD///3//v/8//r/+//5//v//f/9//3/+//7//v/+f/5//f/9v/2//T/7//t/+z/7P/v/+7/7f/u//D/8f/v/+7/7//u/+7/7v/t/+//8P/x//H/7v/u/+//7f/s/+3/7v/v//D/8P/z//X/9P/0//b/9P/z//T/9P/3//n/+P/5//n/+f/5//f/9v/3//j/+P/4//f/+P/5//r/+f/6//3//v/9//z/AAAEAAQAAgADAAMABAAGAAYABQAFAAYABwAHAAcABwAGAAgACQAHAAYACAAIAAgACAAGAAYACAAHAAcACAAJAAwADAANAA4AEAARABEAEQASABEAEwAWABcAGAAXABcAGgAcABkAFgAYABgAFwAXABUAFQAXABYAEwASABUAFgATABQAFAARAA8ADgAPAAsACgALAAoACgAJAAYABgADAAAAAwADAAQAAwADAAYABAACAAUABQAGAAgACAAJAAkACAAFAAUABQAFAAYACAAHAAYABwAIAAYABQAHAAcABQAFAAUABgAIAAkACAAGAAgABwADAAIABAADAAEABAAGAAMABgAJAAgACAAKAAsACgAJAA4ADwANAA8AEQAPAAoACgAOAAwADAAMAAwADQAKAAoACwAJAAkACQAJAAgABwAHAAYABgAEAAIAAgD///7//////////P/8//3//v///wAAAAAAAP//AQD+//v//v/9//z//f/+/wAA/////wAA/v/9//7//v/9/////f/6//n/9v/1//P/8f/0//P/8v/0//H/8f/y/+//7P/p/+n/6f/m/+f/6f/m/+b/5f/i/+T/4//i/+L/4P/h/+L/4f/j/+X/5//k/+D/5f/l/+L/5f/m/+T/5P/m/+b/5f/l/+f/6f/r/+r/6//q/+r/7f/q/+r/7f/r/+3/7v/s//L/9v/1//f/+v/9//3//f8AAAAAAAAAAP/////+//z/AAAAAP//AAD//wAABQAGAAcACQAKAAwADAANABAADwAOABAAEAASABIAEQARABIAFQAYABcAFwAaABoAFgAWABYAFAAWABgAFQAVABYAFQAVABMAEAATABcAFQAWABoAGgAZABoAGgAaABcAFwAZABgAFwAXABoAGwAaABkAGgAcABoAFwAUABIAEQAOAAsACwAIAAcABgADAAEAAAD///3/+v/7//r/+P/6//j/9//5//b/9f/3//b/9f/3//n/+P/2//b/+P/6//z/+//5//r/+//8//n/9//2//P/9f/3//X/9v/2//f/+P/3//n/+P/0//X/9//3//b/8//z//T/8f/w//D/8f/w/+//8f/v/+3/7v/v/+7/7v/u/+7/7//v/+7/7f/t/+z/6v/s/+3/6//r/+//8f/u/+//8//0//b/9v/3//n/+v/8//3//P8AAAMAAQACAAMAAgAEAAUABAAHAAcABQAGAAUABQAEAAMABQAHAAYABwAGAAYABgAGAAUABgAJAAkACAAJAAoACgANABAADwAPABIAFQAVABQAFQAVABMAEQATABMAEAAPABAADQALAAkABgAJAAcABQAFAAQABgAGAAMAAwABAAAAAgAFAAUAAAABAAUAAwADAAMAAgACAAMAAwACAAAAAQACAAAA//8DAAYAAgACAAMAAwADAAEAAQABAAAAAgABAAAAAgACAAIAAAD//wAAAAAAAAAAAAD/////AQACAP////8AAAAA/v/9/wAA///+/wAAAAABAAIABAAFAAMAAQACAAAAAAABAAAA/P/7//z/+v/3//f/+f/3//T/9v/2//T/9//1//H/8//0//b/9//2//r/+v/5//v/+//7//3////+//z//f8AAP7//f8AAAAA//8AAAAAAQABAAIABAAGAAgACQAJAAkACwAKAAoACQAHAAgABwAEAAYABgADAAMABQAGAAQABQAEAAIABgAEAAIABAACAAEAAQD//////f/8//z//P/8//r//P/7//j/+P/3//f/9//0//b/9f/z//X/9P/1//T/8//1//X/9v/1//X/9//2//b/+P/5//r/+//8//7////+////AgABAAEAAgACAAYABAABAAAA//8AAP7/+v/8//3//P/9//3//f/+//7/AAD///v/+//9//z/+//9//7//f/4//j/9//0//X/9P/1//j/+f/8/wAA//////////////z/+v/6//n/+v/5//v////9//3////9//z//v/9//z///////3//v/+//3//f/8//v/+//8//z/+f/7//v/+P/5//n/+f/6//r/+//7//z//v/+/wAAAAD+//3//P8AAP///P/9//n/+//+//v//P/9//7//v/5//v//f/6//v/+v/8/wAA//8AAAEAAAAAAP7//P/+//3/+/////7/+v/7//3//v/+//z///8AAP//AQACAAMABQAFAAQABQAFAAUABQADAAMAAwABAAIAAgAAAAIAAgAAAAAAAgAHAAYABgAIAAsADgAMAA4AEgARABIAEwATABQAFgAWABUAFgAZABYAFQASAA8AEAAOAA0ACgAHAAgACAAHAAgABgAFAAUAAwACAAEAAQAFAAUABQAGAAgABwAGAAgACwANAA4ADgAQABAADwARABEAEgAUABQAEwASABAAEwASABIAFAARAA4AEAAPAAwACQALAAsACAAIAAcABwAFAAIAAwABAAAAAQD//wAAAwABAAEA///8//3/+v/5//n/9v/5//r/9v/2//j/+v/6//j/+P/3//j/+v/5//n/+//8//3//f/6//v//f/7//f/9v/1//b/+P/3//j/9//1//T/9f/2//b/9v/1//X/9//1//X/9v/1//b/9//1//b/+f/5//r/+//7//z//f/9//7//P/6//z/+//8////AAAAAAIABQAGAAQAAwAFAAIAAgAAAPv//P/+//z/+f/2//b/9v/z//H/8f/y//X/9v/3//v/+//5//r//v/8//r//f/8//z/AAABAAEAAQABAAQAAgACAAQAAgAFAAMAAAAAAAAAAAABAAAAAAABAAQABQAFAAoACgAKAA4AEAARABMAFQAUABIAFQAVABUAGAAVABYAGAAWABMAEAAQAA8ACgAKAAgABgAIAAcABwAIAAcACgAJAAgACgAKAAsACwALAA4ADgANABAAEAAPAA4ADQAPABAADgANAA4AEAAPAAsADAANAAoACwANAAoABgAHAAgABQAFAAQAAQABAAEAAAD//wAAAQABAP//+//8/////f/7//v/+//8//n/9//3//f/+P/3//b/9v/z//L/9P/0//T/8//x//P/9f/y//L/8v/y//b/9f/1//b/9f/3//T/8//2//T/9v/4//b/+P/3//n/+//3//f/+v/4//f/+P/3//j/9v/1//b/9f/2//n/+v/6//n/+f/6//n/+/8AAAEAAAACAAQABAAEAAYABwAFAAUABQAFAAMAAwAHAAcABgAGAAcABgAEAAIAAAD///7//P/9//z/+f/6//v/+v/5//j/+f/6//j/+P/4//r/+//5//r//f/9/wAAAAD+////AAAAAAAA//8AAAAA//////3/+v/8//v/+f/5//r/+//5//j//P/6//n//P/8//z//f/+/wEAAAAAAAEAAgAAAP//AAACAAAAAAACAAEAAwAFAAMAAwAEAAIAAQAAAAEAAQAAAAAAAAAAAAAAAQAAAAAAAAAAAAAAAAAAAAUABgADAAQABQAHAAgABgAHAAoACgAMAAsACwAMAAoADAAKAAcABQAGAAcABgAEAAQABgAHAAYABAADAAEAAgAEAAEA/v///wAA/////wAA///9//7/AAD+////AAAAAAIABQAFAAMAAwACAAMAAwAAAP7/AQAAAP///v/7//v/+v/5//j/9v/3//r/+P/6//r/+v/8//z//P////7/+//8//7//P/7//v/+v/3//T/9P/w/+7/7f/n/+T/4//i/+D/3//e/97/4f/j/+L/4v/j/+T/5//p/+n/6//r/+z/7v/t/+3/7v/v//D/8P/w//L/8v/x//P/8v/x//L/9P/1//X/9f/0//b/+f/5//f/+f/6//v/+v/6//z/+//7//z//P////////8BAAEAAgAEAAMAAwACAAEABgAHAAYACAAIAAgACwAOABAAEAARABYAFwAVABYAFwAXABgAFwAWABcAFwAVABYAFwAXABUAFAATABEAEgASABAAEQASABMAFAAUABYAFgAXABcAFQAWABkAGgAaABsAHgAdABkAGQAZABgAFwAVABQAFAAVABMADwANAA0AEAAQAAwADAANAAwACwANAA4ADAAKAAgABwAJAAgABgAHAAgACQAIAAgACAAGAAYABwAEAAUABAAEAAgABgAFAAYABQAGAAQABQAIAAYABgAHAAYABQAEAAUABQADAAEA////////+//3//f/9//2//T/9P/y//L/8v/v/+7/7v/v/+7/7v/t/+z/6//r/+3/7v/t/+7/7//t/+v/6f/o/+j/5//o/+j/5f/n/+n/5f/m/+X/4//j/+P/5f/l/+P/5f/l/+T/5v/m/+n/7f/t/+3/7f/r/+r/7f/r/+n/6v/p/+j/7P/s/+3/7//w//P/9//5//v/+//6//3//f/7//3/AAAAAAAA//8AAAAA/f/+/////f/9//7//v/8//v/+v/3//b/9f/2//j/+f/5//v//f/9//z//P/9//v//P/+//3///////3//v////3//v8AAAAA/////wEAAQD//wQABwAEAAUABwAHAAcABQAGAAQAAgAEAAMAAwAEAAMABAAEAAMAAQABAAEA/////wMABAADAAQABwAIAAYABgAGAAUACAAJAAkACgAMAA0ADQANAA4ADwAPAA8ADwAOAA0ADQANAAsACQAJAAgABQAGAAYABgAGAAYACAAJAAkADAANAA0ADgAMAAwACwAKAAoACAAKAAsACAAJAAoACwAOAA0ACwAKAAkACgALAAkACQAKAAoACwALAAkABwAJAAoACgAJAAkACQAIAAYABgAFAAUABwAHAAQABgAHAAUABAAEAAMAAQABAAIAAQAEAAgACQAJAAwADQAMAA0ADQALAAwAEQAQAAwADwASABAADwAPAA8ADgAMAAwADAAKAAkACQAIAAYAAgAAAAEAAQACAAMAAgACAAEAAQACAAAA/f/9//3//v/+//3/AAAAAAAAAAAAAAAAAAAAAAAAAAD//wEAAgADAAYABQADAAIAAwACAAAAAwAEAAMABgAIAAcACQAJAAkACAAHAAgACQAKAAsACwALAAsADAALAAoACgAKAAgABwAGAAgABwAGAAgABwAHAAgABwAJAAsADQAPABAADwANAA0ADwAOAA0ADQAOAAsACwANAA0ADAANAA0ADAAMAAwACwAKAAoACwANAA0ADQALAAoACwAKAAkACAAGAAYACAAGAAYABwAHAAgABQADAAMAAwACAAEAAAD+//7//f/6//j/+P/4//f/9v/2//X/9v/2//P/9f/3//f/9//2//f/9//5//r/+P/7//3/+v/6//r/+v/6//r/+f/3//b/9P/y//T/8v/u//D/8v/x//H/7//u/+z/7P/s/+v/6v/q/+r/6//r/+r/6f/o/+r/6P/n/+f/5v/k/+P/4//k/+D/3v/e/9v/2v/d/93/3P/c/93/3P/a/9n/2P/W/9f/1//W/9j/2v/X/9b/1v/V/9f/1//T/9X/2v/b/9z/3//i/+P/5f/n/+j/6P/o/+r/6v/q/+v/6v/q/+v/7P/x//D/8P/1//f/+P/5//j//f8AAAIABQAGAAkACQAIAAsADQANAA4AEAASABMAEgARABEAEQAPAA4ADQAPAA8AEAATABEADgAPAA4ADgAPAA0ADgASABIADwAOABAAEAAPAA8ADgAPABEADwANAA4ADQAOABAADwAPABEADwAQABIADwAOABAADwAOAA0ADAAQABAAEAATABEAEgAVABMAFQAWABUAGAAXABgAFgASABIAEQARABIAEAASABYAEwARABAAEAAQAA0ACwALAAkACQAKAAgACAAJAAgACAAJAAgACQAJAAkACgAKAA0ADgAMAAwADAALAAkABgAHAAcABgAIAAkABwAHAAgACAAIAAcABQAFAAYAAwADAAQAAgADAAMAAgACAAAAAQADAAMABAAEAAMABgAEAAMABAABAAEAAgADAAMAAwAFAAcABwAFAAMAAwAEAAIA///8//3//P/7//v/+f/3//f/9//4//n/9v/1//X/8//x/+3/6//t/+3/6//r/+z/7P/s/+n/5//n/+b/5f/i/9//3//h/+D/3v/g/9//3P/d/93/3P/d/9z/3f/g/9//3f/e/97/3//g/+H/4P/f/+D/4f/g/+H/4v/h/+T/5f/l/+f/6v/r/+3/6f/l/+f/5//p/+r/6f/p/+j/7P/u/+v/7v/v/+3/7//w//D/8P/w//L/8//z//P/9f/5//r//P///wAAAwADAAIABAAFAAcABwAFAAcACQAJAAkACgALAAwADgAMAA0ADQANAA4ADQALAAwADQAQABIAEwAWABYAFgAZABgAGAAaABsAGwAZABgAGAAYABgAFgAXABcAGAAaABcAFwAYABgAGAAXABYAFgAWABYAFAARABIAEQARABAADgAQABAAEAASABEADgAPABAAEQAOAAwADQAPABAAEAANAA0ADgAMAAoACQAIAAkACAAHAAcABAAFAAcABQACAAAA/v/9//3/+//4//j/+v/4//X/9v/2//P/8P/w/+//7f/t/+3/6//p/+n/6P/o/+n/6f/p/+v/7P/s/+3/7v/u//D/8v/z//X/9v/y//L/9P/z//H/8v/0//P/8//2//b/9v/4//r/+f/5//r/+v/6//v//P/+//7//f///wAAAAD//////v/7//n/+f/7//v/+//9//7/AAAAAAMABAAEAAgACAAHAAoADAAQABMAEwAWABgAGQAaABkAGQAaABkAGAAYABkAGgAeAB4AHgAhACAAIQAiAB4AHQAdABwAHQAcAB4AHwAeAB4AGwAWABQAEgAPAA0ADQALAAsADQANAA0ADAALAAwAEAAPAA4AEQASAA8ADwASABEADQAMABAAEAAQAA8ADAALAAoACAAIAAcABwAHAAUABQAEAAMAAQAAAAAAAgAAAAAAAQADAAMAAAD/////AAD///3//f/7//r/+v/2//T/9P/y//H/8//z/+//7//u/+3/7f/t/+z/7v/v/+//7v/u/+//7P/p/+r/6P/n/+j/6P/p/+r/5//n/+n/6v/o/+f/6v/p/+j/6v/r/+r/6v/s/+v/6v/s/+3/6v/t/+7/7P/t/+//7//t/+v/6//s/+z/7P/r/+z/7P/s/+3/7P/t/+//8v/z//L/8v/y//P/8//0//b/9v/5//z/+//8////AAABAAEAAwAGAAcACwAOAAwADQAOAA8AEgASABQAFgAVABYAFQAUABUAFAASABEAEQAPAA8ADwANAAwACwAIAAUABgAHAAYABwAJAAkABgAFAAcABAABAAEAAgADAAEAAAAEAAQAAwAFAAUABAADAAQABgAEAAQABgAFAAUAAwAAAAAAAAD9//7//f/+//7//f/8//3//f/7//v//f/9//v/+//8//3//v//////AAABAAIAAgADAAMABAAEAAQABQAFAAUABgAFAAQABAAFAAUAAwAEAAMAAgAEAAQAAwAEAAUAAwAAAAAAAQD/////AAAAAP//AAACAAEAAgAFAAYABQAGAAYACQAKAAsADAAJAAgACgAJAAgACAAIAAoACgAIAAcABwAGAAYABwAFAAQABwAHAAUABQAGAAgACwANAA0ADAAOAA0ACwAKAAkACQAJAAoACQAIAAgABwAHAAYABgAGAAcACAAIAAcABQAGAAkACAAIAAoABgAFAAcABgAIAAcABQAEAAEAAAD///3//f/7//n/+v/6//r/+//6//f/9v/0//T/9f/1//b/9//2//j/+v/5//r/+f/3//b/9f/3//n/+P/3//f/+P/6//v/+//6//r//P/9//v/+v/7//3//f/7//v//P/6//z////9//7/AAD//wAAAAAAAAAAAgAEAAIAAgADAAIAAgACAAAAAAACAAIAAQABAAIAAAAAAAAA/f/7//v//f/7//z/AAAAAAAAAQAAAAAAAAAAAAIAAQABAAMABQAJAAsACwALAAsADgAOAAoACQAJAAgABwAHAAYABQAFAAcABwAIAAYABQAHAAcABAAEAAUABgAFAAMABQAHAAYABwAFAAYABgAGAAcABQAEAAQAAgACAAAA/f/+//7//f/9//v//P/8//v//f/7//v//v/5//f/+P/2//b/9v/0//T/9P/1//b/9P/x//H/8v/x/+//7//w//D/8f/x//H/8v/z//T/8//x//P/8v/w/+7/7f/t/+3/7v/x//H/8f/w//H/8v/v/+//8f/x//H/7//v//H/8//0//L/8v/y//D/8f/x//L/9P/0//X/9v/2//b/9P/2//f/+P/7//3//v/+////AQABAAMAAwADAAUABQAEAAQAAwAEAAMABAAFAAMABgAHAAcACAAGAAkADAAIAAYACAAJAAkACQAJAAkACgAIAAQAAgADAAIAAgABAAMABQADAAIABAAEAAIAAwAEAAcACAAJAAwADQAOABAAEAAPAA8ADwASABMAEgASABIAEwATABIAEgARABEAEwARAA0ADQALAA0ADQAKAAsADAAMAA4ADAAMAA4ADQANAAwACgAJAAkACQAGAAMAAwABAAAAAQABAAEAAgABAAAA//8AAAAAAAD/////AAAAAP///v8AAAAA/f/+//3//P/+////+//6//n/+P/2//T/9f/1//P/8v/0//T/8//0//f/9v/1//f/9v/4//v/+f/5//r/+//9//3//P/9//7/AQABAAIABAADAAIAAwAEAAIAAAAEAAYABgAHAAcACAAIAAMAAAAAAAAA///9//7///////7/+//5//n/9//2//f/+f/5//r//f////7//f/+/wAAAAABAAEAAQABAAAAAAAAAP///////////v/9//z/+//8//r/+P/4//f/+P/5//j/9v/1//b/9v/0//X/+P/6//f/8//1//f/+P/3//j/+v/4//r/+//7//3/AAAAAAAAAAAAAAAAAgABAAAAAQACAAIAAgADAAQABAAEAAIAAgAAAP//AAACAAAAAAD///7////+//7//P/8/////v/9////AAABAAEAAAABAAIAAwACAAEAAgADAAMAAwAFAAYABwAHAAYABgAIAAYABQAHAAcABQAGAAYABAAFAAUABAAFAAYABgAFAAMABAAEAAMABAAFAAYABwAFAAYABwAIAAgACAAJAAkACQANAA4ADQAOAA8ADQANAA4ADQAMAAsACQAIAAcABgAHAAYABQAFAAQABAAFAAYABgAFAAUABQADAAQABAACAAEAAgACAAAA/v/+//z/+v/7//n/9f/2//f/9P/z//L/8P/v/+7/7v/x/+//7//x//H/8P/w//D/8P/w//D/8f/x//H/8f/w//D/8v/0//X/8//z//X/9f/2//f/+f/6//n/+//8//z//////wAAAQAAAAAAAAAAAAEAAAABAAQABAADAAMAAgADAAUABAAEAAMAAwAHAAcABAAGAAgABgAIAAcABwAKAAsACwALAAkACgALAAoABwAHAAcABAAEAAUABAAGAAYABAADAAIAAwADAAIABAAGAAUABAAFAAcACAAHAAkACQAIAAoACQAJAAoACAAHAAsACwAJAAwADgAMAAsACwAKAAkACgAMAAoACwAOAAkACQANAAoABwAIAAcABQAHAAkABQAEAAYABQAEAAQAAgAFAAcAAwADAAYABQADAAIAAwADAAAAAAD+//7//f/5//n/+v/3//L/8f/x//H/8v/z//L/9f/2//T/8v/0//T/8v/x//L/8P/v//H/8v/v/+3/7P/t/+3/6//v//D/7P/r/+3/7P/t/+3/7f/t/+z/7f/v//D/8//0//T/9f/0//T/+P/3//f/+v/5//r/+v/6//z//P/8/////v/9//////////////////7/AAACAAIAAgAFAAYABwAKAAcABwAKAAgABgAJAAsACwAKAAsADAALAA0ADwAMAAwADgAPAA4ADQANAA8AEQAPAA0ADQANAA4ADQAKAAoACgAKAAsACwAKAAkACQAJAAkABgAEAAYACAAHAAYABAAFAAUABQAHAAcABQAFAAUABgAGAAQABgAEAAIAAwACAAAAAAAAAAEAAAAAAAIAAQAAAAAAAAAAAAAAAQADAAMAAQAAAAEAAAD//////v/8//v//f/9//r/+v/8//v/+f/5//v/+v/5//3//f/8//z/+v/7//v/+v/+//7//f/+//z//P///////f/6//j/+f/6//r/+P/3//j/9//2//f/9f/2//f/9//3//j/+//8//v//P/+//3//f8AAAAAAQADAAQAAgAEAAcABgAEAAQABAAFAAMABAAIAAgACAAJAAkACQAJAAgABwAIAAoACgAKAAsADQALAAoADgAPAA8AEQAQAA8AEgAUABMAEgAQABAAEgARAA8ADwAPABEADwAOABIAFAATABQAFQAYABgAFwAZABgAGAAaABsAGQAXABkAGQAWABgAGQAXABUAFQAXABMADwAPAAwACgAJAAgABwAFAAQAAgAAAP7//P/8//r/+f/6//r/+P/4//f/9P/0//T/8v/y//D/8P/z//L/8f/w//D/8f/x//D/7//v//T/9f/y//L/8P/u/+3/7f/v/+7/6//s/+v/6f/o/+j/6P/m/+X/5v/l/+P/5P/i/97/3P/c/93/3v/e/97/3//e/93/2//b/93/2v/X/9f/2P/X/9j/2v/Y/9n/3P/c/97/4f/j/+P/5f/n/+j/6f/r/+v/7P/s/+v/7f/u/+//8f/w//D/8P/w//L/8//y//X/9f/1//j/9//3//j/9//4//j/9v/2//b/+f/7//r/+//+////AAABAAIAAQADAAMAAQABAAMABQAFAAUACAAIAAkACAAGAAgACAAHAAYABwAHAAgACgAKAAgACQAKAAgABgAIAAwACwAJAAkACgAKAAkACAAIAAgACAAIAAgABwAIAAgABAADAAQABAAFAAYABwAGAAcACAAIAAgACAAJAAkACAAGAAcABwAGAAMAAwAFAAQAAwACAAIAAgADAAQAAgADAAQAAQAAAAAAAgADAAQABAACAAMACQAIAAcACAAGAAUABAACAAMABQAFAAMAAwAEAAQABQAHAAcABQAGAAkACwALAA4AEwAWABQAFAAWABcAGAAXABYAFgAWABcAGAAZABwAHAAbABsAGwAbABsAGgAaABoAGgAZABgAFwAWABYAFQAUABUAFAATABMAEgAUABIADwAQAA0ACwANAAwABwAIAAoABgAHAAoABgAFAAUAAgABAAMABAAGAAUABQAHAAUABAAEAAMABQAHAAUABgAFAAYACQAIAAUAAgAAAAAAAAD8//v/+//4//j/+f/4//n/+f/2//j/+f/3//j/+v/5//j/9//3//b/9P/1//T/8f/w//D/8f/y//H/7//w//H/8f/y//H/8f/x/+3/7f/u/+3/7//v/+7/7//u/+7/7//t/+//8f/x//P/9P/z//X/9//3//n/+P/4//v/+//9//3//P////////8AAAAAAQABAAAAAgAEAAQABAAFAAcACQALAA4ADgAOABEAEAANAA0ADQANAAwADAAOAA4ADAANABAADgAPABAADwAQAA8ADgAQABAADwAQAA8AEAAQABAAEQARAA4ADgAPAAwACQAJAAkABwAFAAIAAQAAAAAAAAAAAP///////////f/9/////f/8//7//v/9//3//f/9//3//f8AAAAAAAAAAAAAAAAAAAAA/v/9//3//v/8//n/+v/6//n/9//4//n/+f/4//v//f/6//r/+//5//j/9//3//b/8v/x//L/8f/z//T/9P/2//b/9v/4//n/+//9//v/+//7//z//P/7//7/AAAAAAIABQAAAAAAAQAAAP///P/9//3/+f/5//n/9//4//f/+P/4//T/9v/4//f/+P/5//j/+P/4//n/+//7//3//f/8//7//f8AAAIAAAABAAIAAgAEAAIAAgAFAAQAAwAFAAUABAAEAAQAAwACAAMAAgABAAMAAwABAAEAAQABAAIAAAD//wAA/v///wEAAQABAAIAAgABAAAAAQACAAMABgAHAAQABAAHAAcABAAGAAUABAAJAAcABQAHAAUABgAHAAUABQAGAAYABQACAAIAAgAAAAAA///9//3//P/6//n/+P/2//f/+P/5//f/+f/6//n/+f/7//z//f/7//v////8//v///8AAAAA///9/wAAAAD//wAA/f/+/wAA/v/+/////v8AAP///v8AAAAA/v8AAAAA//8AAAEAAAD+////AQAAAAAAAgAEAAUABQAGAAgACQAKAAoADQAPAA4ADgAPAA4ADQAPAA8ACwAJAAoACQAJAAsACwAKAAoACgAJAAkABgAEAAUABwAHAAcABgAIAAoACAAIAAkABwAIAAYABQAIAAcABgAEAAQABwAIAAgACQAJAAsACwALAAoABwAJAAgABAAFAAQAAgABAAEAAQAEAAQAAwACAAUABAADAAMAAQABAAEAAQAAAAAAAQACAAAAAAAAAAAAAQAAAAAA///+//3/+v/2//X/9f/1//P/8v/0//T/8f/y//P/8//0//T/8//y//P/9v/1//T/9//2//T/8//y//P/8f/v//D/7//t/+z/7f/u/+3/6//s/+7/7P/r/+3/7//t/+7/8v/1//f/9//5//f/9//5//f/9v/1//T/9v/4//f/8//0//j/9//3//r/+P/5//z//v8AAAEAAgACAAEAAgAFAAUABQAHAAcAAwAEAAUAAwAGAAkACQAJAAoACgALAAoACQAMAAsACgAOABAADwASABUAFwAYABgAGgAZABgAGQAXABkAGgAYABkAGQAXABYAFQAUABEADgANAAsACQAIAAcACAAHAAYABwAKAAwACwALAAsACwAMAAsACgAKAAoACQAGAAUABwAIAAkACQAJAAkACAAJAAkACAAHAAcACAAGAAQABgAFAAIAAgABAAAAAAD////////9//z/+v/7//v/+P/2//f/9f/z//P/8f/w//L/8f/v//D/8f/y//H/8v/1//P/8//1//T/9f/5//n/+P/5//v//P/7//z//f/8//7//v/8//z/+//5//n/+P/3//T/9f/0//H/8//1//X/9f/0//T/9P/1//f/9P/z//b/9//4//v/+//8//3//f/9//3///8AAP7//f///wAA////////AQADAAAAAQADAAQABQAFAAYABQAEAAYABwAFAAUABAADAAMABAAGAAgABgAFAAYABQAFAAMAAQAEAAMAAAAAAAEAAQABAAAAAgAEAAUABAADAAIAAgADAAIABAAGAAQABAAFAAMAAQABAAIAAQAAAAAAAAAAAAAAAQAAAAAAAAAAAP/////9//z/+v/4//j/+P/6//z/+v/4//j/+v/6//b/9//4//b/9//3//X/9f/1//X/9f/0//X/9f/z//H/8f/x//H/8v/z//P/9f/2//X/9P/1//b/9f/2//f/9//2//f/+f/6//v/+//7//v//P/7//v/+v/5//j/9//4//j/+P/5//n/+v/8//v/+v/7//z/+v/7//3//P/+/wEAAgABAAIABAAEAAMAAwADAAEAAAABAAAAAAACAAIAAQABAAAAAQACAAMABAAAAAEABQADAAMAAwADAAQAAgACAAIAAgABAAAAAAD///3//v/9//3//f/8//3//P/9//3/+//9//7//v///wAAAQABAAAAAQADAAUABQAFAAQABAAFAAQAAwABAAAAAQAAAAAAAAAAAP//AAAAAP7//f/9////AAABAAIAAQACAAIAAQACAAIAAAAAAP/////+//z/+v/4//j/+P/1//b/+P/4//f/+P/7//3//f/+////AAAAAAAAAgAEAAUABgAFAAUABgAFAAQABwAGAAUABwAGAAgACgAJAA0AEAAQABIAEwAUABUAGAAbABoAGQAbABwAGgAZABoAGwAcABsAGQAaABsAGwAcAB4AHwAdABwAHQAcAB0AHQAbAB0AHwAaABcAGgAaABcAGAAaABkAGgAZABgAFwAVABMADwAPABEADAALAA0ADQAQABIAEAAQABAAEAARAA8AEAAPAA4ADwAPAAwADAAOAAsACQAKAAcABQAHAAcABgAGAAYABQADAAMAAwABAAMAAwAAAAAAAAD//wAA///8//r//P/9//v/+//7//n/+P/3//X/9//4//j/+P/3//j/9//2//X/8//y//P/8v/z//P/7//v/+7/6v/q/+j/5//o/+b/5P/l/+T/5f/k/+P/4//i/+L/4f/h/+L/4//k/+T/4//i/+T/5f/j/+P/5P/j/+T/5f/l/+n/7P/u/+//8P/y//X/9f/1//X/9//5//v/+v/3//j/+f/3//f/+f/6//n/+//7//n/+f/7//7//v/8/wAAAgACAAMABQAFAAYABgAGAAcACQAKAAkACAAJAAoACQAHAAcACQALAAkACQALAAkACQALAAkABwAHAAgACQAIAAoACgAIAAkABwAHAAkACAAHAAYABwAKAAgABQAFAAUABQADAAAA/////////v/9//3///////7/AAAAAP3//f/+//v/+//8//v/+v/5//r/+//5//n/+v/5//r/+f/4//n/+P/3//f/9v/5//r/+P/5//n/+v/8//z//f///wAAAAAAAP//AAACAAIAAQAAAAEABAACAAAA///8//r/+P/4//n/9//1//b/9//3//f/9//6//z/+v/4//b/9v/2//f/+P/4//v//v8AAAEAAQACAAMABQAIAAcABgAIAAkACQAIAAYABgAGAAYABAAFAAYAAwAEAAQAAgACAAIABAAGAAQAAgAFAAUAAgAAAAAA///+//3//v/8//r/+//7//r/+//7//z//P/6//n/+f/6//r/+f/5//r//P///wAAAAABAAMABAAGAAcABwAHAAgACQAKAAkABwAHAAcACAAHAAcACAAJAAoACgALAA4ADwAMAAwADQAMAAkACAAIAAcABgAGAAQAAQD///z//P/7//z//v/9//3//v/8//3//P/7//7//v///wAAAQADAAQABAAGAAYABgAHAAYAAwACAAEAAgAEAAQABAACAAIABQAFAAUABwAIAAkADAALAAwADgAOABAAEgASABIAEwATABEAEAARABIAEQATABMAEgASABIADQALAAkABgAEAAIAAwAEAAMABAAFAAMAAwABAAAAAAAAAP///f/7//z//P/7//r/+P/3//f/9v/2//f/9//3//b/9P/z//P/8v/y//T/8//x//L/9P/0//L/8f/w/+7/7v/s/+r/6P/n/+f/5v/k/+X/5v/n/+n/6P/o/+n/6P/n/+j/7P/u/+3/7v/t/+z/7v/u//D/9P/y//D/7//t/+z/6//r/+v/6v/r/+n/5//n/+j/6//s/+z/8P/y//L/9v/3//j/9//2//n/+//7//3//////wAAAAAAAAMAAgAAAAAAAAAAAP///f/9//7//v//////////////AAD///3//v/+//7/AAAAAAEABQAGAAYACAAMAAwACwAMAAoACAAJAAoACwALAAwADQANAA4ADAALAA4ADgAPABAADgAOAA8AEAARAA4ADQANAAoACgALAAkABgAGAAcABQAEAAYACAAKAAoACgAMAAwACQAJAAkACQAHAAgACAAIAAgABgADAAQABAACAAAAAgAFAAMAAAAAAAAAAQABAAEAAwADAAAA////////+//5//n/+P/4//f/9f/2//b/+v/8//j/+f/6//r/+//7//z//P/5//r//P/9/////v/8//z//P/8//3//v////////8AAAAAAAACAAIAAgADAAEAAAD//wAAAgABAAAAAgABAAIAAwACAAUABgAEAAYABwAJAAwADAAMAA0ADwARAA8ADgANAAwADAAOAA0ADQAOAA8ADQALAAoACgALAAsACwALAA0AEAAOAAsADAALAAsADQAOAA4ADgAPAA4ADAAMAAwACwALAAwADgAPABAAEwAUABMAFAAVABcAGAAZABoAFwAYABoAGAAYABgAGAAYABYAFAARAA4ADwANAAkACgALAAkABQAFAAYABAADAAMAAQD///3/+//5//j/+P/4//b/9v/2//b/9P/0//X/9P/1//T/8f/x//T/9P/0//T/9v/3//X/9P/0//X/+P/5//n/+v/5//j/+f/5//n/+P/4//n/+P/4//b/9f/2//T/9P/2//X/9f/1//b/9P/x//P/8//y//T/9P/1//f/9//4//r/+//+//3/+v/6//r/+P/4//n/+v/5//j/+v/8//v//P/8//v//P/9//7//v8AAAAAAQAEAAUAAwADAAUABgAIAAgABgAGAAkACgAIAAkACQAGAAcACAAIAAYABQAGAAcABgAHAAYABgAGAAQAAwACAAEAAgAAAP/////9/////v/9/////v8AAAEAAAADAAMAAgAEAAEAAQABAAAAAQAAAAAAAAD///////8AAAEA/v8AAAAA/v/+/wEAAQABAAMABQAEAAQABAAEAAUABwAIAAgACQAIAAkACgAJAAgACAAGAAgACQAIAAUABAAEAAEAAQADAAIAAwADAAIABAAFAAYABQAEAAUAAwAEAAYABwAIAAcABgAHAAgACQAJAAgACgAIAAgACQAHAAcACAAIAAcABwAJAAoACwAMAAwADAANAA0ADAAJAAsACwAKAAkABwAEAAUAAwACAAEAAAABAAAA/f/8//z//v/8//n/+P/4//f/9//2//b/9v/2//f/9//3//X/9v/4//X/9//7//z//f/9//3//f/8//7/+/8=\" type=\"audio/wav\" />\n",
              "                    Your browser does not support the audio element.\n",
              "                </audio>\n",
              "              "
            ]
          },
          "metadata": {},
          "execution_count": 43
        }
      ]
    },
    {
      "cell_type": "markdown",
      "metadata": {
        "id": "xnTXWvV62RqA"
      },
      "source": [
        "（日本語訳注）\n",
        "\n",
        "うーん、全然、うまく推論が合わない。。。"
      ]
    },
    {
      "cell_type": "markdown",
      "metadata": {
        "id": "Nz5cVv6t7e5B"
      },
      "source": [
        "結論\n",
        "----------\n",
        "\n",
        "本チュートリアルではtorchaudioを用いてデータセットをロードし信号をリサンプリングしました。\n",
        "\n",
        "そしてニューラルネットワークを定義し、音声コマンドを認識できるように訓練しました。\n",
        "\n",
        "他にも様々な前処理手法があります。\n",
        "\n",
        "例えばメル周波数ケプストラム係数(MFCC)を用いるとデータセットのサイズを削減することができます。\n",
        "\n",
        "この変換はtorchaudioでは``torchaudio.transforms.MFCC``として実装されています。\n"
      ]
    },
    {
      "cell_type": "markdown",
      "metadata": {
        "id": "cJ0Yelmd2bbv"
      },
      "source": [
        "以上。"
      ]
    }
  ]
}